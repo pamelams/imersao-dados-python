{
  "cells": [
    {
      "cell_type": "markdown",
      "metadata": {
        "id": "bEXnODrs7O5A"
      },
      "source": [
        "# Aula 1 - Análise de Dados com Pandas\n"
      ]
    },
    {
      "cell_type": "code",
      "execution_count": 1,
      "metadata": {
        "id": "ZmAvUfXxv3rk"
      },
      "outputs": [],
      "source": [
        "import pandas as pd"
      ]
    },
    {
      "cell_type": "code",
      "execution_count": 2,
      "metadata": {
        "id": "RFBZu4syv7SL"
      },
      "outputs": [],
      "source": [
        "df = pd.read_csv(\"https://raw.githubusercontent.com/guilhermeonrails/data-jobs/refs/heads/main/salaries.csv\")"
      ]
    },
    {
      "cell_type": "code",
      "execution_count": 3,
      "metadata": {
        "colab": {
          "base_uri": "https://localhost:8080/",
          "height": 206
        },
        "id": "GMfkH19IwLmk",
        "outputId": "b5c74449-e182-45cc-ffbf-b698c9c42ab0"
      },
      "outputs": [
        {
          "data": {
            "application/vnd.microsoft.datawrangler.viewer.v0+json": {
              "columns": [
                {
                  "name": "index",
                  "rawType": "int64",
                  "type": "integer"
                },
                {
                  "name": "work_year",
                  "rawType": "float64",
                  "type": "float"
                },
                {
                  "name": "experience_level",
                  "rawType": "object",
                  "type": "string"
                },
                {
                  "name": "employment_type",
                  "rawType": "object",
                  "type": "string"
                },
                {
                  "name": "job_title",
                  "rawType": "object",
                  "type": "string"
                },
                {
                  "name": "salary",
                  "rawType": "int64",
                  "type": "integer"
                },
                {
                  "name": "salary_currency",
                  "rawType": "object",
                  "type": "string"
                },
                {
                  "name": "salary_in_usd",
                  "rawType": "int64",
                  "type": "integer"
                },
                {
                  "name": "employee_residence",
                  "rawType": "object",
                  "type": "string"
                },
                {
                  "name": "remote_ratio",
                  "rawType": "int64",
                  "type": "integer"
                },
                {
                  "name": "company_location",
                  "rawType": "object",
                  "type": "string"
                },
                {
                  "name": "company_size",
                  "rawType": "object",
                  "type": "string"
                }
              ],
              "ref": "39823c16-80d4-4357-bf71-dec074588130",
              "rows": [
                [
                  "0",
                  "2025.0",
                  "SE",
                  "FT",
                  "Solutions Engineer",
                  "214000",
                  "USD",
                  "214000",
                  "US",
                  "100",
                  "US",
                  "M"
                ],
                [
                  "1",
                  "2025.0",
                  "SE",
                  "FT",
                  "Solutions Engineer",
                  "136000",
                  "USD",
                  "136000",
                  "US",
                  "100",
                  "US",
                  "M"
                ],
                [
                  "2",
                  "2025.0",
                  "MI",
                  "FT",
                  "Data Engineer",
                  "158800",
                  "USD",
                  "158800",
                  "AU",
                  "0",
                  "AU",
                  "M"
                ],
                [
                  "3",
                  "2025.0",
                  "MI",
                  "FT",
                  "Data Engineer",
                  "139200",
                  "USD",
                  "139200",
                  "AU",
                  "0",
                  "AU",
                  "M"
                ],
                [
                  "4",
                  "2025.0",
                  "EN",
                  "FT",
                  "Data Engineer",
                  "90000",
                  "USD",
                  "90000",
                  "US",
                  "0",
                  "US",
                  "M"
                ],
                [
                  "5",
                  "2025.0",
                  "EN",
                  "FT",
                  "Data Engineer",
                  "80000",
                  "USD",
                  "80000",
                  "US",
                  "0",
                  "US",
                  "M"
                ],
                [
                  "6",
                  "2025.0",
                  "SE",
                  "FT",
                  "Data Scientist",
                  "185000",
                  "USD",
                  "185000",
                  "US",
                  "0",
                  "US",
                  "M"
                ],
                [
                  "7",
                  "2025.0",
                  "SE",
                  "FT",
                  "Data Scientist",
                  "148000",
                  "USD",
                  "148000",
                  "US",
                  "0",
                  "US",
                  "M"
                ],
                [
                  "8",
                  "2025.0",
                  "MI",
                  "FT",
                  "Data Scientist",
                  "135000",
                  "USD",
                  "135000",
                  "CA",
                  "0",
                  "CA",
                  "M"
                ],
                [
                  "9",
                  "2025.0",
                  "MI",
                  "FT",
                  "Data Scientist",
                  "108000",
                  "USD",
                  "108000",
                  "CA",
                  "0",
                  "CA",
                  "M"
                ]
              ],
              "shape": {
                "columns": 11,
                "rows": 10
              }
            },
            "text/html": [
              "<div>\n",
              "<style scoped>\n",
              "    .dataframe tbody tr th:only-of-type {\n",
              "        vertical-align: middle;\n",
              "    }\n",
              "\n",
              "    .dataframe tbody tr th {\n",
              "        vertical-align: top;\n",
              "    }\n",
              "\n",
              "    .dataframe thead th {\n",
              "        text-align: right;\n",
              "    }\n",
              "</style>\n",
              "<table border=\"1\" class=\"dataframe\">\n",
              "  <thead>\n",
              "    <tr style=\"text-align: right;\">\n",
              "      <th></th>\n",
              "      <th>work_year</th>\n",
              "      <th>experience_level</th>\n",
              "      <th>employment_type</th>\n",
              "      <th>job_title</th>\n",
              "      <th>salary</th>\n",
              "      <th>salary_currency</th>\n",
              "      <th>salary_in_usd</th>\n",
              "      <th>employee_residence</th>\n",
              "      <th>remote_ratio</th>\n",
              "      <th>company_location</th>\n",
              "      <th>company_size</th>\n",
              "    </tr>\n",
              "  </thead>\n",
              "  <tbody>\n",
              "    <tr>\n",
              "      <th>0</th>\n",
              "      <td>2025.0</td>\n",
              "      <td>SE</td>\n",
              "      <td>FT</td>\n",
              "      <td>Solutions Engineer</td>\n",
              "      <td>214000</td>\n",
              "      <td>USD</td>\n",
              "      <td>214000</td>\n",
              "      <td>US</td>\n",
              "      <td>100</td>\n",
              "      <td>US</td>\n",
              "      <td>M</td>\n",
              "    </tr>\n",
              "    <tr>\n",
              "      <th>1</th>\n",
              "      <td>2025.0</td>\n",
              "      <td>SE</td>\n",
              "      <td>FT</td>\n",
              "      <td>Solutions Engineer</td>\n",
              "      <td>136000</td>\n",
              "      <td>USD</td>\n",
              "      <td>136000</td>\n",
              "      <td>US</td>\n",
              "      <td>100</td>\n",
              "      <td>US</td>\n",
              "      <td>M</td>\n",
              "    </tr>\n",
              "    <tr>\n",
              "      <th>2</th>\n",
              "      <td>2025.0</td>\n",
              "      <td>MI</td>\n",
              "      <td>FT</td>\n",
              "      <td>Data Engineer</td>\n",
              "      <td>158800</td>\n",
              "      <td>USD</td>\n",
              "      <td>158800</td>\n",
              "      <td>AU</td>\n",
              "      <td>0</td>\n",
              "      <td>AU</td>\n",
              "      <td>M</td>\n",
              "    </tr>\n",
              "    <tr>\n",
              "      <th>3</th>\n",
              "      <td>2025.0</td>\n",
              "      <td>MI</td>\n",
              "      <td>FT</td>\n",
              "      <td>Data Engineer</td>\n",
              "      <td>139200</td>\n",
              "      <td>USD</td>\n",
              "      <td>139200</td>\n",
              "      <td>AU</td>\n",
              "      <td>0</td>\n",
              "      <td>AU</td>\n",
              "      <td>M</td>\n",
              "    </tr>\n",
              "    <tr>\n",
              "      <th>4</th>\n",
              "      <td>2025.0</td>\n",
              "      <td>EN</td>\n",
              "      <td>FT</td>\n",
              "      <td>Data Engineer</td>\n",
              "      <td>90000</td>\n",
              "      <td>USD</td>\n",
              "      <td>90000</td>\n",
              "      <td>US</td>\n",
              "      <td>0</td>\n",
              "      <td>US</td>\n",
              "      <td>M</td>\n",
              "    </tr>\n",
              "    <tr>\n",
              "      <th>5</th>\n",
              "      <td>2025.0</td>\n",
              "      <td>EN</td>\n",
              "      <td>FT</td>\n",
              "      <td>Data Engineer</td>\n",
              "      <td>80000</td>\n",
              "      <td>USD</td>\n",
              "      <td>80000</td>\n",
              "      <td>US</td>\n",
              "      <td>0</td>\n",
              "      <td>US</td>\n",
              "      <td>M</td>\n",
              "    </tr>\n",
              "    <tr>\n",
              "      <th>6</th>\n",
              "      <td>2025.0</td>\n",
              "      <td>SE</td>\n",
              "      <td>FT</td>\n",
              "      <td>Data Scientist</td>\n",
              "      <td>185000</td>\n",
              "      <td>USD</td>\n",
              "      <td>185000</td>\n",
              "      <td>US</td>\n",
              "      <td>0</td>\n",
              "      <td>US</td>\n",
              "      <td>M</td>\n",
              "    </tr>\n",
              "    <tr>\n",
              "      <th>7</th>\n",
              "      <td>2025.0</td>\n",
              "      <td>SE</td>\n",
              "      <td>FT</td>\n",
              "      <td>Data Scientist</td>\n",
              "      <td>148000</td>\n",
              "      <td>USD</td>\n",
              "      <td>148000</td>\n",
              "      <td>US</td>\n",
              "      <td>0</td>\n",
              "      <td>US</td>\n",
              "      <td>M</td>\n",
              "    </tr>\n",
              "    <tr>\n",
              "      <th>8</th>\n",
              "      <td>2025.0</td>\n",
              "      <td>MI</td>\n",
              "      <td>FT</td>\n",
              "      <td>Data Scientist</td>\n",
              "      <td>135000</td>\n",
              "      <td>USD</td>\n",
              "      <td>135000</td>\n",
              "      <td>CA</td>\n",
              "      <td>0</td>\n",
              "      <td>CA</td>\n",
              "      <td>M</td>\n",
              "    </tr>\n",
              "    <tr>\n",
              "      <th>9</th>\n",
              "      <td>2025.0</td>\n",
              "      <td>MI</td>\n",
              "      <td>FT</td>\n",
              "      <td>Data Scientist</td>\n",
              "      <td>108000</td>\n",
              "      <td>USD</td>\n",
              "      <td>108000</td>\n",
              "      <td>CA</td>\n",
              "      <td>0</td>\n",
              "      <td>CA</td>\n",
              "      <td>M</td>\n",
              "    </tr>\n",
              "  </tbody>\n",
              "</table>\n",
              "</div>"
            ],
            "text/plain": [
              "   work_year experience_level employment_type           job_title  salary  \\\n",
              "0     2025.0               SE              FT  Solutions Engineer  214000   \n",
              "1     2025.0               SE              FT  Solutions Engineer  136000   \n",
              "2     2025.0               MI              FT       Data Engineer  158800   \n",
              "3     2025.0               MI              FT       Data Engineer  139200   \n",
              "4     2025.0               EN              FT       Data Engineer   90000   \n",
              "5     2025.0               EN              FT       Data Engineer   80000   \n",
              "6     2025.0               SE              FT      Data Scientist  185000   \n",
              "7     2025.0               SE              FT      Data Scientist  148000   \n",
              "8     2025.0               MI              FT      Data Scientist  135000   \n",
              "9     2025.0               MI              FT      Data Scientist  108000   \n",
              "\n",
              "  salary_currency  salary_in_usd employee_residence  remote_ratio  \\\n",
              "0             USD         214000                 US           100   \n",
              "1             USD         136000                 US           100   \n",
              "2             USD         158800                 AU             0   \n",
              "3             USD         139200                 AU             0   \n",
              "4             USD          90000                 US             0   \n",
              "5             USD          80000                 US             0   \n",
              "6             USD         185000                 US             0   \n",
              "7             USD         148000                 US             0   \n",
              "8             USD         135000                 CA             0   \n",
              "9             USD         108000                 CA             0   \n",
              "\n",
              "  company_location company_size  \n",
              "0               US            M  \n",
              "1               US            M  \n",
              "2               AU            M  \n",
              "3               AU            M  \n",
              "4               US            M  \n",
              "5               US            M  \n",
              "6               US            M  \n",
              "7               US            M  \n",
              "8               CA            M  \n",
              "9               CA            M  "
            ]
          },
          "execution_count": 3,
          "metadata": {},
          "output_type": "execute_result"
        }
      ],
      "source": [
        "df.head(10)"
      ]
    },
    {
      "cell_type": "code",
      "execution_count": 4,
      "metadata": {
        "colab": {
          "base_uri": "https://localhost:8080/"
        },
        "id": "o0hh5wZAwM8u",
        "outputId": "59a45728-af97-4c0c-a311-b01622c4cfa0"
      },
      "outputs": [
        {
          "name": "stdout",
          "output_type": "stream",
          "text": [
            "<class 'pandas.core.frame.DataFrame'>\n",
            "RangeIndex: 133349 entries, 0 to 133348\n",
            "Data columns (total 11 columns):\n",
            " #   Column              Non-Null Count   Dtype  \n",
            "---  ------              --------------   -----  \n",
            " 0   work_year           133339 non-null  float64\n",
            " 1   experience_level    133349 non-null  object \n",
            " 2   employment_type     133349 non-null  object \n",
            " 3   job_title           133349 non-null  object \n",
            " 4   salary              133349 non-null  int64  \n",
            " 5   salary_currency     133349 non-null  object \n",
            " 6   salary_in_usd       133349 non-null  int64  \n",
            " 7   employee_residence  133349 non-null  object \n",
            " 8   remote_ratio        133349 non-null  int64  \n",
            " 9   company_location    133349 non-null  object \n",
            " 10  company_size        133349 non-null  object \n",
            "dtypes: float64(1), int64(3), object(7)\n",
            "memory usage: 11.2+ MB\n"
          ]
        }
      ],
      "source": [
        "df.info()"
      ]
    },
    {
      "cell_type": "code",
      "execution_count": 5,
      "metadata": {
        "colab": {
          "base_uri": "https://localhost:8080/",
          "height": 300
        },
        "id": "wptuXbmBwZez",
        "outputId": "3d893d1a-5ed2-4f32-ffbe-0e680c1bb518"
      },
      "outputs": [
        {
          "data": {
            "application/vnd.microsoft.datawrangler.viewer.v0+json": {
              "columns": [
                {
                  "name": "index",
                  "rawType": "object",
                  "type": "string"
                },
                {
                  "name": "work_year",
                  "rawType": "float64",
                  "type": "float"
                },
                {
                  "name": "salary",
                  "rawType": "float64",
                  "type": "float"
                },
                {
                  "name": "salary_in_usd",
                  "rawType": "float64",
                  "type": "float"
                },
                {
                  "name": "remote_ratio",
                  "rawType": "float64",
                  "type": "float"
                }
              ],
              "ref": "33376e57-efaf-44a5-bebb-13d8b6e7c01a",
              "rows": [
                [
                  "count",
                  "133339.0",
                  "133349.0",
                  "133349.0",
                  "133349.0"
                ],
                [
                  "mean",
                  "2024.3587697522855",
                  "163283.32258959571",
                  "157617.27209802848",
                  "20.905668583941388"
                ],
                [
                  "std",
                  "0.6806266087848142",
                  "217386.02157404198",
                  "74288.3630973623",
                  "40.590044190081535"
                ],
                [
                  "min",
                  "2020.0",
                  "14000.0",
                  "15000.0",
                  "0.0"
                ],
                [
                  "25%",
                  "2024.0",
                  "106020.0",
                  "106000.0",
                  "0.0"
                ],
                [
                  "50%",
                  "2024.0",
                  "147000.0",
                  "146206.0",
                  "0.0"
                ],
                [
                  "75%",
                  "2025.0",
                  "199000.0",
                  "198000.0",
                  "0.0"
                ],
                [
                  "max",
                  "2025.0",
                  "30400000.0",
                  "800000.0",
                  "100.0"
                ]
              ],
              "shape": {
                "columns": 4,
                "rows": 8
              }
            },
            "text/html": [
              "<div>\n",
              "<style scoped>\n",
              "    .dataframe tbody tr th:only-of-type {\n",
              "        vertical-align: middle;\n",
              "    }\n",
              "\n",
              "    .dataframe tbody tr th {\n",
              "        vertical-align: top;\n",
              "    }\n",
              "\n",
              "    .dataframe thead th {\n",
              "        text-align: right;\n",
              "    }\n",
              "</style>\n",
              "<table border=\"1\" class=\"dataframe\">\n",
              "  <thead>\n",
              "    <tr style=\"text-align: right;\">\n",
              "      <th></th>\n",
              "      <th>work_year</th>\n",
              "      <th>salary</th>\n",
              "      <th>salary_in_usd</th>\n",
              "      <th>remote_ratio</th>\n",
              "    </tr>\n",
              "  </thead>\n",
              "  <tbody>\n",
              "    <tr>\n",
              "      <th>count</th>\n",
              "      <td>133339.000000</td>\n",
              "      <td>1.333490e+05</td>\n",
              "      <td>133349.000000</td>\n",
              "      <td>133349.000000</td>\n",
              "    </tr>\n",
              "    <tr>\n",
              "      <th>mean</th>\n",
              "      <td>2024.358770</td>\n",
              "      <td>1.632833e+05</td>\n",
              "      <td>157617.272098</td>\n",
              "      <td>20.905669</td>\n",
              "    </tr>\n",
              "    <tr>\n",
              "      <th>std</th>\n",
              "      <td>0.680627</td>\n",
              "      <td>2.173860e+05</td>\n",
              "      <td>74288.363097</td>\n",
              "      <td>40.590044</td>\n",
              "    </tr>\n",
              "    <tr>\n",
              "      <th>min</th>\n",
              "      <td>2020.000000</td>\n",
              "      <td>1.400000e+04</td>\n",
              "      <td>15000.000000</td>\n",
              "      <td>0.000000</td>\n",
              "    </tr>\n",
              "    <tr>\n",
              "      <th>25%</th>\n",
              "      <td>2024.000000</td>\n",
              "      <td>1.060200e+05</td>\n",
              "      <td>106000.000000</td>\n",
              "      <td>0.000000</td>\n",
              "    </tr>\n",
              "    <tr>\n",
              "      <th>50%</th>\n",
              "      <td>2024.000000</td>\n",
              "      <td>1.470000e+05</td>\n",
              "      <td>146206.000000</td>\n",
              "      <td>0.000000</td>\n",
              "    </tr>\n",
              "    <tr>\n",
              "      <th>75%</th>\n",
              "      <td>2025.000000</td>\n",
              "      <td>1.990000e+05</td>\n",
              "      <td>198000.000000</td>\n",
              "      <td>0.000000</td>\n",
              "    </tr>\n",
              "    <tr>\n",
              "      <th>max</th>\n",
              "      <td>2025.000000</td>\n",
              "      <td>3.040000e+07</td>\n",
              "      <td>800000.000000</td>\n",
              "      <td>100.000000</td>\n",
              "    </tr>\n",
              "  </tbody>\n",
              "</table>\n",
              "</div>"
            ],
            "text/plain": [
              "           work_year        salary  salary_in_usd   remote_ratio\n",
              "count  133339.000000  1.333490e+05  133349.000000  133349.000000\n",
              "mean     2024.358770  1.632833e+05  157617.272098      20.905669\n",
              "std         0.680627  2.173860e+05   74288.363097      40.590044\n",
              "min      2020.000000  1.400000e+04   15000.000000       0.000000\n",
              "25%      2024.000000  1.060200e+05  106000.000000       0.000000\n",
              "50%      2024.000000  1.470000e+05  146206.000000       0.000000\n",
              "75%      2025.000000  1.990000e+05  198000.000000       0.000000\n",
              "max      2025.000000  3.040000e+07  800000.000000     100.000000"
            ]
          },
          "execution_count": 5,
          "metadata": {},
          "output_type": "execute_result"
        }
      ],
      "source": [
        "df.describe()"
      ]
    },
    {
      "cell_type": "code",
      "execution_count": 7,
      "metadata": {
        "colab": {
          "base_uri": "https://localhost:8080/"
        },
        "id": "yZstKUdN0M4Y",
        "outputId": "9bf5d0dd-c672-438b-802a-84e97e08d11a"
      },
      "outputs": [
        {
          "data": {
            "text/plain": [
              "(133349, 11)"
            ]
          },
          "execution_count": 7,
          "metadata": {},
          "output_type": "execute_result"
        }
      ],
      "source": [
        "df.shape"
      ]
    },
    {
      "cell_type": "code",
      "execution_count": 4,
      "metadata": {
        "colab": {
          "base_uri": "https://localhost:8080/"
        },
        "id": "MDABm-ES0RLe",
        "outputId": "36127e65-27f4-4412-c371-e966711bab82"
      },
      "outputs": [
        {
          "name": "stdout",
          "output_type": "stream",
          "text": [
            "Linhas: 133349\n",
            "Colunas: 11\n"
          ]
        }
      ],
      "source": [
        "linhas, colunas = df.shape[0], df.shape[1]\n",
        "print('Linhas:', linhas)\n",
        "print('Colunas:', colunas)"
      ]
    },
    {
      "cell_type": "code",
      "execution_count": 9,
      "metadata": {
        "colab": {
          "base_uri": "https://localhost:8080/"
        },
        "id": "50tKfITQwe97",
        "outputId": "f59beed0-ea63-4f6f-99ba-93fa8a0a1515"
      },
      "outputs": [
        {
          "data": {
            "text/plain": [
              "Index(['work_year', 'experience_level', 'employment_type', 'job_title',\n",
              "       'salary', 'salary_currency', 'salary_in_usd', 'employee_residence',\n",
              "       'remote_ratio', 'company_location', 'company_size'],\n",
              "      dtype='object')"
            ]
          },
          "execution_count": 9,
          "metadata": {},
          "output_type": "execute_result"
        }
      ],
      "source": [
        "df.columns"
      ]
    },
    {
      "cell_type": "markdown",
      "metadata": {
        "id": "ZHUv0vzWMAMZ"
      },
      "source": [
        "### Renomeando as colunas do DataFrame"
      ]
    },
    {
      "cell_type": "code",
      "execution_count": 5,
      "metadata": {
        "colab": {
          "base_uri": "https://localhost:8080/",
          "height": 206
        },
        "id": "t4TR1wP0ysJ3",
        "outputId": "d4c63273-ca76-4d4c-c1b2-42774de7822b"
      },
      "outputs": [
        {
          "data": {
            "application/vnd.microsoft.datawrangler.viewer.v0+json": {
              "columns": [
                {
                  "name": "index",
                  "rawType": "int64",
                  "type": "integer"
                },
                {
                  "name": "ano",
                  "rawType": "float64",
                  "type": "float"
                },
                {
                  "name": "senioridade",
                  "rawType": "object",
                  "type": "string"
                },
                {
                  "name": "contrato",
                  "rawType": "object",
                  "type": "string"
                },
                {
                  "name": "cargo",
                  "rawType": "object",
                  "type": "string"
                },
                {
                  "name": "salario",
                  "rawType": "int64",
                  "type": "integer"
                },
                {
                  "name": "moeda",
                  "rawType": "object",
                  "type": "string"
                },
                {
                  "name": "usd",
                  "rawType": "int64",
                  "type": "integer"
                },
                {
                  "name": "residencia",
                  "rawType": "object",
                  "type": "string"
                },
                {
                  "name": "remoto",
                  "rawType": "int64",
                  "type": "integer"
                },
                {
                  "name": "empresa",
                  "rawType": "object",
                  "type": "string"
                },
                {
                  "name": "tamanho_empresa",
                  "rawType": "object",
                  "type": "string"
                }
              ],
              "ref": "21858988-ad55-4c2e-b016-1e8875ec2857",
              "rows": [
                [
                  "0",
                  "2025.0",
                  "SE",
                  "FT",
                  "Solutions Engineer",
                  "214000",
                  "USD",
                  "214000",
                  "US",
                  "100",
                  "US",
                  "M"
                ],
                [
                  "1",
                  "2025.0",
                  "SE",
                  "FT",
                  "Solutions Engineer",
                  "136000",
                  "USD",
                  "136000",
                  "US",
                  "100",
                  "US",
                  "M"
                ],
                [
                  "2",
                  "2025.0",
                  "MI",
                  "FT",
                  "Data Engineer",
                  "158800",
                  "USD",
                  "158800",
                  "AU",
                  "0",
                  "AU",
                  "M"
                ],
                [
                  "3",
                  "2025.0",
                  "MI",
                  "FT",
                  "Data Engineer",
                  "139200",
                  "USD",
                  "139200",
                  "AU",
                  "0",
                  "AU",
                  "M"
                ],
                [
                  "4",
                  "2025.0",
                  "EN",
                  "FT",
                  "Data Engineer",
                  "90000",
                  "USD",
                  "90000",
                  "US",
                  "0",
                  "US",
                  "M"
                ]
              ],
              "shape": {
                "columns": 11,
                "rows": 5
              }
            },
            "text/html": [
              "<div>\n",
              "<style scoped>\n",
              "    .dataframe tbody tr th:only-of-type {\n",
              "        vertical-align: middle;\n",
              "    }\n",
              "\n",
              "    .dataframe tbody tr th {\n",
              "        vertical-align: top;\n",
              "    }\n",
              "\n",
              "    .dataframe thead th {\n",
              "        text-align: right;\n",
              "    }\n",
              "</style>\n",
              "<table border=\"1\" class=\"dataframe\">\n",
              "  <thead>\n",
              "    <tr style=\"text-align: right;\">\n",
              "      <th></th>\n",
              "      <th>ano</th>\n",
              "      <th>senioridade</th>\n",
              "      <th>contrato</th>\n",
              "      <th>cargo</th>\n",
              "      <th>salario</th>\n",
              "      <th>moeda</th>\n",
              "      <th>usd</th>\n",
              "      <th>residencia</th>\n",
              "      <th>remoto</th>\n",
              "      <th>empresa</th>\n",
              "      <th>tamanho_empresa</th>\n",
              "    </tr>\n",
              "  </thead>\n",
              "  <tbody>\n",
              "    <tr>\n",
              "      <th>0</th>\n",
              "      <td>2025.0</td>\n",
              "      <td>SE</td>\n",
              "      <td>FT</td>\n",
              "      <td>Solutions Engineer</td>\n",
              "      <td>214000</td>\n",
              "      <td>USD</td>\n",
              "      <td>214000</td>\n",
              "      <td>US</td>\n",
              "      <td>100</td>\n",
              "      <td>US</td>\n",
              "      <td>M</td>\n",
              "    </tr>\n",
              "    <tr>\n",
              "      <th>1</th>\n",
              "      <td>2025.0</td>\n",
              "      <td>SE</td>\n",
              "      <td>FT</td>\n",
              "      <td>Solutions Engineer</td>\n",
              "      <td>136000</td>\n",
              "      <td>USD</td>\n",
              "      <td>136000</td>\n",
              "      <td>US</td>\n",
              "      <td>100</td>\n",
              "      <td>US</td>\n",
              "      <td>M</td>\n",
              "    </tr>\n",
              "    <tr>\n",
              "      <th>2</th>\n",
              "      <td>2025.0</td>\n",
              "      <td>MI</td>\n",
              "      <td>FT</td>\n",
              "      <td>Data Engineer</td>\n",
              "      <td>158800</td>\n",
              "      <td>USD</td>\n",
              "      <td>158800</td>\n",
              "      <td>AU</td>\n",
              "      <td>0</td>\n",
              "      <td>AU</td>\n",
              "      <td>M</td>\n",
              "    </tr>\n",
              "    <tr>\n",
              "      <th>3</th>\n",
              "      <td>2025.0</td>\n",
              "      <td>MI</td>\n",
              "      <td>FT</td>\n",
              "      <td>Data Engineer</td>\n",
              "      <td>139200</td>\n",
              "      <td>USD</td>\n",
              "      <td>139200</td>\n",
              "      <td>AU</td>\n",
              "      <td>0</td>\n",
              "      <td>AU</td>\n",
              "      <td>M</td>\n",
              "    </tr>\n",
              "    <tr>\n",
              "      <th>4</th>\n",
              "      <td>2025.0</td>\n",
              "      <td>EN</td>\n",
              "      <td>FT</td>\n",
              "      <td>Data Engineer</td>\n",
              "      <td>90000</td>\n",
              "      <td>USD</td>\n",
              "      <td>90000</td>\n",
              "      <td>US</td>\n",
              "      <td>0</td>\n",
              "      <td>US</td>\n",
              "      <td>M</td>\n",
              "    </tr>\n",
              "  </tbody>\n",
              "</table>\n",
              "</div>"
            ],
            "text/plain": [
              "      ano senioridade contrato               cargo  salario moeda     usd  \\\n",
              "0  2025.0          SE       FT  Solutions Engineer   214000   USD  214000   \n",
              "1  2025.0          SE       FT  Solutions Engineer   136000   USD  136000   \n",
              "2  2025.0          MI       FT       Data Engineer   158800   USD  158800   \n",
              "3  2025.0          MI       FT       Data Engineer   139200   USD  139200   \n",
              "4  2025.0          EN       FT       Data Engineer    90000   USD   90000   \n",
              "\n",
              "  residencia  remoto empresa tamanho_empresa  \n",
              "0         US     100      US               M  \n",
              "1         US     100      US               M  \n",
              "2         AU       0      AU               M  \n",
              "3         AU       0      AU               M  \n",
              "4         US       0      US               M  "
            ]
          },
          "execution_count": 5,
          "metadata": {},
          "output_type": "execute_result"
        }
      ],
      "source": [
        "# Dicionário de renomeação\n",
        "novos_nomes = {\n",
        "    'work_year': 'ano',\n",
        "    'experience_level': 'senioridade',\n",
        "    'employment_type': 'contrato',\n",
        "    'job_title': 'cargo',\n",
        "    'salary': 'salario',\n",
        "    'salary_currency': 'moeda',\n",
        "    'salary_in_usd': 'usd',\n",
        "    'employee_residence': 'residencia',\n",
        "    'remote_ratio': 'remoto',\n",
        "    'company_location': 'empresa',\n",
        "    'company_size': 'tamanho_empresa'\n",
        "}\n",
        "\n",
        "# Aplicando renomeação\n",
        "df.rename(columns=novos_nomes, inplace=True)\n",
        "\n",
        "# Verificando resultado\n",
        "df.head()"
      ]
    },
    {
      "cell_type": "markdown",
      "metadata": {
        "id": "_mpHEonFMFxX"
      },
      "source": [
        "### Analisando quais sãos as categorias das colunas categóricas"
      ]
    },
    {
      "cell_type": "markdown",
      "metadata": {
        "id": "cF4cKLZ-MZgB"
      },
      "source": [
        "#### Nível de senioridade"
      ]
    },
    {
      "cell_type": "code",
      "execution_count": 6,
      "metadata": {
        "colab": {
          "base_uri": "https://localhost:8080/",
          "height": 241
        },
        "id": "0XA0Gu3fyw25",
        "outputId": "a6f13da4-69ba-4cf4-ec62-3b7911322617"
      },
      "outputs": [
        {
          "data": {
            "application/vnd.microsoft.datawrangler.viewer.v0+json": {
              "columns": [
                {
                  "name": "index",
                  "rawType": "object",
                  "type": "string"
                },
                {
                  "name": "senioridade",
                  "rawType": "int64",
                  "type": "integer"
                }
              ],
              "ref": "783b7d51-66e0-4094-ac6d-5b4e8cb66d89",
              "rows": [
                [
                  "SE",
                  "77241"
                ],
                [
                  "MI",
                  "40465"
                ],
                [
                  "EN",
                  "12443"
                ],
                [
                  "EX",
                  "3200"
                ]
              ],
              "shape": {
                "columns": 1,
                "rows": 4
              }
            },
            "text/plain": [
              "SE    77241\n",
              "MI    40465\n",
              "EN    12443\n",
              "EX     3200\n",
              "Name: senioridade, dtype: int64"
            ]
          },
          "execution_count": 6,
          "metadata": {},
          "output_type": "execute_result"
        }
      ],
      "source": [
        "# O método .value_counts() serve para contar quantas vezes cada valor único aparece em uma coluna.\n",
        "df['senioridade'].value_counts()"
      ]
    },
    {
      "cell_type": "markdown",
      "metadata": {
        "id": "jmPdIrIH1X2R"
      },
      "source": [
        "| Sigla | Significado | Descrição                                 |\n",
        "|-------|-------------|--------------------------------------------|\n",
        "| SE    | Senior      | Profissional experiente (nível sênior)     |\n",
        "| MI    | Mid         | Nível intermediário                        |\n",
        "| EN    | Entry       | Iniciante ou júnior (entry-level)          |\n",
        "| EX    | Executive   | Executivo, liderança sênior (C-Level)      |\n"
      ]
    },
    {
      "cell_type": "markdown",
      "metadata": {
        "id": "ULdAvyEbMd1-"
      },
      "source": [
        "#### Tipo de contrato"
      ]
    },
    {
      "cell_type": "code",
      "execution_count": 12,
      "metadata": {
        "colab": {
          "base_uri": "https://localhost:8080/",
          "height": 241
        },
        "id": "tZTJ-A7mz_Uy",
        "outputId": "2e5a87b8-32db-49fc-838f-1f4764a47a3f"
      },
      "outputs": [
        {
          "data": {
            "application/vnd.microsoft.datawrangler.viewer.v0+json": {
              "columns": [
                {
                  "name": "index",
                  "rawType": "object",
                  "type": "string"
                },
                {
                  "name": "contrato",
                  "rawType": "int64",
                  "type": "integer"
                }
              ],
              "ref": "50742466-d64b-4ec3-84dc-c1875a98962b",
              "rows": [
                [
                  "FT",
                  "132563"
                ],
                [
                  "CT",
                  "394"
                ],
                [
                  "PT",
                  "376"
                ],
                [
                  "FL",
                  "16"
                ]
              ],
              "shape": {
                "columns": 1,
                "rows": 4
              }
            },
            "text/plain": [
              "FT    132563\n",
              "CT       394\n",
              "PT       376\n",
              "FL        16\n",
              "Name: contrato, dtype: int64"
            ]
          },
          "execution_count": 12,
          "metadata": {},
          "output_type": "execute_result"
        }
      ],
      "source": [
        "df['contrato'].value_counts()"
      ]
    },
    {
      "cell_type": "markdown",
      "metadata": {
        "id": "VkjSU5ES1ijf"
      },
      "source": [
        "| Sigla | Significado  | Descrição                                                           |\n",
        "|-------|--------------|----------------------------------------------------------------------|\n",
        "| FT    | Full-time    | Tempo integral – trabalho padrão de 40h/semana ou período completo   |\n",
        "| PT    | Part-time    | Meio período – carga horária reduzida                                |\n",
        "| CT    | Contract     | Contrato temporário ou por projeto – geralmente por prazo determinado|\n",
        "| FL    | Freelance    | Freelancer – trabalho autônomo ou por demanda, sem vínculo formal    |\n"
      ]
    },
    {
      "cell_type": "markdown",
      "metadata": {
        "id": "GbqEJn1sMfkO"
      },
      "source": [
        "#### Regime de trabalho"
      ]
    },
    {
      "cell_type": "code",
      "execution_count": 13,
      "metadata": {
        "colab": {
          "base_uri": "https://localhost:8080/",
          "height": 210
        },
        "id": "wN1XEo4M05zY",
        "outputId": "aad32167-323b-4d57-ba1f-ec7cd29f6a32"
      },
      "outputs": [
        {
          "data": {
            "application/vnd.microsoft.datawrangler.viewer.v0+json": {
              "columns": [
                {
                  "name": "index",
                  "rawType": "int64",
                  "type": "integer"
                },
                {
                  "name": "remoto",
                  "rawType": "int64",
                  "type": "integer"
                }
              ],
              "ref": "e8b88415-4225-4eec-af76-e396b92c00de",
              "rows": [
                [
                  "0",
                  "105312"
                ],
                [
                  "100",
                  "27718"
                ],
                [
                  "50",
                  "319"
                ]
              ],
              "shape": {
                "columns": 1,
                "rows": 3
              }
            },
            "text/plain": [
              "0      105312\n",
              "100     27718\n",
              "50        319\n",
              "Name: remoto, dtype: int64"
            ]
          },
          "execution_count": 13,
          "metadata": {},
          "output_type": "execute_result"
        }
      ],
      "source": [
        "df['remoto'].value_counts()"
      ]
    },
    {
      "cell_type": "markdown",
      "metadata": {
        "id": "bk_bsh8q1ZzX"
      },
      "source": [
        "O modelo remoto permite trabalhar de qualquer lugar sem precisar ir à empresa. O modelo presencial exige ir até o escritório todos os dias. O híbrido mistura os dois modelos. O modelo 'everywhere' é mais raro e permite trabalhar de qualquer lugar do mundo sem restrição de país ou cidade."
      ]
    },
    {
      "cell_type": "markdown",
      "metadata": {
        "id": "WfM-HUGeIVDY"
      },
      "source": [
        "| Sigla | Significado |\n",
        "|-------|-------------|\n",
        "| 0     | Presencial  |\n",
        "| 100   | Remoto      |\n",
        "| 50    | Híbrido     |"
      ]
    },
    {
      "cell_type": "markdown",
      "metadata": {
        "id": "dQwYzhSRMve-"
      },
      "source": [
        "#### Tamanho da empresa"
      ]
    },
    {
      "cell_type": "code",
      "execution_count": 14,
      "metadata": {
        "colab": {
          "base_uri": "https://localhost:8080/",
          "height": 210
        },
        "id": "RfsK5Or70HMC",
        "outputId": "419ffee4-f89b-4cbd-fe76-b5e47cfa4282"
      },
      "outputs": [
        {
          "data": {
            "application/vnd.microsoft.datawrangler.viewer.v0+json": {
              "columns": [
                {
                  "name": "index",
                  "rawType": "object",
                  "type": "string"
                },
                {
                  "name": "tamanho_empresa",
                  "rawType": "int64",
                  "type": "integer"
                }
              ],
              "ref": "72483ac5-0665-4a0f-ae5c-720a2887b082",
              "rows": [
                [
                  "M",
                  "129561"
                ],
                [
                  "L",
                  "3574"
                ],
                [
                  "S",
                  "214"
                ]
              ],
              "shape": {
                "columns": 1,
                "rows": 3
              }
            },
            "text/plain": [
              "M    129561\n",
              "L      3574\n",
              "S       214\n",
              "Name: tamanho_empresa, dtype: int64"
            ]
          },
          "execution_count": 14,
          "metadata": {},
          "output_type": "execute_result"
        }
      ],
      "source": [
        "df['tamanho_empresa'].value_counts()"
      ]
    },
    {
      "cell_type": "markdown",
      "metadata": {
        "id": "6HSJ4vWQIBXV"
      },
      "source": [
        "| Sigla | Significado  | Descrição                                                           |\n",
        "|-------|--------------|----------------------------------------------------------------------|\n",
        "| M   | Medium    | Empresa de tamanho médio|\n",
        "| L    | Large    | Empresa de tamanho grande                                |\n",
        "| S    | Small    | Empresa de tamanho pequeno|\n"
      ]
    },
    {
      "cell_type": "markdown",
      "metadata": {
        "id": "RK2gAAcOJLmQ"
      },
      "source": [
        "### Modificando o nome das categorias:"
      ]
    },
    {
      "cell_type": "code",
      "execution_count": 7,
      "metadata": {
        "colab": {
          "base_uri": "https://localhost:8080/",
          "height": 241
        },
        "id": "gOrtOGVn2nVV",
        "outputId": "7be60f7b-1a00-402a-865d-fb6695272f23"
      },
      "outputs": [
        {
          "data": {
            "application/vnd.microsoft.datawrangler.viewer.v0+json": {
              "columns": [
                {
                  "name": "index",
                  "rawType": "object",
                  "type": "string"
                },
                {
                  "name": "senioridade",
                  "rawType": "int64",
                  "type": "integer"
                }
              ],
              "ref": "ed97ab4a-2d37-4f1b-875f-214ff9dff479",
              "rows": [
                [
                  "senior",
                  "77241"
                ],
                [
                  "pleno",
                  "40465"
                ],
                [
                  "junior",
                  "12443"
                ],
                [
                  "executivo",
                  "3200"
                ]
              ],
              "shape": {
                "columns": 1,
                "rows": 4
              }
            },
            "text/plain": [
              "senior       77241\n",
              "pleno        40465\n",
              "junior       12443\n",
              "executivo     3200\n",
              "Name: senioridade, dtype: int64"
            ]
          },
          "execution_count": 7,
          "metadata": {},
          "output_type": "execute_result"
        }
      ],
      "source": [
        "senioridade = {\n",
        "    'SE': 'senior',\n",
        "    'MI': 'pleno',\n",
        "    'EN': 'junior',\n",
        "    'EX': 'executivo'\n",
        "}\n",
        "df['senioridade'] = df['senioridade'].replace(senioridade)\n",
        "df['senioridade'].value_counts()"
      ]
    },
    {
      "cell_type": "code",
      "execution_count": 8,
      "metadata": {
        "colab": {
          "base_uri": "https://localhost:8080/",
          "height": 241
        },
        "id": "oe8EUR-33XOM",
        "outputId": "eac4011f-3a0e-47c4-9529-5febfb18f25e"
      },
      "outputs": [
        {
          "data": {
            "application/vnd.microsoft.datawrangler.viewer.v0+json": {
              "columns": [
                {
                  "name": "index",
                  "rawType": "object",
                  "type": "string"
                },
                {
                  "name": "contrato",
                  "rawType": "int64",
                  "type": "integer"
                }
              ],
              "ref": "64ac251d-451a-4e18-aaec-4459553a69de",
              "rows": [
                [
                  "integral",
                  "132563"
                ],
                [
                  "contrato",
                  "394"
                ],
                [
                  "parcial",
                  "376"
                ],
                [
                  "freelancer",
                  "16"
                ]
              ],
              "shape": {
                "columns": 1,
                "rows": 4
              }
            },
            "text/plain": [
              "integral      132563\n",
              "contrato         394\n",
              "parcial          376\n",
              "freelancer        16\n",
              "Name: contrato, dtype: int64"
            ]
          },
          "execution_count": 8,
          "metadata": {},
          "output_type": "execute_result"
        }
      ],
      "source": [
        "contrato = {\n",
        "    'FT': 'integral',\n",
        "    'PT': 'parcial',\n",
        "    'CT': 'contrato',\n",
        "    'FL': 'freelancer'\n",
        "}\n",
        "df['contrato'] = df['contrato'].replace(contrato)\n",
        "df['contrato'].value_counts()"
      ]
    },
    {
      "cell_type": "code",
      "execution_count": 9,
      "metadata": {
        "colab": {
          "base_uri": "https://localhost:8080/",
          "height": 210
        },
        "id": "EPZCuEgY256F",
        "outputId": "d2c02ad7-02b4-4ae3-b19e-7b33971c7ef7"
      },
      "outputs": [
        {
          "data": {
            "application/vnd.microsoft.datawrangler.viewer.v0+json": {
              "columns": [
                {
                  "name": "index",
                  "rawType": "object",
                  "type": "string"
                },
                {
                  "name": "tamanho_empresa",
                  "rawType": "int64",
                  "type": "integer"
                }
              ],
              "ref": "0d2067d8-5bb0-4ff6-92bf-6d312975684a",
              "rows": [
                [
                  "media",
                  "129561"
                ],
                [
                  "grande",
                  "3574"
                ],
                [
                  "pequena",
                  "214"
                ]
              ],
              "shape": {
                "columns": 1,
                "rows": 3
              }
            },
            "text/plain": [
              "media      129561\n",
              "grande       3574\n",
              "pequena       214\n",
              "Name: tamanho_empresa, dtype: int64"
            ]
          },
          "execution_count": 9,
          "metadata": {},
          "output_type": "execute_result"
        }
      ],
      "source": [
        "tamanho_empresa = {\n",
        "    'L': 'grande',\n",
        "    'S': 'pequena',\n",
        "    'M': 'media'\n",
        "\n",
        "}\n",
        "df['tamanho_empresa'] = df['tamanho_empresa'].replace(tamanho_empresa)\n",
        "df['tamanho_empresa'].value_counts()"
      ]
    },
    {
      "cell_type": "code",
      "execution_count": 10,
      "metadata": {
        "colab": {
          "base_uri": "https://localhost:8080/",
          "height": 210
        },
        "id": "kXwE3VEI1LWn",
        "outputId": "f61a99ab-a67d-447e-874c-cc206f0b86f2"
      },
      "outputs": [
        {
          "data": {
            "application/vnd.microsoft.datawrangler.viewer.v0+json": {
              "columns": [
                {
                  "name": "index",
                  "rawType": "object",
                  "type": "string"
                },
                {
                  "name": "remoto",
                  "rawType": "int64",
                  "type": "integer"
                }
              ],
              "ref": "18233176-7a21-4c70-ab83-9643e5b8d7bb",
              "rows": [
                [
                  "presencial",
                  "105312"
                ],
                [
                  "remoto",
                  "27718"
                ],
                [
                  "hibrido",
                  "319"
                ]
              ],
              "shape": {
                "columns": 1,
                "rows": 3
              }
            },
            "text/plain": [
              "presencial    105312\n",
              "remoto         27718\n",
              "hibrido          319\n",
              "Name: remoto, dtype: int64"
            ]
          },
          "execution_count": 10,
          "metadata": {},
          "output_type": "execute_result"
        }
      ],
      "source": [
        "mapa_trabalho = {\n",
        "    0: 'presencial',\n",
        "    100: 'remoto',\n",
        "    50: 'hibrido'\n",
        "}\n",
        "\n",
        "df['remoto'] = df['remoto'].replace(mapa_trabalho)\n",
        "df['remoto'].value_counts()"
      ]
    },
    {
      "cell_type": "code",
      "execution_count": 11,
      "metadata": {
        "colab": {
          "base_uri": "https://localhost:8080/",
          "height": 206
        },
        "id": "jJyY-J-w3iMF",
        "outputId": "ba836426-ce53-4515-de1b-c38b17280010"
      },
      "outputs": [
        {
          "data": {
            "application/vnd.microsoft.datawrangler.viewer.v0+json": {
              "columns": [
                {
                  "name": "index",
                  "rawType": "int64",
                  "type": "integer"
                },
                {
                  "name": "ano",
                  "rawType": "float64",
                  "type": "float"
                },
                {
                  "name": "senioridade",
                  "rawType": "object",
                  "type": "string"
                },
                {
                  "name": "contrato",
                  "rawType": "object",
                  "type": "string"
                },
                {
                  "name": "cargo",
                  "rawType": "object",
                  "type": "string"
                },
                {
                  "name": "salario",
                  "rawType": "int64",
                  "type": "integer"
                },
                {
                  "name": "moeda",
                  "rawType": "object",
                  "type": "string"
                },
                {
                  "name": "usd",
                  "rawType": "int64",
                  "type": "integer"
                },
                {
                  "name": "residencia",
                  "rawType": "object",
                  "type": "string"
                },
                {
                  "name": "remoto",
                  "rawType": "object",
                  "type": "string"
                },
                {
                  "name": "empresa",
                  "rawType": "object",
                  "type": "string"
                },
                {
                  "name": "tamanho_empresa",
                  "rawType": "object",
                  "type": "string"
                }
              ],
              "ref": "0d665463-2f72-4ed8-aff3-8bc079cce51d",
              "rows": [
                [
                  "0",
                  "2025.0",
                  "senior",
                  "integral",
                  "Solutions Engineer",
                  "214000",
                  "USD",
                  "214000",
                  "US",
                  "remoto",
                  "US",
                  "media"
                ],
                [
                  "1",
                  "2025.0",
                  "senior",
                  "integral",
                  "Solutions Engineer",
                  "136000",
                  "USD",
                  "136000",
                  "US",
                  "remoto",
                  "US",
                  "media"
                ],
                [
                  "2",
                  "2025.0",
                  "pleno",
                  "integral",
                  "Data Engineer",
                  "158800",
                  "USD",
                  "158800",
                  "AU",
                  "presencial",
                  "AU",
                  "media"
                ],
                [
                  "3",
                  "2025.0",
                  "pleno",
                  "integral",
                  "Data Engineer",
                  "139200",
                  "USD",
                  "139200",
                  "AU",
                  "presencial",
                  "AU",
                  "media"
                ],
                [
                  "4",
                  "2025.0",
                  "junior",
                  "integral",
                  "Data Engineer",
                  "90000",
                  "USD",
                  "90000",
                  "US",
                  "presencial",
                  "US",
                  "media"
                ]
              ],
              "shape": {
                "columns": 11,
                "rows": 5
              }
            },
            "text/html": [
              "<div>\n",
              "<style scoped>\n",
              "    .dataframe tbody tr th:only-of-type {\n",
              "        vertical-align: middle;\n",
              "    }\n",
              "\n",
              "    .dataframe tbody tr th {\n",
              "        vertical-align: top;\n",
              "    }\n",
              "\n",
              "    .dataframe thead th {\n",
              "        text-align: right;\n",
              "    }\n",
              "</style>\n",
              "<table border=\"1\" class=\"dataframe\">\n",
              "  <thead>\n",
              "    <tr style=\"text-align: right;\">\n",
              "      <th></th>\n",
              "      <th>ano</th>\n",
              "      <th>senioridade</th>\n",
              "      <th>contrato</th>\n",
              "      <th>cargo</th>\n",
              "      <th>salario</th>\n",
              "      <th>moeda</th>\n",
              "      <th>usd</th>\n",
              "      <th>residencia</th>\n",
              "      <th>remoto</th>\n",
              "      <th>empresa</th>\n",
              "      <th>tamanho_empresa</th>\n",
              "    </tr>\n",
              "  </thead>\n",
              "  <tbody>\n",
              "    <tr>\n",
              "      <th>0</th>\n",
              "      <td>2025.0</td>\n",
              "      <td>senior</td>\n",
              "      <td>integral</td>\n",
              "      <td>Solutions Engineer</td>\n",
              "      <td>214000</td>\n",
              "      <td>USD</td>\n",
              "      <td>214000</td>\n",
              "      <td>US</td>\n",
              "      <td>remoto</td>\n",
              "      <td>US</td>\n",
              "      <td>media</td>\n",
              "    </tr>\n",
              "    <tr>\n",
              "      <th>1</th>\n",
              "      <td>2025.0</td>\n",
              "      <td>senior</td>\n",
              "      <td>integral</td>\n",
              "      <td>Solutions Engineer</td>\n",
              "      <td>136000</td>\n",
              "      <td>USD</td>\n",
              "      <td>136000</td>\n",
              "      <td>US</td>\n",
              "      <td>remoto</td>\n",
              "      <td>US</td>\n",
              "      <td>media</td>\n",
              "    </tr>\n",
              "    <tr>\n",
              "      <th>2</th>\n",
              "      <td>2025.0</td>\n",
              "      <td>pleno</td>\n",
              "      <td>integral</td>\n",
              "      <td>Data Engineer</td>\n",
              "      <td>158800</td>\n",
              "      <td>USD</td>\n",
              "      <td>158800</td>\n",
              "      <td>AU</td>\n",
              "      <td>presencial</td>\n",
              "      <td>AU</td>\n",
              "      <td>media</td>\n",
              "    </tr>\n",
              "    <tr>\n",
              "      <th>3</th>\n",
              "      <td>2025.0</td>\n",
              "      <td>pleno</td>\n",
              "      <td>integral</td>\n",
              "      <td>Data Engineer</td>\n",
              "      <td>139200</td>\n",
              "      <td>USD</td>\n",
              "      <td>139200</td>\n",
              "      <td>AU</td>\n",
              "      <td>presencial</td>\n",
              "      <td>AU</td>\n",
              "      <td>media</td>\n",
              "    </tr>\n",
              "    <tr>\n",
              "      <th>4</th>\n",
              "      <td>2025.0</td>\n",
              "      <td>junior</td>\n",
              "      <td>integral</td>\n",
              "      <td>Data Engineer</td>\n",
              "      <td>90000</td>\n",
              "      <td>USD</td>\n",
              "      <td>90000</td>\n",
              "      <td>US</td>\n",
              "      <td>presencial</td>\n",
              "      <td>US</td>\n",
              "      <td>media</td>\n",
              "    </tr>\n",
              "  </tbody>\n",
              "</table>\n",
              "</div>"
            ],
            "text/plain": [
              "      ano senioridade  contrato               cargo  salario moeda     usd  \\\n",
              "0  2025.0      senior  integral  Solutions Engineer   214000   USD  214000   \n",
              "1  2025.0      senior  integral  Solutions Engineer   136000   USD  136000   \n",
              "2  2025.0       pleno  integral       Data Engineer   158800   USD  158800   \n",
              "3  2025.0       pleno  integral       Data Engineer   139200   USD  139200   \n",
              "4  2025.0      junior  integral       Data Engineer    90000   USD   90000   \n",
              "\n",
              "  residencia      remoto empresa tamanho_empresa  \n",
              "0         US      remoto      US           media  \n",
              "1         US      remoto      US           media  \n",
              "2         AU  presencial      AU           media  \n",
              "3         AU  presencial      AU           media  \n",
              "4         US  presencial      US           media  "
            ]
          },
          "execution_count": 11,
          "metadata": {},
          "output_type": "execute_result"
        }
      ],
      "source": [
        "df.head()"
      ]
    },
    {
      "cell_type": "markdown",
      "metadata": {
        "id": "LjCF5O3H1EgI"
      },
      "source": [
        "Podemos também resumir as informações categóricas com o método `describe()`, exibindo a quantidade de categorias únicas, qual é categoria mais frequente e sua respectiva frequência:"
      ]
    },
    {
      "cell_type": "code",
      "execution_count": 20,
      "metadata": {
        "colab": {
          "base_uri": "https://localhost:8080/",
          "height": 175
        },
        "id": "fnePJ9aB0-96",
        "outputId": "4e8d0af2-cb93-4e49-aa45-eafdd7ff4163"
      },
      "outputs": [
        {
          "data": {
            "application/vnd.microsoft.datawrangler.viewer.v0+json": {
              "columns": [
                {
                  "name": "index",
                  "rawType": "object",
                  "type": "string"
                },
                {
                  "name": "senioridade",
                  "rawType": "object",
                  "type": "string"
                },
                {
                  "name": "contrato",
                  "rawType": "object",
                  "type": "string"
                },
                {
                  "name": "cargo",
                  "rawType": "object",
                  "type": "string"
                },
                {
                  "name": "moeda",
                  "rawType": "object",
                  "type": "string"
                },
                {
                  "name": "residencia",
                  "rawType": "object",
                  "type": "string"
                },
                {
                  "name": "remoto",
                  "rawType": "object",
                  "type": "string"
                },
                {
                  "name": "empresa",
                  "rawType": "object",
                  "type": "string"
                },
                {
                  "name": "tamanho_empresa",
                  "rawType": "object",
                  "type": "string"
                }
              ],
              "ref": "85073fe9-e484-443a-b4ed-9723abbaadf8",
              "rows": [
                [
                  "count",
                  "133349",
                  "133349",
                  "133349",
                  "133349",
                  "133349",
                  "133349",
                  "133349",
                  "133349"
                ],
                [
                  "unique",
                  "4",
                  "4",
                  "390",
                  "26",
                  "102",
                  "3",
                  "95",
                  "3"
                ],
                [
                  "top",
                  "senior",
                  "integral",
                  "Data Scientist",
                  "USD",
                  "US",
                  "presencial",
                  "US",
                  "media"
                ],
                [
                  "freq",
                  "77241",
                  "132563",
                  "17314",
                  "126140",
                  "119579",
                  "105312",
                  "119641",
                  "129561"
                ]
              ],
              "shape": {
                "columns": 8,
                "rows": 4
              }
            },
            "text/html": [
              "<div>\n",
              "<style scoped>\n",
              "    .dataframe tbody tr th:only-of-type {\n",
              "        vertical-align: middle;\n",
              "    }\n",
              "\n",
              "    .dataframe tbody tr th {\n",
              "        vertical-align: top;\n",
              "    }\n",
              "\n",
              "    .dataframe thead th {\n",
              "        text-align: right;\n",
              "    }\n",
              "</style>\n",
              "<table border=\"1\" class=\"dataframe\">\n",
              "  <thead>\n",
              "    <tr style=\"text-align: right;\">\n",
              "      <th></th>\n",
              "      <th>senioridade</th>\n",
              "      <th>contrato</th>\n",
              "      <th>cargo</th>\n",
              "      <th>moeda</th>\n",
              "      <th>residencia</th>\n",
              "      <th>remoto</th>\n",
              "      <th>empresa</th>\n",
              "      <th>tamanho_empresa</th>\n",
              "    </tr>\n",
              "  </thead>\n",
              "  <tbody>\n",
              "    <tr>\n",
              "      <th>count</th>\n",
              "      <td>133349</td>\n",
              "      <td>133349</td>\n",
              "      <td>133349</td>\n",
              "      <td>133349</td>\n",
              "      <td>133349</td>\n",
              "      <td>133349</td>\n",
              "      <td>133349</td>\n",
              "      <td>133349</td>\n",
              "    </tr>\n",
              "    <tr>\n",
              "      <th>unique</th>\n",
              "      <td>4</td>\n",
              "      <td>4</td>\n",
              "      <td>390</td>\n",
              "      <td>26</td>\n",
              "      <td>102</td>\n",
              "      <td>3</td>\n",
              "      <td>95</td>\n",
              "      <td>3</td>\n",
              "    </tr>\n",
              "    <tr>\n",
              "      <th>top</th>\n",
              "      <td>senior</td>\n",
              "      <td>integral</td>\n",
              "      <td>Data Scientist</td>\n",
              "      <td>USD</td>\n",
              "      <td>US</td>\n",
              "      <td>presencial</td>\n",
              "      <td>US</td>\n",
              "      <td>media</td>\n",
              "    </tr>\n",
              "    <tr>\n",
              "      <th>freq</th>\n",
              "      <td>77241</td>\n",
              "      <td>132563</td>\n",
              "      <td>17314</td>\n",
              "      <td>126140</td>\n",
              "      <td>119579</td>\n",
              "      <td>105312</td>\n",
              "      <td>119641</td>\n",
              "      <td>129561</td>\n",
              "    </tr>\n",
              "  </tbody>\n",
              "</table>\n",
              "</div>"
            ],
            "text/plain": [
              "       senioridade  contrato           cargo   moeda residencia      remoto  \\\n",
              "count       133349    133349          133349  133349     133349      133349   \n",
              "unique           4         4             390      26        102           3   \n",
              "top         senior  integral  Data Scientist     USD         US  presencial   \n",
              "freq         77241    132563           17314  126140     119579      105312   \n",
              "\n",
              "       empresa tamanho_empresa  \n",
              "count   133349          133349  \n",
              "unique      95               3  \n",
              "top         US           media  \n",
              "freq    119641          129561  "
            ]
          },
          "execution_count": 20,
          "metadata": {},
          "output_type": "execute_result"
        }
      ],
      "source": [
        "df.describe(include='object')"
      ]
    },
    {
      "cell_type": "code",
      "execution_count": 21,
      "metadata": {},
      "outputs": [
        {
          "data": {
            "application/vnd.microsoft.datawrangler.viewer.v0+json": {
              "columns": [
                {
                  "name": "index",
                  "rawType": "object",
                  "type": "string"
                },
                {
                  "name": "ano",
                  "rawType": "float64",
                  "type": "float"
                },
                {
                  "name": "salario",
                  "rawType": "float64",
                  "type": "float"
                },
                {
                  "name": "usd",
                  "rawType": "float64",
                  "type": "float"
                }
              ],
              "ref": "769535af-2104-40b4-b7ef-7cdc1c4aa648",
              "rows": [
                [
                  "count",
                  "133339.0",
                  "133349.0",
                  "133349.0"
                ],
                [
                  "mean",
                  "2024.3587697522855",
                  "163283.32258959571",
                  "157617.27209802848"
                ],
                [
                  "std",
                  "0.6806266087848142",
                  "217386.02157404198",
                  "74288.3630973623"
                ],
                [
                  "min",
                  "2020.0",
                  "14000.0",
                  "15000.0"
                ],
                [
                  "25%",
                  "2024.0",
                  "106020.0",
                  "106000.0"
                ],
                [
                  "50%",
                  "2024.0",
                  "147000.0",
                  "146206.0"
                ],
                [
                  "75%",
                  "2025.0",
                  "199000.0",
                  "198000.0"
                ],
                [
                  "max",
                  "2025.0",
                  "30400000.0",
                  "800000.0"
                ]
              ],
              "shape": {
                "columns": 3,
                "rows": 8
              }
            },
            "text/html": [
              "<div>\n",
              "<style scoped>\n",
              "    .dataframe tbody tr th:only-of-type {\n",
              "        vertical-align: middle;\n",
              "    }\n",
              "\n",
              "    .dataframe tbody tr th {\n",
              "        vertical-align: top;\n",
              "    }\n",
              "\n",
              "    .dataframe thead th {\n",
              "        text-align: right;\n",
              "    }\n",
              "</style>\n",
              "<table border=\"1\" class=\"dataframe\">\n",
              "  <thead>\n",
              "    <tr style=\"text-align: right;\">\n",
              "      <th></th>\n",
              "      <th>ano</th>\n",
              "      <th>salario</th>\n",
              "      <th>usd</th>\n",
              "    </tr>\n",
              "  </thead>\n",
              "  <tbody>\n",
              "    <tr>\n",
              "      <th>count</th>\n",
              "      <td>133339.000000</td>\n",
              "      <td>1.333490e+05</td>\n",
              "      <td>133349.000000</td>\n",
              "    </tr>\n",
              "    <tr>\n",
              "      <th>mean</th>\n",
              "      <td>2024.358770</td>\n",
              "      <td>1.632833e+05</td>\n",
              "      <td>157617.272098</td>\n",
              "    </tr>\n",
              "    <tr>\n",
              "      <th>std</th>\n",
              "      <td>0.680627</td>\n",
              "      <td>2.173860e+05</td>\n",
              "      <td>74288.363097</td>\n",
              "    </tr>\n",
              "    <tr>\n",
              "      <th>min</th>\n",
              "      <td>2020.000000</td>\n",
              "      <td>1.400000e+04</td>\n",
              "      <td>15000.000000</td>\n",
              "    </tr>\n",
              "    <tr>\n",
              "      <th>25%</th>\n",
              "      <td>2024.000000</td>\n",
              "      <td>1.060200e+05</td>\n",
              "      <td>106000.000000</td>\n",
              "    </tr>\n",
              "    <tr>\n",
              "      <th>50%</th>\n",
              "      <td>2024.000000</td>\n",
              "      <td>1.470000e+05</td>\n",
              "      <td>146206.000000</td>\n",
              "    </tr>\n",
              "    <tr>\n",
              "      <th>75%</th>\n",
              "      <td>2025.000000</td>\n",
              "      <td>1.990000e+05</td>\n",
              "      <td>198000.000000</td>\n",
              "    </tr>\n",
              "    <tr>\n",
              "      <th>max</th>\n",
              "      <td>2025.000000</td>\n",
              "      <td>3.040000e+07</td>\n",
              "      <td>800000.000000</td>\n",
              "    </tr>\n",
              "  </tbody>\n",
              "</table>\n",
              "</div>"
            ],
            "text/plain": [
              "                 ano       salario            usd\n",
              "count  133339.000000  1.333490e+05  133349.000000\n",
              "mean     2024.358770  1.632833e+05  157617.272098\n",
              "std         0.680627  2.173860e+05   74288.363097\n",
              "min      2020.000000  1.400000e+04   15000.000000\n",
              "25%      2024.000000  1.060200e+05  106000.000000\n",
              "50%      2024.000000  1.470000e+05  146206.000000\n",
              "75%      2025.000000  1.990000e+05  198000.000000\n",
              "max      2025.000000  3.040000e+07  800000.000000"
            ]
          },
          "execution_count": 21,
          "metadata": {},
          "output_type": "execute_result"
        }
      ],
      "source": [
        "df.describe()"
      ]
    },
    {
      "cell_type": "markdown",
      "metadata": {
        "id": "6o6rZSmzLC3y"
      },
      "source": [
        "Com isso já conseguimos responder algumas perguntas, como:\n",
        "\n",
        "* Qual o nível de experiência mais comum na base de dados?\n",
        "* Qual é o tipo de contrato mais frequente?\n",
        "* Qual o cargo mais frequente na amostra?\n",
        "* De qual país são a maioria dos profissionais da base?\n",
        "* Qual é o país onde mais empresas da amostra estão sediadas?\n",
        "* Qual o regime de trabalho mais comum?\n",
        "* Qual é o tamanho mais comum das empresas na amostra?"
      ]
    },
    {
      "cell_type": "markdown",
      "metadata": {
        "id": "eBb5Evgw69OI"
      },
      "source": [
        "**O código é um passo a passo para entender, limpar e preparar a base de dados para análises mais profundas, facilitando a visualização de padrões e tendências no mercado de trabalho em ciência de dados.**"
      ]
    },
    {
      "cell_type": "markdown",
      "metadata": {},
      "source": [
        "# Aula 2"
      ]
    },
    {
      "cell_type": "code",
      "execution_count": 13,
      "metadata": {},
      "outputs": [
        {
          "data": {
            "application/vnd.microsoft.datawrangler.viewer.v0+json": {
              "columns": [
                {
                  "name": "index",
                  "rawType": "int64",
                  "type": "integer"
                },
                {
                  "name": "ano",
                  "rawType": "float64",
                  "type": "float"
                },
                {
                  "name": "senioridade",
                  "rawType": "object",
                  "type": "string"
                },
                {
                  "name": "contrato",
                  "rawType": "object",
                  "type": "string"
                },
                {
                  "name": "cargo",
                  "rawType": "object",
                  "type": "string"
                },
                {
                  "name": "salario",
                  "rawType": "int64",
                  "type": "integer"
                },
                {
                  "name": "moeda",
                  "rawType": "object",
                  "type": "string"
                },
                {
                  "name": "usd",
                  "rawType": "int64",
                  "type": "integer"
                },
                {
                  "name": "residencia",
                  "rawType": "object",
                  "type": "string"
                },
                {
                  "name": "remoto",
                  "rawType": "object",
                  "type": "string"
                },
                {
                  "name": "empresa",
                  "rawType": "object",
                  "type": "string"
                },
                {
                  "name": "tamanho_empresa",
                  "rawType": "object",
                  "type": "string"
                }
              ],
              "ref": "ec55ea12-7efc-4750-8321-bdc95017db0c",
              "rows": [
                [
                  "0",
                  "2025.0",
                  "senior",
                  "integral",
                  "Solutions Engineer",
                  "214000",
                  "USD",
                  "214000",
                  "US",
                  "remoto",
                  "US",
                  "media"
                ],
                [
                  "1",
                  "2025.0",
                  "senior",
                  "integral",
                  "Solutions Engineer",
                  "136000",
                  "USD",
                  "136000",
                  "US",
                  "remoto",
                  "US",
                  "media"
                ],
                [
                  "2",
                  "2025.0",
                  "pleno",
                  "integral",
                  "Data Engineer",
                  "158800",
                  "USD",
                  "158800",
                  "AU",
                  "presencial",
                  "AU",
                  "media"
                ],
                [
                  "3",
                  "2025.0",
                  "pleno",
                  "integral",
                  "Data Engineer",
                  "139200",
                  "USD",
                  "139200",
                  "AU",
                  "presencial",
                  "AU",
                  "media"
                ],
                [
                  "4",
                  "2025.0",
                  "junior",
                  "integral",
                  "Data Engineer",
                  "90000",
                  "USD",
                  "90000",
                  "US",
                  "presencial",
                  "US",
                  "media"
                ]
              ],
              "shape": {
                "columns": 11,
                "rows": 5
              }
            },
            "text/html": [
              "<div>\n",
              "<style scoped>\n",
              "    .dataframe tbody tr th:only-of-type {\n",
              "        vertical-align: middle;\n",
              "    }\n",
              "\n",
              "    .dataframe tbody tr th {\n",
              "        vertical-align: top;\n",
              "    }\n",
              "\n",
              "    .dataframe thead th {\n",
              "        text-align: right;\n",
              "    }\n",
              "</style>\n",
              "<table border=\"1\" class=\"dataframe\">\n",
              "  <thead>\n",
              "    <tr style=\"text-align: right;\">\n",
              "      <th></th>\n",
              "      <th>ano</th>\n",
              "      <th>senioridade</th>\n",
              "      <th>contrato</th>\n",
              "      <th>cargo</th>\n",
              "      <th>salario</th>\n",
              "      <th>moeda</th>\n",
              "      <th>usd</th>\n",
              "      <th>residencia</th>\n",
              "      <th>remoto</th>\n",
              "      <th>empresa</th>\n",
              "      <th>tamanho_empresa</th>\n",
              "    </tr>\n",
              "  </thead>\n",
              "  <tbody>\n",
              "    <tr>\n",
              "      <th>0</th>\n",
              "      <td>2025.0</td>\n",
              "      <td>senior</td>\n",
              "      <td>integral</td>\n",
              "      <td>Solutions Engineer</td>\n",
              "      <td>214000</td>\n",
              "      <td>USD</td>\n",
              "      <td>214000</td>\n",
              "      <td>US</td>\n",
              "      <td>remoto</td>\n",
              "      <td>US</td>\n",
              "      <td>media</td>\n",
              "    </tr>\n",
              "    <tr>\n",
              "      <th>1</th>\n",
              "      <td>2025.0</td>\n",
              "      <td>senior</td>\n",
              "      <td>integral</td>\n",
              "      <td>Solutions Engineer</td>\n",
              "      <td>136000</td>\n",
              "      <td>USD</td>\n",
              "      <td>136000</td>\n",
              "      <td>US</td>\n",
              "      <td>remoto</td>\n",
              "      <td>US</td>\n",
              "      <td>media</td>\n",
              "    </tr>\n",
              "    <tr>\n",
              "      <th>2</th>\n",
              "      <td>2025.0</td>\n",
              "      <td>pleno</td>\n",
              "      <td>integral</td>\n",
              "      <td>Data Engineer</td>\n",
              "      <td>158800</td>\n",
              "      <td>USD</td>\n",
              "      <td>158800</td>\n",
              "      <td>AU</td>\n",
              "      <td>presencial</td>\n",
              "      <td>AU</td>\n",
              "      <td>media</td>\n",
              "    </tr>\n",
              "    <tr>\n",
              "      <th>3</th>\n",
              "      <td>2025.0</td>\n",
              "      <td>pleno</td>\n",
              "      <td>integral</td>\n",
              "      <td>Data Engineer</td>\n",
              "      <td>139200</td>\n",
              "      <td>USD</td>\n",
              "      <td>139200</td>\n",
              "      <td>AU</td>\n",
              "      <td>presencial</td>\n",
              "      <td>AU</td>\n",
              "      <td>media</td>\n",
              "    </tr>\n",
              "    <tr>\n",
              "      <th>4</th>\n",
              "      <td>2025.0</td>\n",
              "      <td>junior</td>\n",
              "      <td>integral</td>\n",
              "      <td>Data Engineer</td>\n",
              "      <td>90000</td>\n",
              "      <td>USD</td>\n",
              "      <td>90000</td>\n",
              "      <td>US</td>\n",
              "      <td>presencial</td>\n",
              "      <td>US</td>\n",
              "      <td>media</td>\n",
              "    </tr>\n",
              "  </tbody>\n",
              "</table>\n",
              "</div>"
            ],
            "text/plain": [
              "      ano senioridade  contrato               cargo  salario moeda     usd  \\\n",
              "0  2025.0      senior  integral  Solutions Engineer   214000   USD  214000   \n",
              "1  2025.0      senior  integral  Solutions Engineer   136000   USD  136000   \n",
              "2  2025.0       pleno  integral       Data Engineer   158800   USD  158800   \n",
              "3  2025.0       pleno  integral       Data Engineer   139200   USD  139200   \n",
              "4  2025.0      junior  integral       Data Engineer    90000   USD   90000   \n",
              "\n",
              "  residencia      remoto empresa tamanho_empresa  \n",
              "0         US      remoto      US           media  \n",
              "1         US      remoto      US           media  \n",
              "2         AU  presencial      AU           media  \n",
              "3         AU  presencial      AU           media  \n",
              "4         US  presencial      US           media  "
            ]
          },
          "execution_count": 13,
          "metadata": {},
          "output_type": "execute_result"
        }
      ],
      "source": [
        "df.head()"
      ]
    },
    {
      "cell_type": "code",
      "execution_count": 12,
      "metadata": {},
      "outputs": [
        {
          "data": {
            "application/vnd.microsoft.datawrangler.viewer.v0+json": {
              "columns": [
                {
                  "name": "index",
                  "rawType": "int64",
                  "type": "integer"
                },
                {
                  "name": "ano",
                  "rawType": "bool",
                  "type": "boolean"
                },
                {
                  "name": "senioridade",
                  "rawType": "bool",
                  "type": "boolean"
                },
                {
                  "name": "contrato",
                  "rawType": "bool",
                  "type": "boolean"
                },
                {
                  "name": "cargo",
                  "rawType": "bool",
                  "type": "boolean"
                },
                {
                  "name": "salario",
                  "rawType": "bool",
                  "type": "boolean"
                },
                {
                  "name": "moeda",
                  "rawType": "bool",
                  "type": "boolean"
                },
                {
                  "name": "usd",
                  "rawType": "bool",
                  "type": "boolean"
                },
                {
                  "name": "residencia",
                  "rawType": "bool",
                  "type": "boolean"
                },
                {
                  "name": "remoto",
                  "rawType": "bool",
                  "type": "boolean"
                },
                {
                  "name": "empresa",
                  "rawType": "bool",
                  "type": "boolean"
                },
                {
                  "name": "tamanho_empresa",
                  "rawType": "bool",
                  "type": "boolean"
                }
              ],
              "ref": "fa4a3b33-ee66-4afc-9208-5b279b565a05",
              "rows": [
                [
                  "0",
                  "False",
                  "False",
                  "False",
                  "False",
                  "False",
                  "False",
                  "False",
                  "False",
                  "False",
                  "False",
                  "False"
                ],
                [
                  "1",
                  "False",
                  "False",
                  "False",
                  "False",
                  "False",
                  "False",
                  "False",
                  "False",
                  "False",
                  "False",
                  "False"
                ],
                [
                  "2",
                  "False",
                  "False",
                  "False",
                  "False",
                  "False",
                  "False",
                  "False",
                  "False",
                  "False",
                  "False",
                  "False"
                ],
                [
                  "3",
                  "False",
                  "False",
                  "False",
                  "False",
                  "False",
                  "False",
                  "False",
                  "False",
                  "False",
                  "False",
                  "False"
                ],
                [
                  "4",
                  "False",
                  "False",
                  "False",
                  "False",
                  "False",
                  "False",
                  "False",
                  "False",
                  "False",
                  "False",
                  "False"
                ],
                [
                  "5",
                  "False",
                  "False",
                  "False",
                  "False",
                  "False",
                  "False",
                  "False",
                  "False",
                  "False",
                  "False",
                  "False"
                ],
                [
                  "6",
                  "False",
                  "False",
                  "False",
                  "False",
                  "False",
                  "False",
                  "False",
                  "False",
                  "False",
                  "False",
                  "False"
                ],
                [
                  "7",
                  "False",
                  "False",
                  "False",
                  "False",
                  "False",
                  "False",
                  "False",
                  "False",
                  "False",
                  "False",
                  "False"
                ],
                [
                  "8",
                  "False",
                  "False",
                  "False",
                  "False",
                  "False",
                  "False",
                  "False",
                  "False",
                  "False",
                  "False",
                  "False"
                ],
                [
                  "9",
                  "False",
                  "False",
                  "False",
                  "False",
                  "False",
                  "False",
                  "False",
                  "False",
                  "False",
                  "False",
                  "False"
                ],
                [
                  "10",
                  "False",
                  "False",
                  "False",
                  "False",
                  "False",
                  "False",
                  "False",
                  "False",
                  "False",
                  "False",
                  "False"
                ],
                [
                  "11",
                  "False",
                  "False",
                  "False",
                  "False",
                  "False",
                  "False",
                  "False",
                  "False",
                  "False",
                  "False",
                  "False"
                ],
                [
                  "12",
                  "False",
                  "False",
                  "False",
                  "False",
                  "False",
                  "False",
                  "False",
                  "False",
                  "False",
                  "False",
                  "False"
                ],
                [
                  "13",
                  "False",
                  "False",
                  "False",
                  "False",
                  "False",
                  "False",
                  "False",
                  "False",
                  "False",
                  "False",
                  "False"
                ],
                [
                  "14",
                  "False",
                  "False",
                  "False",
                  "False",
                  "False",
                  "False",
                  "False",
                  "False",
                  "False",
                  "False",
                  "False"
                ],
                [
                  "15",
                  "False",
                  "False",
                  "False",
                  "False",
                  "False",
                  "False",
                  "False",
                  "False",
                  "False",
                  "False",
                  "False"
                ],
                [
                  "16",
                  "False",
                  "False",
                  "False",
                  "False",
                  "False",
                  "False",
                  "False",
                  "False",
                  "False",
                  "False",
                  "False"
                ],
                [
                  "17",
                  "False",
                  "False",
                  "False",
                  "False",
                  "False",
                  "False",
                  "False",
                  "False",
                  "False",
                  "False",
                  "False"
                ],
                [
                  "18",
                  "False",
                  "False",
                  "False",
                  "False",
                  "False",
                  "False",
                  "False",
                  "False",
                  "False",
                  "False",
                  "False"
                ],
                [
                  "19",
                  "False",
                  "False",
                  "False",
                  "False",
                  "False",
                  "False",
                  "False",
                  "False",
                  "False",
                  "False",
                  "False"
                ],
                [
                  "20",
                  "False",
                  "False",
                  "False",
                  "False",
                  "False",
                  "False",
                  "False",
                  "False",
                  "False",
                  "False",
                  "False"
                ],
                [
                  "21",
                  "False",
                  "False",
                  "False",
                  "False",
                  "False",
                  "False",
                  "False",
                  "False",
                  "False",
                  "False",
                  "False"
                ],
                [
                  "22",
                  "False",
                  "False",
                  "False",
                  "False",
                  "False",
                  "False",
                  "False",
                  "False",
                  "False",
                  "False",
                  "False"
                ],
                [
                  "23",
                  "False",
                  "False",
                  "False",
                  "False",
                  "False",
                  "False",
                  "False",
                  "False",
                  "False",
                  "False",
                  "False"
                ],
                [
                  "24",
                  "False",
                  "False",
                  "False",
                  "False",
                  "False",
                  "False",
                  "False",
                  "False",
                  "False",
                  "False",
                  "False"
                ],
                [
                  "25",
                  "False",
                  "False",
                  "False",
                  "False",
                  "False",
                  "False",
                  "False",
                  "False",
                  "False",
                  "False",
                  "False"
                ],
                [
                  "26",
                  "False",
                  "False",
                  "False",
                  "False",
                  "False",
                  "False",
                  "False",
                  "False",
                  "False",
                  "False",
                  "False"
                ],
                [
                  "27",
                  "False",
                  "False",
                  "False",
                  "False",
                  "False",
                  "False",
                  "False",
                  "False",
                  "False",
                  "False",
                  "False"
                ],
                [
                  "28",
                  "False",
                  "False",
                  "False",
                  "False",
                  "False",
                  "False",
                  "False",
                  "False",
                  "False",
                  "False",
                  "False"
                ],
                [
                  "29",
                  "False",
                  "False",
                  "False",
                  "False",
                  "False",
                  "False",
                  "False",
                  "False",
                  "False",
                  "False",
                  "False"
                ],
                [
                  "30",
                  "False",
                  "False",
                  "False",
                  "False",
                  "False",
                  "False",
                  "False",
                  "False",
                  "False",
                  "False",
                  "False"
                ],
                [
                  "31",
                  "False",
                  "False",
                  "False",
                  "False",
                  "False",
                  "False",
                  "False",
                  "False",
                  "False",
                  "False",
                  "False"
                ],
                [
                  "32",
                  "False",
                  "False",
                  "False",
                  "False",
                  "False",
                  "False",
                  "False",
                  "False",
                  "False",
                  "False",
                  "False"
                ],
                [
                  "33",
                  "False",
                  "False",
                  "False",
                  "False",
                  "False",
                  "False",
                  "False",
                  "False",
                  "False",
                  "False",
                  "False"
                ],
                [
                  "34",
                  "False",
                  "False",
                  "False",
                  "False",
                  "False",
                  "False",
                  "False",
                  "False",
                  "False",
                  "False",
                  "False"
                ],
                [
                  "35",
                  "False",
                  "False",
                  "False",
                  "False",
                  "False",
                  "False",
                  "False",
                  "False",
                  "False",
                  "False",
                  "False"
                ],
                [
                  "36",
                  "False",
                  "False",
                  "False",
                  "False",
                  "False",
                  "False",
                  "False",
                  "False",
                  "False",
                  "False",
                  "False"
                ],
                [
                  "37",
                  "False",
                  "False",
                  "False",
                  "False",
                  "False",
                  "False",
                  "False",
                  "False",
                  "False",
                  "False",
                  "False"
                ],
                [
                  "38",
                  "False",
                  "False",
                  "False",
                  "False",
                  "False",
                  "False",
                  "False",
                  "False",
                  "False",
                  "False",
                  "False"
                ],
                [
                  "39",
                  "False",
                  "False",
                  "False",
                  "False",
                  "False",
                  "False",
                  "False",
                  "False",
                  "False",
                  "False",
                  "False"
                ],
                [
                  "40",
                  "False",
                  "False",
                  "False",
                  "False",
                  "False",
                  "False",
                  "False",
                  "False",
                  "False",
                  "False",
                  "False"
                ],
                [
                  "41",
                  "False",
                  "False",
                  "False",
                  "False",
                  "False",
                  "False",
                  "False",
                  "False",
                  "False",
                  "False",
                  "False"
                ],
                [
                  "42",
                  "False",
                  "False",
                  "False",
                  "False",
                  "False",
                  "False",
                  "False",
                  "False",
                  "False",
                  "False",
                  "False"
                ],
                [
                  "43",
                  "False",
                  "False",
                  "False",
                  "False",
                  "False",
                  "False",
                  "False",
                  "False",
                  "False",
                  "False",
                  "False"
                ],
                [
                  "44",
                  "False",
                  "False",
                  "False",
                  "False",
                  "False",
                  "False",
                  "False",
                  "False",
                  "False",
                  "False",
                  "False"
                ],
                [
                  "45",
                  "False",
                  "False",
                  "False",
                  "False",
                  "False",
                  "False",
                  "False",
                  "False",
                  "False",
                  "False",
                  "False"
                ],
                [
                  "46",
                  "False",
                  "False",
                  "False",
                  "False",
                  "False",
                  "False",
                  "False",
                  "False",
                  "False",
                  "False",
                  "False"
                ],
                [
                  "47",
                  "False",
                  "False",
                  "False",
                  "False",
                  "False",
                  "False",
                  "False",
                  "False",
                  "False",
                  "False",
                  "False"
                ],
                [
                  "48",
                  "False",
                  "False",
                  "False",
                  "False",
                  "False",
                  "False",
                  "False",
                  "False",
                  "False",
                  "False",
                  "False"
                ],
                [
                  "49",
                  "False",
                  "False",
                  "False",
                  "False",
                  "False",
                  "False",
                  "False",
                  "False",
                  "False",
                  "False",
                  "False"
                ]
              ],
              "shape": {
                "columns": 11,
                "rows": 133349
              }
            },
            "text/html": [
              "<div>\n",
              "<style scoped>\n",
              "    .dataframe tbody tr th:only-of-type {\n",
              "        vertical-align: middle;\n",
              "    }\n",
              "\n",
              "    .dataframe tbody tr th {\n",
              "        vertical-align: top;\n",
              "    }\n",
              "\n",
              "    .dataframe thead th {\n",
              "        text-align: right;\n",
              "    }\n",
              "</style>\n",
              "<table border=\"1\" class=\"dataframe\">\n",
              "  <thead>\n",
              "    <tr style=\"text-align: right;\">\n",
              "      <th></th>\n",
              "      <th>ano</th>\n",
              "      <th>senioridade</th>\n",
              "      <th>contrato</th>\n",
              "      <th>cargo</th>\n",
              "      <th>salario</th>\n",
              "      <th>moeda</th>\n",
              "      <th>usd</th>\n",
              "      <th>residencia</th>\n",
              "      <th>remoto</th>\n",
              "      <th>empresa</th>\n",
              "      <th>tamanho_empresa</th>\n",
              "    </tr>\n",
              "  </thead>\n",
              "  <tbody>\n",
              "    <tr>\n",
              "      <th>0</th>\n",
              "      <td>False</td>\n",
              "      <td>False</td>\n",
              "      <td>False</td>\n",
              "      <td>False</td>\n",
              "      <td>False</td>\n",
              "      <td>False</td>\n",
              "      <td>False</td>\n",
              "      <td>False</td>\n",
              "      <td>False</td>\n",
              "      <td>False</td>\n",
              "      <td>False</td>\n",
              "    </tr>\n",
              "    <tr>\n",
              "      <th>1</th>\n",
              "      <td>False</td>\n",
              "      <td>False</td>\n",
              "      <td>False</td>\n",
              "      <td>False</td>\n",
              "      <td>False</td>\n",
              "      <td>False</td>\n",
              "      <td>False</td>\n",
              "      <td>False</td>\n",
              "      <td>False</td>\n",
              "      <td>False</td>\n",
              "      <td>False</td>\n",
              "    </tr>\n",
              "    <tr>\n",
              "      <th>2</th>\n",
              "      <td>False</td>\n",
              "      <td>False</td>\n",
              "      <td>False</td>\n",
              "      <td>False</td>\n",
              "      <td>False</td>\n",
              "      <td>False</td>\n",
              "      <td>False</td>\n",
              "      <td>False</td>\n",
              "      <td>False</td>\n",
              "      <td>False</td>\n",
              "      <td>False</td>\n",
              "    </tr>\n",
              "    <tr>\n",
              "      <th>3</th>\n",
              "      <td>False</td>\n",
              "      <td>False</td>\n",
              "      <td>False</td>\n",
              "      <td>False</td>\n",
              "      <td>False</td>\n",
              "      <td>False</td>\n",
              "      <td>False</td>\n",
              "      <td>False</td>\n",
              "      <td>False</td>\n",
              "      <td>False</td>\n",
              "      <td>False</td>\n",
              "    </tr>\n",
              "    <tr>\n",
              "      <th>4</th>\n",
              "      <td>False</td>\n",
              "      <td>False</td>\n",
              "      <td>False</td>\n",
              "      <td>False</td>\n",
              "      <td>False</td>\n",
              "      <td>False</td>\n",
              "      <td>False</td>\n",
              "      <td>False</td>\n",
              "      <td>False</td>\n",
              "      <td>False</td>\n",
              "      <td>False</td>\n",
              "    </tr>\n",
              "    <tr>\n",
              "      <th>...</th>\n",
              "      <td>...</td>\n",
              "      <td>...</td>\n",
              "      <td>...</td>\n",
              "      <td>...</td>\n",
              "      <td>...</td>\n",
              "      <td>...</td>\n",
              "      <td>...</td>\n",
              "      <td>...</td>\n",
              "      <td>...</td>\n",
              "      <td>...</td>\n",
              "      <td>...</td>\n",
              "    </tr>\n",
              "    <tr>\n",
              "      <th>133344</th>\n",
              "      <td>False</td>\n",
              "      <td>False</td>\n",
              "      <td>False</td>\n",
              "      <td>False</td>\n",
              "      <td>False</td>\n",
              "      <td>False</td>\n",
              "      <td>False</td>\n",
              "      <td>False</td>\n",
              "      <td>False</td>\n",
              "      <td>False</td>\n",
              "      <td>False</td>\n",
              "    </tr>\n",
              "    <tr>\n",
              "      <th>133345</th>\n",
              "      <td>False</td>\n",
              "      <td>False</td>\n",
              "      <td>False</td>\n",
              "      <td>False</td>\n",
              "      <td>False</td>\n",
              "      <td>False</td>\n",
              "      <td>False</td>\n",
              "      <td>False</td>\n",
              "      <td>False</td>\n",
              "      <td>False</td>\n",
              "      <td>False</td>\n",
              "    </tr>\n",
              "    <tr>\n",
              "      <th>133346</th>\n",
              "      <td>False</td>\n",
              "      <td>False</td>\n",
              "      <td>False</td>\n",
              "      <td>False</td>\n",
              "      <td>False</td>\n",
              "      <td>False</td>\n",
              "      <td>False</td>\n",
              "      <td>False</td>\n",
              "      <td>False</td>\n",
              "      <td>False</td>\n",
              "      <td>False</td>\n",
              "    </tr>\n",
              "    <tr>\n",
              "      <th>133347</th>\n",
              "      <td>False</td>\n",
              "      <td>False</td>\n",
              "      <td>False</td>\n",
              "      <td>False</td>\n",
              "      <td>False</td>\n",
              "      <td>False</td>\n",
              "      <td>False</td>\n",
              "      <td>False</td>\n",
              "      <td>False</td>\n",
              "      <td>False</td>\n",
              "      <td>False</td>\n",
              "    </tr>\n",
              "    <tr>\n",
              "      <th>133348</th>\n",
              "      <td>False</td>\n",
              "      <td>False</td>\n",
              "      <td>False</td>\n",
              "      <td>False</td>\n",
              "      <td>False</td>\n",
              "      <td>False</td>\n",
              "      <td>False</td>\n",
              "      <td>False</td>\n",
              "      <td>False</td>\n",
              "      <td>False</td>\n",
              "      <td>False</td>\n",
              "    </tr>\n",
              "  </tbody>\n",
              "</table>\n",
              "<p>133349 rows × 11 columns</p>\n",
              "</div>"
            ],
            "text/plain": [
              "          ano  senioridade  contrato  cargo  salario  moeda    usd  \\\n",
              "0       False        False     False  False    False  False  False   \n",
              "1       False        False     False  False    False  False  False   \n",
              "2       False        False     False  False    False  False  False   \n",
              "3       False        False     False  False    False  False  False   \n",
              "4       False        False     False  False    False  False  False   \n",
              "...       ...          ...       ...    ...      ...    ...    ...   \n",
              "133344  False        False     False  False    False  False  False   \n",
              "133345  False        False     False  False    False  False  False   \n",
              "133346  False        False     False  False    False  False  False   \n",
              "133347  False        False     False  False    False  False  False   \n",
              "133348  False        False     False  False    False  False  False   \n",
              "\n",
              "        residencia  remoto  empresa  tamanho_empresa  \n",
              "0            False   False    False            False  \n",
              "1            False   False    False            False  \n",
              "2            False   False    False            False  \n",
              "3            False   False    False            False  \n",
              "4            False   False    False            False  \n",
              "...            ...     ...      ...              ...  \n",
              "133344       False   False    False            False  \n",
              "133345       False   False    False            False  \n",
              "133346       False   False    False            False  \n",
              "133347       False   False    False            False  \n",
              "133348       False   False    False            False  \n",
              "\n",
              "[133349 rows x 11 columns]"
            ]
          },
          "execution_count": 12,
          "metadata": {},
          "output_type": "execute_result"
        }
      ],
      "source": [
        "df.isnull()"
      ]
    },
    {
      "cell_type": "code",
      "execution_count": 14,
      "metadata": {},
      "outputs": [
        {
          "data": {
            "application/vnd.microsoft.datawrangler.viewer.v0+json": {
              "columns": [
                {
                  "name": "index",
                  "rawType": "object",
                  "type": "string"
                },
                {
                  "name": "0",
                  "rawType": "int64",
                  "type": "integer"
                }
              ],
              "ref": "df81f639-0724-4a58-a431-7abc19eb8772",
              "rows": [
                [
                  "ano",
                  "10"
                ],
                [
                  "senioridade",
                  "0"
                ],
                [
                  "contrato",
                  "0"
                ],
                [
                  "cargo",
                  "0"
                ],
                [
                  "salario",
                  "0"
                ],
                [
                  "moeda",
                  "0"
                ],
                [
                  "usd",
                  "0"
                ],
                [
                  "residencia",
                  "0"
                ],
                [
                  "remoto",
                  "0"
                ],
                [
                  "empresa",
                  "0"
                ],
                [
                  "tamanho_empresa",
                  "0"
                ]
              ],
              "shape": {
                "columns": 1,
                "rows": 11
              }
            },
            "text/plain": [
              "ano                10\n",
              "senioridade         0\n",
              "contrato            0\n",
              "cargo               0\n",
              "salario             0\n",
              "moeda               0\n",
              "usd                 0\n",
              "residencia          0\n",
              "remoto              0\n",
              "empresa             0\n",
              "tamanho_empresa     0\n",
              "dtype: int64"
            ]
          },
          "execution_count": 14,
          "metadata": {},
          "output_type": "execute_result"
        }
      ],
      "source": [
        "df.isnull().sum()"
      ]
    },
    {
      "cell_type": "code",
      "execution_count": 15,
      "metadata": {},
      "outputs": [
        {
          "data": {
            "text/plain": [
              "array([2025.,   nan, 2024., 2022., 2023., 2020., 2021.])"
            ]
          },
          "execution_count": 15,
          "metadata": {},
          "output_type": "execute_result"
        }
      ],
      "source": [
        "df['ano'].unique()"
      ]
    },
    {
      "cell_type": "code",
      "execution_count": 22,
      "metadata": {},
      "outputs": [
        {
          "data": {
            "application/vnd.microsoft.datawrangler.viewer.v0+json": {
              "columns": [
                {
                  "name": "index",
                  "rawType": "int64",
                  "type": "integer"
                },
                {
                  "name": "ano",
                  "rawType": "float64",
                  "type": "float"
                },
                {
                  "name": "senioridade",
                  "rawType": "object",
                  "type": "string"
                },
                {
                  "name": "contrato",
                  "rawType": "object",
                  "type": "string"
                },
                {
                  "name": "cargo",
                  "rawType": "object",
                  "type": "string"
                },
                {
                  "name": "salario",
                  "rawType": "int64",
                  "type": "integer"
                },
                {
                  "name": "moeda",
                  "rawType": "object",
                  "type": "string"
                },
                {
                  "name": "usd",
                  "rawType": "int64",
                  "type": "integer"
                },
                {
                  "name": "residencia",
                  "rawType": "object",
                  "type": "string"
                },
                {
                  "name": "remoto",
                  "rawType": "object",
                  "type": "string"
                },
                {
                  "name": "empresa",
                  "rawType": "object",
                  "type": "string"
                },
                {
                  "name": "tamanho_empresa",
                  "rawType": "object",
                  "type": "string"
                }
              ],
              "ref": "fcf05238-82f0-488c-bd71-62dcba827cf2",
              "rows": [
                [
                  "5588",
                  null,
                  "senior",
                  "integral",
                  "Product Manager",
                  "184500",
                  "USD",
                  "184500",
                  "US",
                  "presencial",
                  "US",
                  "media"
                ],
                [
                  "59692",
                  null,
                  "pleno",
                  "integral",
                  "Engineer",
                  "110000",
                  "USD",
                  "110000",
                  "DE",
                  "presencial",
                  "DE",
                  "media"
                ],
                [
                  "59710",
                  null,
                  "junior",
                  "integral",
                  "Data Scientist",
                  "208800",
                  "USD",
                  "208800",
                  "US",
                  "presencial",
                  "US",
                  "media"
                ],
                [
                  "59759",
                  null,
                  "senior",
                  "integral",
                  "Software Engineer",
                  "135000",
                  "USD",
                  "135000",
                  "US",
                  "presencial",
                  "US",
                  "media"
                ],
                [
                  "59789",
                  null,
                  "senior",
                  "integral",
                  "Engineer",
                  "112000",
                  "USD",
                  "112000",
                  "US",
                  "presencial",
                  "US",
                  "media"
                ],
                [
                  "131000",
                  null,
                  "senior",
                  "integral",
                  "Machine Learning Engineer",
                  "163800",
                  "USD",
                  "163800",
                  "US",
                  "presencial",
                  "US",
                  "media"
                ],
                [
                  "131006",
                  null,
                  "senior",
                  "integral",
                  "Data Analytics Manager",
                  "204500",
                  "USD",
                  "204500",
                  "US",
                  "presencial",
                  "US",
                  "media"
                ],
                [
                  "133054",
                  null,
                  "junior",
                  "integral",
                  "Data Scientist",
                  "40000",
                  "USD",
                  "40000",
                  "JP",
                  "remoto",
                  "MY",
                  "grande"
                ],
                [
                  "133281",
                  null,
                  "pleno",
                  "integral",
                  "Machine Learning Engineer",
                  "180000",
                  "PLN",
                  "46597",
                  "PL",
                  "remoto",
                  "PL",
                  "grande"
                ],
                [
                  "133317",
                  null,
                  "pleno",
                  "integral",
                  "Data Scientist",
                  "130000",
                  "USD",
                  "130000",
                  "US",
                  "hibrido",
                  "US",
                  "grande"
                ]
              ],
              "shape": {
                "columns": 11,
                "rows": 10
              }
            },
            "text/html": [
              "<div>\n",
              "<style scoped>\n",
              "    .dataframe tbody tr th:only-of-type {\n",
              "        vertical-align: middle;\n",
              "    }\n",
              "\n",
              "    .dataframe tbody tr th {\n",
              "        vertical-align: top;\n",
              "    }\n",
              "\n",
              "    .dataframe thead th {\n",
              "        text-align: right;\n",
              "    }\n",
              "</style>\n",
              "<table border=\"1\" class=\"dataframe\">\n",
              "  <thead>\n",
              "    <tr style=\"text-align: right;\">\n",
              "      <th></th>\n",
              "      <th>ano</th>\n",
              "      <th>senioridade</th>\n",
              "      <th>contrato</th>\n",
              "      <th>cargo</th>\n",
              "      <th>salario</th>\n",
              "      <th>moeda</th>\n",
              "      <th>usd</th>\n",
              "      <th>residencia</th>\n",
              "      <th>remoto</th>\n",
              "      <th>empresa</th>\n",
              "      <th>tamanho_empresa</th>\n",
              "    </tr>\n",
              "  </thead>\n",
              "  <tbody>\n",
              "    <tr>\n",
              "      <th>5588</th>\n",
              "      <td>NaN</td>\n",
              "      <td>senior</td>\n",
              "      <td>integral</td>\n",
              "      <td>Product Manager</td>\n",
              "      <td>184500</td>\n",
              "      <td>USD</td>\n",
              "      <td>184500</td>\n",
              "      <td>US</td>\n",
              "      <td>presencial</td>\n",
              "      <td>US</td>\n",
              "      <td>media</td>\n",
              "    </tr>\n",
              "    <tr>\n",
              "      <th>59692</th>\n",
              "      <td>NaN</td>\n",
              "      <td>pleno</td>\n",
              "      <td>integral</td>\n",
              "      <td>Engineer</td>\n",
              "      <td>110000</td>\n",
              "      <td>USD</td>\n",
              "      <td>110000</td>\n",
              "      <td>DE</td>\n",
              "      <td>presencial</td>\n",
              "      <td>DE</td>\n",
              "      <td>media</td>\n",
              "    </tr>\n",
              "    <tr>\n",
              "      <th>59710</th>\n",
              "      <td>NaN</td>\n",
              "      <td>junior</td>\n",
              "      <td>integral</td>\n",
              "      <td>Data Scientist</td>\n",
              "      <td>208800</td>\n",
              "      <td>USD</td>\n",
              "      <td>208800</td>\n",
              "      <td>US</td>\n",
              "      <td>presencial</td>\n",
              "      <td>US</td>\n",
              "      <td>media</td>\n",
              "    </tr>\n",
              "    <tr>\n",
              "      <th>59759</th>\n",
              "      <td>NaN</td>\n",
              "      <td>senior</td>\n",
              "      <td>integral</td>\n",
              "      <td>Software Engineer</td>\n",
              "      <td>135000</td>\n",
              "      <td>USD</td>\n",
              "      <td>135000</td>\n",
              "      <td>US</td>\n",
              "      <td>presencial</td>\n",
              "      <td>US</td>\n",
              "      <td>media</td>\n",
              "    </tr>\n",
              "    <tr>\n",
              "      <th>59789</th>\n",
              "      <td>NaN</td>\n",
              "      <td>senior</td>\n",
              "      <td>integral</td>\n",
              "      <td>Engineer</td>\n",
              "      <td>112000</td>\n",
              "      <td>USD</td>\n",
              "      <td>112000</td>\n",
              "      <td>US</td>\n",
              "      <td>presencial</td>\n",
              "      <td>US</td>\n",
              "      <td>media</td>\n",
              "    </tr>\n",
              "    <tr>\n",
              "      <th>131000</th>\n",
              "      <td>NaN</td>\n",
              "      <td>senior</td>\n",
              "      <td>integral</td>\n",
              "      <td>Machine Learning Engineer</td>\n",
              "      <td>163800</td>\n",
              "      <td>USD</td>\n",
              "      <td>163800</td>\n",
              "      <td>US</td>\n",
              "      <td>presencial</td>\n",
              "      <td>US</td>\n",
              "      <td>media</td>\n",
              "    </tr>\n",
              "    <tr>\n",
              "      <th>131006</th>\n",
              "      <td>NaN</td>\n",
              "      <td>senior</td>\n",
              "      <td>integral</td>\n",
              "      <td>Data Analytics Manager</td>\n",
              "      <td>204500</td>\n",
              "      <td>USD</td>\n",
              "      <td>204500</td>\n",
              "      <td>US</td>\n",
              "      <td>presencial</td>\n",
              "      <td>US</td>\n",
              "      <td>media</td>\n",
              "    </tr>\n",
              "    <tr>\n",
              "      <th>133054</th>\n",
              "      <td>NaN</td>\n",
              "      <td>junior</td>\n",
              "      <td>integral</td>\n",
              "      <td>Data Scientist</td>\n",
              "      <td>40000</td>\n",
              "      <td>USD</td>\n",
              "      <td>40000</td>\n",
              "      <td>JP</td>\n",
              "      <td>remoto</td>\n",
              "      <td>MY</td>\n",
              "      <td>grande</td>\n",
              "    </tr>\n",
              "    <tr>\n",
              "      <th>133281</th>\n",
              "      <td>NaN</td>\n",
              "      <td>pleno</td>\n",
              "      <td>integral</td>\n",
              "      <td>Machine Learning Engineer</td>\n",
              "      <td>180000</td>\n",
              "      <td>PLN</td>\n",
              "      <td>46597</td>\n",
              "      <td>PL</td>\n",
              "      <td>remoto</td>\n",
              "      <td>PL</td>\n",
              "      <td>grande</td>\n",
              "    </tr>\n",
              "    <tr>\n",
              "      <th>133317</th>\n",
              "      <td>NaN</td>\n",
              "      <td>pleno</td>\n",
              "      <td>integral</td>\n",
              "      <td>Data Scientist</td>\n",
              "      <td>130000</td>\n",
              "      <td>USD</td>\n",
              "      <td>130000</td>\n",
              "      <td>US</td>\n",
              "      <td>hibrido</td>\n",
              "      <td>US</td>\n",
              "      <td>grande</td>\n",
              "    </tr>\n",
              "  </tbody>\n",
              "</table>\n",
              "</div>"
            ],
            "text/plain": [
              "        ano senioridade  contrato                      cargo  salario moeda  \\\n",
              "5588    NaN      senior  integral            Product Manager   184500   USD   \n",
              "59692   NaN       pleno  integral                   Engineer   110000   USD   \n",
              "59710   NaN      junior  integral             Data Scientist   208800   USD   \n",
              "59759   NaN      senior  integral          Software Engineer   135000   USD   \n",
              "59789   NaN      senior  integral                   Engineer   112000   USD   \n",
              "131000  NaN      senior  integral  Machine Learning Engineer   163800   USD   \n",
              "131006  NaN      senior  integral     Data Analytics Manager   204500   USD   \n",
              "133054  NaN      junior  integral             Data Scientist    40000   USD   \n",
              "133281  NaN       pleno  integral  Machine Learning Engineer   180000   PLN   \n",
              "133317  NaN       pleno  integral             Data Scientist   130000   USD   \n",
              "\n",
              "           usd residencia      remoto empresa tamanho_empresa  \n",
              "5588    184500         US  presencial      US           media  \n",
              "59692   110000         DE  presencial      DE           media  \n",
              "59710   208800         US  presencial      US           media  \n",
              "59759   135000         US  presencial      US           media  \n",
              "59789   112000         US  presencial      US           media  \n",
              "131000  163800         US  presencial      US           media  \n",
              "131006  204500         US  presencial      US           media  \n",
              "133054   40000         JP      remoto      MY          grande  \n",
              "133281   46597         PL      remoto      PL          grande  \n",
              "133317  130000         US     hibrido      US          grande  "
            ]
          },
          "execution_count": 22,
          "metadata": {},
          "output_type": "execute_result"
        }
      ],
      "source": [
        "df[df['ano'].isnull()]"
      ]
    },
    {
      "cell_type": "code",
      "execution_count": 20,
      "metadata": {},
      "outputs": [
        {
          "data": {
            "application/vnd.microsoft.datawrangler.viewer.v0+json": {
              "columns": [
                {
                  "name": "index",
                  "rawType": "int64",
                  "type": "integer"
                },
                {
                  "name": "ano",
                  "rawType": "float64",
                  "type": "float"
                },
                {
                  "name": "senioridade",
                  "rawType": "object",
                  "type": "string"
                },
                {
                  "name": "contrato",
                  "rawType": "object",
                  "type": "string"
                },
                {
                  "name": "cargo",
                  "rawType": "object",
                  "type": "string"
                },
                {
                  "name": "salario",
                  "rawType": "int64",
                  "type": "integer"
                },
                {
                  "name": "moeda",
                  "rawType": "object",
                  "type": "string"
                },
                {
                  "name": "usd",
                  "rawType": "int64",
                  "type": "integer"
                },
                {
                  "name": "residencia",
                  "rawType": "object",
                  "type": "string"
                },
                {
                  "name": "remoto",
                  "rawType": "object",
                  "type": "string"
                },
                {
                  "name": "empresa",
                  "rawType": "object",
                  "type": "string"
                },
                {
                  "name": "tamanho_empresa",
                  "rawType": "object",
                  "type": "string"
                }
              ],
              "ref": "02f428b6-192b-434b-81c4-c1e8dc0efafb",
              "rows": [
                [
                  "5588",
                  null,
                  "senior",
                  "integral",
                  "Product Manager",
                  "184500",
                  "USD",
                  "184500",
                  "US",
                  "presencial",
                  "US",
                  "media"
                ],
                [
                  "59692",
                  null,
                  "pleno",
                  "integral",
                  "Engineer",
                  "110000",
                  "USD",
                  "110000",
                  "DE",
                  "presencial",
                  "DE",
                  "media"
                ],
                [
                  "59710",
                  null,
                  "junior",
                  "integral",
                  "Data Scientist",
                  "208800",
                  "USD",
                  "208800",
                  "US",
                  "presencial",
                  "US",
                  "media"
                ],
                [
                  "59759",
                  null,
                  "senior",
                  "integral",
                  "Software Engineer",
                  "135000",
                  "USD",
                  "135000",
                  "US",
                  "presencial",
                  "US",
                  "media"
                ],
                [
                  "59789",
                  null,
                  "senior",
                  "integral",
                  "Engineer",
                  "112000",
                  "USD",
                  "112000",
                  "US",
                  "presencial",
                  "US",
                  "media"
                ],
                [
                  "131000",
                  null,
                  "senior",
                  "integral",
                  "Machine Learning Engineer",
                  "163800",
                  "USD",
                  "163800",
                  "US",
                  "presencial",
                  "US",
                  "media"
                ],
                [
                  "131006",
                  null,
                  "senior",
                  "integral",
                  "Data Analytics Manager",
                  "204500",
                  "USD",
                  "204500",
                  "US",
                  "presencial",
                  "US",
                  "media"
                ],
                [
                  "133054",
                  null,
                  "junior",
                  "integral",
                  "Data Scientist",
                  "40000",
                  "USD",
                  "40000",
                  "JP",
                  "remoto",
                  "MY",
                  "grande"
                ],
                [
                  "133281",
                  null,
                  "pleno",
                  "integral",
                  "Machine Learning Engineer",
                  "180000",
                  "PLN",
                  "46597",
                  "PL",
                  "remoto",
                  "PL",
                  "grande"
                ],
                [
                  "133317",
                  null,
                  "pleno",
                  "integral",
                  "Data Scientist",
                  "130000",
                  "USD",
                  "130000",
                  "US",
                  "hibrido",
                  "US",
                  "grande"
                ]
              ],
              "shape": {
                "columns": 11,
                "rows": 10
              }
            },
            "text/html": [
              "<div>\n",
              "<style scoped>\n",
              "    .dataframe tbody tr th:only-of-type {\n",
              "        vertical-align: middle;\n",
              "    }\n",
              "\n",
              "    .dataframe tbody tr th {\n",
              "        vertical-align: top;\n",
              "    }\n",
              "\n",
              "    .dataframe thead th {\n",
              "        text-align: right;\n",
              "    }\n",
              "</style>\n",
              "<table border=\"1\" class=\"dataframe\">\n",
              "  <thead>\n",
              "    <tr style=\"text-align: right;\">\n",
              "      <th></th>\n",
              "      <th>ano</th>\n",
              "      <th>senioridade</th>\n",
              "      <th>contrato</th>\n",
              "      <th>cargo</th>\n",
              "      <th>salario</th>\n",
              "      <th>moeda</th>\n",
              "      <th>usd</th>\n",
              "      <th>residencia</th>\n",
              "      <th>remoto</th>\n",
              "      <th>empresa</th>\n",
              "      <th>tamanho_empresa</th>\n",
              "    </tr>\n",
              "  </thead>\n",
              "  <tbody>\n",
              "    <tr>\n",
              "      <th>5588</th>\n",
              "      <td>NaN</td>\n",
              "      <td>senior</td>\n",
              "      <td>integral</td>\n",
              "      <td>Product Manager</td>\n",
              "      <td>184500</td>\n",
              "      <td>USD</td>\n",
              "      <td>184500</td>\n",
              "      <td>US</td>\n",
              "      <td>presencial</td>\n",
              "      <td>US</td>\n",
              "      <td>media</td>\n",
              "    </tr>\n",
              "    <tr>\n",
              "      <th>59692</th>\n",
              "      <td>NaN</td>\n",
              "      <td>pleno</td>\n",
              "      <td>integral</td>\n",
              "      <td>Engineer</td>\n",
              "      <td>110000</td>\n",
              "      <td>USD</td>\n",
              "      <td>110000</td>\n",
              "      <td>DE</td>\n",
              "      <td>presencial</td>\n",
              "      <td>DE</td>\n",
              "      <td>media</td>\n",
              "    </tr>\n",
              "    <tr>\n",
              "      <th>59710</th>\n",
              "      <td>NaN</td>\n",
              "      <td>junior</td>\n",
              "      <td>integral</td>\n",
              "      <td>Data Scientist</td>\n",
              "      <td>208800</td>\n",
              "      <td>USD</td>\n",
              "      <td>208800</td>\n",
              "      <td>US</td>\n",
              "      <td>presencial</td>\n",
              "      <td>US</td>\n",
              "      <td>media</td>\n",
              "    </tr>\n",
              "    <tr>\n",
              "      <th>59759</th>\n",
              "      <td>NaN</td>\n",
              "      <td>senior</td>\n",
              "      <td>integral</td>\n",
              "      <td>Software Engineer</td>\n",
              "      <td>135000</td>\n",
              "      <td>USD</td>\n",
              "      <td>135000</td>\n",
              "      <td>US</td>\n",
              "      <td>presencial</td>\n",
              "      <td>US</td>\n",
              "      <td>media</td>\n",
              "    </tr>\n",
              "    <tr>\n",
              "      <th>59789</th>\n",
              "      <td>NaN</td>\n",
              "      <td>senior</td>\n",
              "      <td>integral</td>\n",
              "      <td>Engineer</td>\n",
              "      <td>112000</td>\n",
              "      <td>USD</td>\n",
              "      <td>112000</td>\n",
              "      <td>US</td>\n",
              "      <td>presencial</td>\n",
              "      <td>US</td>\n",
              "      <td>media</td>\n",
              "    </tr>\n",
              "    <tr>\n",
              "      <th>131000</th>\n",
              "      <td>NaN</td>\n",
              "      <td>senior</td>\n",
              "      <td>integral</td>\n",
              "      <td>Machine Learning Engineer</td>\n",
              "      <td>163800</td>\n",
              "      <td>USD</td>\n",
              "      <td>163800</td>\n",
              "      <td>US</td>\n",
              "      <td>presencial</td>\n",
              "      <td>US</td>\n",
              "      <td>media</td>\n",
              "    </tr>\n",
              "    <tr>\n",
              "      <th>131006</th>\n",
              "      <td>NaN</td>\n",
              "      <td>senior</td>\n",
              "      <td>integral</td>\n",
              "      <td>Data Analytics Manager</td>\n",
              "      <td>204500</td>\n",
              "      <td>USD</td>\n",
              "      <td>204500</td>\n",
              "      <td>US</td>\n",
              "      <td>presencial</td>\n",
              "      <td>US</td>\n",
              "      <td>media</td>\n",
              "    </tr>\n",
              "    <tr>\n",
              "      <th>133054</th>\n",
              "      <td>NaN</td>\n",
              "      <td>junior</td>\n",
              "      <td>integral</td>\n",
              "      <td>Data Scientist</td>\n",
              "      <td>40000</td>\n",
              "      <td>USD</td>\n",
              "      <td>40000</td>\n",
              "      <td>JP</td>\n",
              "      <td>remoto</td>\n",
              "      <td>MY</td>\n",
              "      <td>grande</td>\n",
              "    </tr>\n",
              "    <tr>\n",
              "      <th>133281</th>\n",
              "      <td>NaN</td>\n",
              "      <td>pleno</td>\n",
              "      <td>integral</td>\n",
              "      <td>Machine Learning Engineer</td>\n",
              "      <td>180000</td>\n",
              "      <td>PLN</td>\n",
              "      <td>46597</td>\n",
              "      <td>PL</td>\n",
              "      <td>remoto</td>\n",
              "      <td>PL</td>\n",
              "      <td>grande</td>\n",
              "    </tr>\n",
              "    <tr>\n",
              "      <th>133317</th>\n",
              "      <td>NaN</td>\n",
              "      <td>pleno</td>\n",
              "      <td>integral</td>\n",
              "      <td>Data Scientist</td>\n",
              "      <td>130000</td>\n",
              "      <td>USD</td>\n",
              "      <td>130000</td>\n",
              "      <td>US</td>\n",
              "      <td>hibrido</td>\n",
              "      <td>US</td>\n",
              "      <td>grande</td>\n",
              "    </tr>\n",
              "  </tbody>\n",
              "</table>\n",
              "</div>"
            ],
            "text/plain": [
              "        ano senioridade  contrato                      cargo  salario moeda  \\\n",
              "5588    NaN      senior  integral            Product Manager   184500   USD   \n",
              "59692   NaN       pleno  integral                   Engineer   110000   USD   \n",
              "59710   NaN      junior  integral             Data Scientist   208800   USD   \n",
              "59759   NaN      senior  integral          Software Engineer   135000   USD   \n",
              "59789   NaN      senior  integral                   Engineer   112000   USD   \n",
              "131000  NaN      senior  integral  Machine Learning Engineer   163800   USD   \n",
              "131006  NaN      senior  integral     Data Analytics Manager   204500   USD   \n",
              "133054  NaN      junior  integral             Data Scientist    40000   USD   \n",
              "133281  NaN       pleno  integral  Machine Learning Engineer   180000   PLN   \n",
              "133317  NaN       pleno  integral             Data Scientist   130000   USD   \n",
              "\n",
              "           usd residencia      remoto empresa tamanho_empresa  \n",
              "5588    184500         US  presencial      US           media  \n",
              "59692   110000         DE  presencial      DE           media  \n",
              "59710   208800         US  presencial      US           media  \n",
              "59759   135000         US  presencial      US           media  \n",
              "59789   112000         US  presencial      US           media  \n",
              "131000  163800         US  presencial      US           media  \n",
              "131006  204500         US  presencial      US           media  \n",
              "133054   40000         JP      remoto      MY          grande  \n",
              "133281   46597         PL      remoto      PL          grande  \n",
              "133317  130000         US     hibrido      US          grande  "
            ]
          },
          "execution_count": 20,
          "metadata": {},
          "output_type": "execute_result"
        }
      ],
      "source": [
        "df[df.isnull().any(axis=1)]"
      ]
    },
    {
      "cell_type": "code",
      "execution_count": 23,
      "metadata": {},
      "outputs": [],
      "source": [
        "df_cleaned = df.dropna()"
      ]
    },
    {
      "cell_type": "code",
      "execution_count": 24,
      "metadata": {},
      "outputs": [
        {
          "data": {
            "application/vnd.microsoft.datawrangler.viewer.v0+json": {
              "columns": [
                {
                  "name": "index",
                  "rawType": "object",
                  "type": "string"
                },
                {
                  "name": "0",
                  "rawType": "int64",
                  "type": "integer"
                }
              ],
              "ref": "0353a84b-e060-43fb-a89d-4380d2d9a85e",
              "rows": [
                [
                  "ano",
                  "0"
                ],
                [
                  "senioridade",
                  "0"
                ],
                [
                  "contrato",
                  "0"
                ],
                [
                  "cargo",
                  "0"
                ],
                [
                  "salario",
                  "0"
                ],
                [
                  "moeda",
                  "0"
                ],
                [
                  "usd",
                  "0"
                ],
                [
                  "residencia",
                  "0"
                ],
                [
                  "remoto",
                  "0"
                ],
                [
                  "empresa",
                  "0"
                ],
                [
                  "tamanho_empresa",
                  "0"
                ]
              ],
              "shape": {
                "columns": 1,
                "rows": 11
              }
            },
            "text/plain": [
              "ano                0\n",
              "senioridade        0\n",
              "contrato           0\n",
              "cargo              0\n",
              "salario            0\n",
              "moeda              0\n",
              "usd                0\n",
              "residencia         0\n",
              "remoto             0\n",
              "empresa            0\n",
              "tamanho_empresa    0\n",
              "dtype: int64"
            ]
          },
          "execution_count": 24,
          "metadata": {},
          "output_type": "execute_result"
        }
      ],
      "source": [
        "df_cleaned.isnull().sum()"
      ]
    },
    {
      "cell_type": "code",
      "execution_count": 25,
      "metadata": {},
      "outputs": [
        {
          "data": {
            "application/vnd.microsoft.datawrangler.viewer.v0+json": {
              "columns": [
                {
                  "name": "index",
                  "rawType": "int64",
                  "type": "integer"
                },
                {
                  "name": "ano",
                  "rawType": "float64",
                  "type": "float"
                },
                {
                  "name": "senioridade",
                  "rawType": "object",
                  "type": "string"
                },
                {
                  "name": "contrato",
                  "rawType": "object",
                  "type": "string"
                },
                {
                  "name": "cargo",
                  "rawType": "object",
                  "type": "string"
                },
                {
                  "name": "salario",
                  "rawType": "int64",
                  "type": "integer"
                },
                {
                  "name": "moeda",
                  "rawType": "object",
                  "type": "string"
                },
                {
                  "name": "usd",
                  "rawType": "int64",
                  "type": "integer"
                },
                {
                  "name": "residencia",
                  "rawType": "object",
                  "type": "string"
                },
                {
                  "name": "remoto",
                  "rawType": "object",
                  "type": "string"
                },
                {
                  "name": "empresa",
                  "rawType": "object",
                  "type": "string"
                },
                {
                  "name": "tamanho_empresa",
                  "rawType": "object",
                  "type": "string"
                }
              ],
              "ref": "a3b5b83b-5b9c-4036-a754-2752a6ed1e58",
              "rows": [
                [
                  "0",
                  "2025.0",
                  "senior",
                  "integral",
                  "Solutions Engineer",
                  "214000",
                  "USD",
                  "214000",
                  "US",
                  "remoto",
                  "US",
                  "media"
                ],
                [
                  "1",
                  "2025.0",
                  "senior",
                  "integral",
                  "Solutions Engineer",
                  "136000",
                  "USD",
                  "136000",
                  "US",
                  "remoto",
                  "US",
                  "media"
                ],
                [
                  "2",
                  "2025.0",
                  "pleno",
                  "integral",
                  "Data Engineer",
                  "158800",
                  "USD",
                  "158800",
                  "AU",
                  "presencial",
                  "AU",
                  "media"
                ],
                [
                  "3",
                  "2025.0",
                  "pleno",
                  "integral",
                  "Data Engineer",
                  "139200",
                  "USD",
                  "139200",
                  "AU",
                  "presencial",
                  "AU",
                  "media"
                ],
                [
                  "4",
                  "2025.0",
                  "junior",
                  "integral",
                  "Data Engineer",
                  "90000",
                  "USD",
                  "90000",
                  "US",
                  "presencial",
                  "US",
                  "media"
                ]
              ],
              "shape": {
                "columns": 11,
                "rows": 5
              }
            },
            "text/html": [
              "<div>\n",
              "<style scoped>\n",
              "    .dataframe tbody tr th:only-of-type {\n",
              "        vertical-align: middle;\n",
              "    }\n",
              "\n",
              "    .dataframe tbody tr th {\n",
              "        vertical-align: top;\n",
              "    }\n",
              "\n",
              "    .dataframe thead th {\n",
              "        text-align: right;\n",
              "    }\n",
              "</style>\n",
              "<table border=\"1\" class=\"dataframe\">\n",
              "  <thead>\n",
              "    <tr style=\"text-align: right;\">\n",
              "      <th></th>\n",
              "      <th>ano</th>\n",
              "      <th>senioridade</th>\n",
              "      <th>contrato</th>\n",
              "      <th>cargo</th>\n",
              "      <th>salario</th>\n",
              "      <th>moeda</th>\n",
              "      <th>usd</th>\n",
              "      <th>residencia</th>\n",
              "      <th>remoto</th>\n",
              "      <th>empresa</th>\n",
              "      <th>tamanho_empresa</th>\n",
              "    </tr>\n",
              "  </thead>\n",
              "  <tbody>\n",
              "    <tr>\n",
              "      <th>0</th>\n",
              "      <td>2025.0</td>\n",
              "      <td>senior</td>\n",
              "      <td>integral</td>\n",
              "      <td>Solutions Engineer</td>\n",
              "      <td>214000</td>\n",
              "      <td>USD</td>\n",
              "      <td>214000</td>\n",
              "      <td>US</td>\n",
              "      <td>remoto</td>\n",
              "      <td>US</td>\n",
              "      <td>media</td>\n",
              "    </tr>\n",
              "    <tr>\n",
              "      <th>1</th>\n",
              "      <td>2025.0</td>\n",
              "      <td>senior</td>\n",
              "      <td>integral</td>\n",
              "      <td>Solutions Engineer</td>\n",
              "      <td>136000</td>\n",
              "      <td>USD</td>\n",
              "      <td>136000</td>\n",
              "      <td>US</td>\n",
              "      <td>remoto</td>\n",
              "      <td>US</td>\n",
              "      <td>media</td>\n",
              "    </tr>\n",
              "    <tr>\n",
              "      <th>2</th>\n",
              "      <td>2025.0</td>\n",
              "      <td>pleno</td>\n",
              "      <td>integral</td>\n",
              "      <td>Data Engineer</td>\n",
              "      <td>158800</td>\n",
              "      <td>USD</td>\n",
              "      <td>158800</td>\n",
              "      <td>AU</td>\n",
              "      <td>presencial</td>\n",
              "      <td>AU</td>\n",
              "      <td>media</td>\n",
              "    </tr>\n",
              "    <tr>\n",
              "      <th>3</th>\n",
              "      <td>2025.0</td>\n",
              "      <td>pleno</td>\n",
              "      <td>integral</td>\n",
              "      <td>Data Engineer</td>\n",
              "      <td>139200</td>\n",
              "      <td>USD</td>\n",
              "      <td>139200</td>\n",
              "      <td>AU</td>\n",
              "      <td>presencial</td>\n",
              "      <td>AU</td>\n",
              "      <td>media</td>\n",
              "    </tr>\n",
              "    <tr>\n",
              "      <th>4</th>\n",
              "      <td>2025.0</td>\n",
              "      <td>junior</td>\n",
              "      <td>integral</td>\n",
              "      <td>Data Engineer</td>\n",
              "      <td>90000</td>\n",
              "      <td>USD</td>\n",
              "      <td>90000</td>\n",
              "      <td>US</td>\n",
              "      <td>presencial</td>\n",
              "      <td>US</td>\n",
              "      <td>media</td>\n",
              "    </tr>\n",
              "  </tbody>\n",
              "</table>\n",
              "</div>"
            ],
            "text/plain": [
              "      ano senioridade  contrato               cargo  salario moeda     usd  \\\n",
              "0  2025.0      senior  integral  Solutions Engineer   214000   USD  214000   \n",
              "1  2025.0      senior  integral  Solutions Engineer   136000   USD  136000   \n",
              "2  2025.0       pleno  integral       Data Engineer   158800   USD  158800   \n",
              "3  2025.0       pleno  integral       Data Engineer   139200   USD  139200   \n",
              "4  2025.0      junior  integral       Data Engineer    90000   USD   90000   \n",
              "\n",
              "  residencia      remoto empresa tamanho_empresa  \n",
              "0         US      remoto      US           media  \n",
              "1         US      remoto      US           media  \n",
              "2         AU  presencial      AU           media  \n",
              "3         AU  presencial      AU           media  \n",
              "4         US  presencial      US           media  "
            ]
          },
          "execution_count": 25,
          "metadata": {},
          "output_type": "execute_result"
        }
      ],
      "source": [
        "df_cleaned.head()"
      ]
    },
    {
      "cell_type": "code",
      "execution_count": 26,
      "metadata": {},
      "outputs": [
        {
          "name": "stdout",
          "output_type": "stream",
          "text": [
            "<class 'pandas.core.frame.DataFrame'>\n",
            "Int64Index: 133339 entries, 0 to 133348\n",
            "Data columns (total 11 columns):\n",
            " #   Column           Non-Null Count   Dtype  \n",
            "---  ------           --------------   -----  \n",
            " 0   ano              133339 non-null  float64\n",
            " 1   senioridade      133339 non-null  object \n",
            " 2   contrato         133339 non-null  object \n",
            " 3   cargo            133339 non-null  object \n",
            " 4   salario          133339 non-null  int64  \n",
            " 5   moeda            133339 non-null  object \n",
            " 6   usd              133339 non-null  int64  \n",
            " 7   residencia       133339 non-null  object \n",
            " 8   remoto           133339 non-null  object \n",
            " 9   empresa          133339 non-null  object \n",
            " 10  tamanho_empresa  133339 non-null  object \n",
            "dtypes: float64(1), int64(2), object(8)\n",
            "memory usage: 12.2+ MB\n"
          ]
        }
      ],
      "source": [
        "df_cleaned.info()"
      ]
    },
    {
      "cell_type": "code",
      "execution_count": 27,
      "metadata": {},
      "outputs": [],
      "source": [
        "df_cleaned = df_cleaned.assign(ano = df_cleaned['ano'].astype('int64'))"
      ]
    },
    {
      "cell_type": "code",
      "execution_count": 28,
      "metadata": {},
      "outputs": [
        {
          "name": "stdout",
          "output_type": "stream",
          "text": [
            "<class 'pandas.core.frame.DataFrame'>\n",
            "Int64Index: 133339 entries, 0 to 133348\n",
            "Data columns (total 11 columns):\n",
            " #   Column           Non-Null Count   Dtype \n",
            "---  ------           --------------   ----- \n",
            " 0   ano              133339 non-null  int64 \n",
            " 1   senioridade      133339 non-null  object\n",
            " 2   contrato         133339 non-null  object\n",
            " 3   cargo            133339 non-null  object\n",
            " 4   salario          133339 non-null  int64 \n",
            " 5   moeda            133339 non-null  object\n",
            " 6   usd              133339 non-null  int64 \n",
            " 7   residencia       133339 non-null  object\n",
            " 8   remoto           133339 non-null  object\n",
            " 9   empresa          133339 non-null  object\n",
            " 10  tamanho_empresa  133339 non-null  object\n",
            "dtypes: int64(3), object(8)\n",
            "memory usage: 12.2+ MB\n"
          ]
        }
      ],
      "source": [
        "df_cleaned.info()"
      ]
    },
    {
      "cell_type": "markdown",
      "metadata": {},
      "source": [
        "# Aula 3"
      ]
    },
    {
      "cell_type": "code",
      "execution_count": 29,
      "metadata": {},
      "outputs": [
        {
          "data": {
            "application/vnd.microsoft.datawrangler.viewer.v0+json": {
              "columns": [
                {
                  "name": "index",
                  "rawType": "int64",
                  "type": "integer"
                },
                {
                  "name": "ano",
                  "rawType": "int64",
                  "type": "integer"
                },
                {
                  "name": "senioridade",
                  "rawType": "object",
                  "type": "string"
                },
                {
                  "name": "contrato",
                  "rawType": "object",
                  "type": "string"
                },
                {
                  "name": "cargo",
                  "rawType": "object",
                  "type": "string"
                },
                {
                  "name": "salario",
                  "rawType": "int64",
                  "type": "integer"
                },
                {
                  "name": "moeda",
                  "rawType": "object",
                  "type": "string"
                },
                {
                  "name": "usd",
                  "rawType": "int64",
                  "type": "integer"
                },
                {
                  "name": "residencia",
                  "rawType": "object",
                  "type": "string"
                },
                {
                  "name": "remoto",
                  "rawType": "object",
                  "type": "string"
                },
                {
                  "name": "empresa",
                  "rawType": "object",
                  "type": "string"
                },
                {
                  "name": "tamanho_empresa",
                  "rawType": "object",
                  "type": "string"
                }
              ],
              "ref": "d9c96819-7d9d-4e34-a507-c31d56e242b8",
              "rows": [
                [
                  "0",
                  "2025",
                  "senior",
                  "integral",
                  "Solutions Engineer",
                  "214000",
                  "USD",
                  "214000",
                  "US",
                  "remoto",
                  "US",
                  "media"
                ],
                [
                  "1",
                  "2025",
                  "senior",
                  "integral",
                  "Solutions Engineer",
                  "136000",
                  "USD",
                  "136000",
                  "US",
                  "remoto",
                  "US",
                  "media"
                ],
                [
                  "2",
                  "2025",
                  "pleno",
                  "integral",
                  "Data Engineer",
                  "158800",
                  "USD",
                  "158800",
                  "AU",
                  "presencial",
                  "AU",
                  "media"
                ],
                [
                  "3",
                  "2025",
                  "pleno",
                  "integral",
                  "Data Engineer",
                  "139200",
                  "USD",
                  "139200",
                  "AU",
                  "presencial",
                  "AU",
                  "media"
                ],
                [
                  "4",
                  "2025",
                  "junior",
                  "integral",
                  "Data Engineer",
                  "90000",
                  "USD",
                  "90000",
                  "US",
                  "presencial",
                  "US",
                  "media"
                ]
              ],
              "shape": {
                "columns": 11,
                "rows": 5
              }
            },
            "text/html": [
              "<div>\n",
              "<style scoped>\n",
              "    .dataframe tbody tr th:only-of-type {\n",
              "        vertical-align: middle;\n",
              "    }\n",
              "\n",
              "    .dataframe tbody tr th {\n",
              "        vertical-align: top;\n",
              "    }\n",
              "\n",
              "    .dataframe thead th {\n",
              "        text-align: right;\n",
              "    }\n",
              "</style>\n",
              "<table border=\"1\" class=\"dataframe\">\n",
              "  <thead>\n",
              "    <tr style=\"text-align: right;\">\n",
              "      <th></th>\n",
              "      <th>ano</th>\n",
              "      <th>senioridade</th>\n",
              "      <th>contrato</th>\n",
              "      <th>cargo</th>\n",
              "      <th>salario</th>\n",
              "      <th>moeda</th>\n",
              "      <th>usd</th>\n",
              "      <th>residencia</th>\n",
              "      <th>remoto</th>\n",
              "      <th>empresa</th>\n",
              "      <th>tamanho_empresa</th>\n",
              "    </tr>\n",
              "  </thead>\n",
              "  <tbody>\n",
              "    <tr>\n",
              "      <th>0</th>\n",
              "      <td>2025</td>\n",
              "      <td>senior</td>\n",
              "      <td>integral</td>\n",
              "      <td>Solutions Engineer</td>\n",
              "      <td>214000</td>\n",
              "      <td>USD</td>\n",
              "      <td>214000</td>\n",
              "      <td>US</td>\n",
              "      <td>remoto</td>\n",
              "      <td>US</td>\n",
              "      <td>media</td>\n",
              "    </tr>\n",
              "    <tr>\n",
              "      <th>1</th>\n",
              "      <td>2025</td>\n",
              "      <td>senior</td>\n",
              "      <td>integral</td>\n",
              "      <td>Solutions Engineer</td>\n",
              "      <td>136000</td>\n",
              "      <td>USD</td>\n",
              "      <td>136000</td>\n",
              "      <td>US</td>\n",
              "      <td>remoto</td>\n",
              "      <td>US</td>\n",
              "      <td>media</td>\n",
              "    </tr>\n",
              "    <tr>\n",
              "      <th>2</th>\n",
              "      <td>2025</td>\n",
              "      <td>pleno</td>\n",
              "      <td>integral</td>\n",
              "      <td>Data Engineer</td>\n",
              "      <td>158800</td>\n",
              "      <td>USD</td>\n",
              "      <td>158800</td>\n",
              "      <td>AU</td>\n",
              "      <td>presencial</td>\n",
              "      <td>AU</td>\n",
              "      <td>media</td>\n",
              "    </tr>\n",
              "    <tr>\n",
              "      <th>3</th>\n",
              "      <td>2025</td>\n",
              "      <td>pleno</td>\n",
              "      <td>integral</td>\n",
              "      <td>Data Engineer</td>\n",
              "      <td>139200</td>\n",
              "      <td>USD</td>\n",
              "      <td>139200</td>\n",
              "      <td>AU</td>\n",
              "      <td>presencial</td>\n",
              "      <td>AU</td>\n",
              "      <td>media</td>\n",
              "    </tr>\n",
              "    <tr>\n",
              "      <th>4</th>\n",
              "      <td>2025</td>\n",
              "      <td>junior</td>\n",
              "      <td>integral</td>\n",
              "      <td>Data Engineer</td>\n",
              "      <td>90000</td>\n",
              "      <td>USD</td>\n",
              "      <td>90000</td>\n",
              "      <td>US</td>\n",
              "      <td>presencial</td>\n",
              "      <td>US</td>\n",
              "      <td>media</td>\n",
              "    </tr>\n",
              "  </tbody>\n",
              "</table>\n",
              "</div>"
            ],
            "text/plain": [
              "    ano senioridade  contrato               cargo  salario moeda     usd  \\\n",
              "0  2025      senior  integral  Solutions Engineer   214000   USD  214000   \n",
              "1  2025      senior  integral  Solutions Engineer   136000   USD  136000   \n",
              "2  2025       pleno  integral       Data Engineer   158800   USD  158800   \n",
              "3  2025       pleno  integral       Data Engineer   139200   USD  139200   \n",
              "4  2025      junior  integral       Data Engineer    90000   USD   90000   \n",
              "\n",
              "  residencia      remoto empresa tamanho_empresa  \n",
              "0         US      remoto      US           media  \n",
              "1         US      remoto      US           media  \n",
              "2         AU  presencial      AU           media  \n",
              "3         AU  presencial      AU           media  \n",
              "4         US  presencial      US           media  "
            ]
          },
          "execution_count": 29,
          "metadata": {},
          "output_type": "execute_result"
        }
      ],
      "source": [
        "df_cleaned.head()"
      ]
    },
    {
      "cell_type": "code",
      "execution_count": 32,
      "metadata": {},
      "outputs": [
        {
          "data": {
            "text/plain": [
              "<Axes: title={'center': 'Distribuição de Senioridade'}>"
            ]
          },
          "execution_count": 32,
          "metadata": {},
          "output_type": "execute_result"
        },
        {
          "data": {
            "image/png": "[encoded data removed]",
            "text/plain": [
              "<Figure size 640x480 with 1 Axes>"
            ]
          },
          "metadata": {},
          "output_type": "display_data"
        }
      ],
      "source": [
        "df_cleaned['senioridade'].value_counts().plot(kind='bar', title='Distribuição de Senioridade')"
      ]
    },
    {
      "cell_type": "code",
      "execution_count": 33,
      "metadata": {},
      "outputs": [],
      "source": [
        "import seaborn as sns"
      ]
    },
    {
      "cell_type": "code",
      "execution_count": 34,
      "metadata": {},
      "outputs": [
        {
          "data": {
            "text/plain": [
              "<Axes: xlabel='senioridade', ylabel='usd'>"
            ]
          },
          "execution_count": 34,
          "metadata": {},
          "output_type": "execute_result"
        },
        {
          "data": {
            "image/png": "[encoded data removed]",
            "text/plain": [
              "<Figure size 640x480 with 1 Axes>"
            ]
          },
          "metadata": {},
          "output_type": "display_data"
        }
      ],
      "source": [
        "sns.barplot(data=df_cleaned, x='senioridade', y='usd')"
      ]
    },
    {
      "cell_type": "code",
      "execution_count": 35,
      "metadata": {},
      "outputs": [],
      "source": [
        "import matplotlib.pyplot as plt"
      ]
    },
    {
      "cell_type": "code",
      "execution_count": 41,
      "metadata": {},
      "outputs": [
        {
          "data": {
            "image/png": "[encoded data removed]",
            "text/plain": [
              "<Figure size 800x500 with 1 Axes>"
            ]
          },
          "metadata": {},
          "output_type": "display_data"
        }
      ],
      "source": [
        "plt.figure(figsize=(8,5))\n",
        "sns.barplot(data=df_cleaned, x='senioridade', y='usd')\n",
        "plt.title('Salario médio por senioridade')\n",
        "plt.xlabel('Senioridade')\n",
        "plt.ylabel('Salário médio anual (USD)')\n",
        "plt.show()"
      ]
    },
    {
      "cell_type": "code",
      "execution_count": null,
      "metadata": {},
      "outputs": [
        {
          "data": {
            "application/vnd.microsoft.datawrangler.viewer.v0+json": {
              "columns": [
                {
                  "name": "senioridade",
                  "rawType": "object",
                  "type": "string"
                },
                {
                  "name": "usd",
                  "rawType": "float64",
                  "type": "float"
                }
              ],
              "ref": "302d6668-31cd-411d-9f41-20f20999c927",
              "rows": [
                [
                  "executivo",
                  "202027.6678125"
                ],
                [
                  "senior",
                  "172850.83830079238"
                ],
                [
                  "pleno",
                  "143044.8459789432"
                ],
                [
                  "junior",
                  "99034.96326661843"
                ]
              ],
              "shape": {
                "columns": 1,
                "rows": 4
              }
            },
            "text/plain": [
              "senioridade\n",
              "executivo    202027.667813\n",
              "senior       172850.838301\n",
              "pleno        143044.845979\n",
              "junior        99034.963267\n",
              "Name: usd, dtype: float64"
            ]
          },
          "execution_count": 38,
          "metadata": {},
          "output_type": "execute_result"
        }
      ],
      "source": [
        "df_cleaned.groupby('senioridade')['usd'].mean().sort_values(ascending=False)"
      ]
    },
    {
      "cell_type": "code",
      "execution_count": 39,
      "metadata": {},
      "outputs": [
        {
          "data": {
            "text/plain": [
              "Index(['executivo', 'senior', 'pleno', 'junior'], dtype='object', name='senioridade')"
            ]
          },
          "execution_count": 39,
          "metadata": {},
          "output_type": "execute_result"
        }
      ],
      "source": [
        "order = df_cleaned.groupby('senioridade')['usd'].mean().sort_values(ascending=False).index\n",
        "order"
      ]
    },
    {
      "cell_type": "code",
      "execution_count": 42,
      "metadata": {},
      "outputs": [
        {
          "data": {
            "image/png": "[encoded data removed]",
            "text/plain": [
              "<Figure size 800x500 with 1 Axes>"
            ]
          },
          "metadata": {},
          "output_type": "display_data"
        }
      ],
      "source": [
        "plt.figure(figsize=(8,5))\n",
        "sns.barplot(data=df_cleaned, x='senioridade', y='usd', order=order)\n",
        "plt.title('Salario médio por senioridade')\n",
        "plt.xlabel('Senioridade')\n",
        "plt.ylabel('Salário médio anual (USD)')\n",
        "plt.show()"
      ]
    },
    {
      "cell_type": "code",
      "execution_count": 46,
      "metadata": {},
      "outputs": [
        {
          "data": {
            "image/png": "[encoded data removed]",
            "text/plain": [
              "<Figure size 800x400 with 1 Axes>"
            ]
          },
          "metadata": {},
          "output_type": "display_data"
        }
      ],
      "source": [
        "plt.figure(figsize=(8,4))\n",
        "sns.histplot(x=df_cleaned['usd'], bins = 50, kde=True)\n",
        "plt.title('Distribuição dos salários anuais')\n",
        "plt.xlabel('Salário em USD')\n",
        "plt.ylabel('Frequência')\n",
        "plt.show()"
      ]
    },
    {
      "cell_type": "code",
      "execution_count": 48,
      "metadata": {},
      "outputs": [
        {
          "data": {
            "image/png": "[encoded data removed]",
            "text/plain": [
              "<Figure size 800x400 with 1 Axes>"
            ]
          },
          "metadata": {},
          "output_type": "display_data"
        }
      ],
      "source": [
        "plt.figure(figsize=(8,4))\n",
        "sns.boxplot(x=df_cleaned['usd'])\n",
        "plt.title('Boxlot Salário')\n",
        "plt.xlabel('Salário em USD')\n",
        "plt.show()"
      ]
    },
    {
      "cell_type": "code",
      "execution_count": 53,
      "metadata": {},
      "outputs": [
        {
          "data": {
            "image/png": "[encoded data removed]",
            "text/plain": [
              "<Figure size 800x500 with 1 Axes>"
            ]
          },
          "metadata": {},
          "output_type": "display_data"
        }
      ],
      "source": [
        "order_senioridade = ['junior', 'pleno', 'senior', 'executivo']\n",
        "\n",
        "plt.figure(figsize=(8,5))\n",
        "sns.boxplot(x='senioridade', y='usd', data=df_cleaned, order=order_senioridade, palette='Set2', hue='senioridade')\n",
        "plt.title('Boxplot salário por senioridade')\n",
        "plt.xlabel('Salário em USD')\n",
        "plt.show()"
      ]
    },
    {
      "cell_type": "code",
      "execution_count": 54,
      "metadata": {},
      "outputs": [],
      "source": [
        "import plotly.express as px"
      ]
    },
    {
      "cell_type": "code",
      "execution_count": 57,
      "metadata": {},
      "outputs": [
        {
          "data": {
            "application/vnd.plotly.v1+json": {
              "config": {
                "plotlyServerURL": "https://plot.ly"
              },
              "data": [
                {
                  "hovertemplate": "senioridade=%{x}<br>Salário médio anual (USD)=%{y}<extra></extra>",
                  "legendgroup": "",
                  "marker": {
                    "color": "#636efa",
                    "pattern": {
                      "shape": ""
                    }
                  },
                  "name": "",
                  "orientation": "v",
                  "showlegend": false,
                  "textposition": "auto",
                  "type": "bar",
                  "x": [
                    "junior",
                    "pleno",
                    "senior",
                    "executivo"
                  ],
                  "xaxis": "x",
                  "y": {
                    "bdata": "+EGKaa8t+ECxm5DEJnYBQbwL17SWGQVBexSuV12pCEE=",
                    "dtype": "f8"
                  },
                  "yaxis": "y"
                }
              ],
              "layout": {
                "barmode": "relative",
                "legend": {
                  "tracegroupgap": 0
                },
                "template": {
                  "data": {
                    "bar": [
                      {
                        "error_x": {
                          "color": "#2a3f5f"
                        },
                        "error_y": {
                          "color": "#2a3f5f"
                        },
                        "marker": {
                          "line": {
                            "color": "#E5ECF6",
                            "width": 0.5
                          },
                          "pattern": {
                            "fillmode": "overlay",
                            "size": 10,
                            "solidity": 0.2
                          }
                        },
                        "type": "bar"
                      }
                    ],
                    "barpolar": [
                      {
                        "marker": {
                          "line": {
                            "color": "#E5ECF6",
                            "width": 0.5
                          },
                          "pattern": {
                            "fillmode": "overlay",
                            "size": 10,
                            "solidity": 0.2
                          }
                        },
                        "type": "barpolar"
                      }
                    ],
                    "carpet": [
                      {
                        "aaxis": {
                          "endlinecolor": "#2a3f5f",
                          "gridcolor": "white",
                          "linecolor": "white",
                          "minorgridcolor": "white",
                          "startlinecolor": "#2a3f5f"
                        },
                        "baxis": {
                          "endlinecolor": "#2a3f5f",
                          "gridcolor": "white",
                          "linecolor": "white",
                          "minorgridcolor": "white",
                          "startlinecolor": "#2a3f5f"
                        },
                        "type": "carpet"
                      }
                    ],
                    "choropleth": [
                      {
                        "colorbar": {
                          "outlinewidth": 0,
                          "ticks": ""
                        },
                        "type": "choropleth"
                      }
                    ],
                    "contour": [
                      {
                        "colorbar": {
                          "outlinewidth": 0,
                          "ticks": ""
                        },
                        "colorscale": [
                          [
                            0,
                            "#0d0887"
                          ],
                          [
                            0.1111111111111111,
                            "#46039f"
                          ],
                          [
                            0.2222222222222222,
                            "#7201a8"
                          ],
                          [
                            0.3333333333333333,
                            "#9c179e"
                          ],
                          [
                            0.4444444444444444,
                            "#bd3786"
                          ],
                          [
                            0.5555555555555556,
                            "#d8576b"
                          ],
                          [
                            0.6666666666666666,
                            "#ed7953"
                          ],
                          [
                            0.7777777777777778,
                            "#fb9f3a"
                          ],
                          [
                            0.8888888888888888,
                            "#fdca26"
                          ],
                          [
                            1,
                            "#f0f921"
                          ]
                        ],
                        "type": "contour"
                      }
                    ],
                    "contourcarpet": [
                      {
                        "colorbar": {
                          "outlinewidth": 0,
                          "ticks": ""
                        },
                        "type": "contourcarpet"
                      }
                    ],
                    "heatmap": [
                      {
                        "colorbar": {
                          "outlinewidth": 0,
                          "ticks": ""
                        },
                        "colorscale": [
                          [
                            0,
                            "#0d0887"
                          ],
                          [
                            0.1111111111111111,
                            "#46039f"
                          ],
                          [
                            0.2222222222222222,
                            "#7201a8"
                          ],
                          [
                            0.3333333333333333,
                            "#9c179e"
                          ],
                          [
                            0.4444444444444444,
                            "#bd3786"
                          ],
                          [
                            0.5555555555555556,
                            "#d8576b"
                          ],
                          [
                            0.6666666666666666,
                            "#ed7953"
                          ],
                          [
                            0.7777777777777778,
                            "#fb9f3a"
                          ],
                          [
                            0.8888888888888888,
                            "#fdca26"
                          ],
                          [
                            1,
                            "#f0f921"
                          ]
                        ],
                        "type": "heatmap"
                      }
                    ],
                    "histogram": [
                      {
                        "marker": {
                          "pattern": {
                            "fillmode": "overlay",
                            "size": 10,
                            "solidity": 0.2
                          }
                        },
                        "type": "histogram"
                      }
                    ],
                    "histogram2d": [
                      {
                        "colorbar": {
                          "outlinewidth": 0,
                          "ticks": ""
                        },
                        "colorscale": [
                          [
                            0,
                            "#0d0887"
                          ],
                          [
                            0.1111111111111111,
                            "#46039f"
                          ],
                          [
                            0.2222222222222222,
                            "#7201a8"
                          ],
                          [
                            0.3333333333333333,
                            "#9c179e"
                          ],
                          [
                            0.4444444444444444,
                            "#bd3786"
                          ],
                          [
                            0.5555555555555556,
                            "#d8576b"
                          ],
                          [
                            0.6666666666666666,
                            "#ed7953"
                          ],
                          [
                            0.7777777777777778,
                            "#fb9f3a"
                          ],
                          [
                            0.8888888888888888,
                            "#fdca26"
                          ],
                          [
                            1,
                            "#f0f921"
                          ]
                        ],
                        "type": "histogram2d"
                      }
                    ],
                    "histogram2dcontour": [
                      {
                        "colorbar": {
                          "outlinewidth": 0,
                          "ticks": ""
                        },
                        "colorscale": [
                          [
                            0,
                            "#0d0887"
                          ],
                          [
                            0.1111111111111111,
                            "#46039f"
                          ],
                          [
                            0.2222222222222222,
                            "#7201a8"
                          ],
                          [
                            0.3333333333333333,
                            "#9c179e"
                          ],
                          [
                            0.4444444444444444,
                            "#bd3786"
                          ],
                          [
                            0.5555555555555556,
                            "#d8576b"
                          ],
                          [
                            0.6666666666666666,
                            "#ed7953"
                          ],
                          [
                            0.7777777777777778,
                            "#fb9f3a"
                          ],
                          [
                            0.8888888888888888,
                            "#fdca26"
                          ],
                          [
                            1,
                            "#f0f921"
                          ]
                        ],
                        "type": "histogram2dcontour"
                      }
                    ],
                    "mesh3d": [
                      {
                        "colorbar": {
                          "outlinewidth": 0,
                          "ticks": ""
                        },
                        "type": "mesh3d"
                      }
                    ],
                    "parcoords": [
                      {
                        "line": {
                          "colorbar": {
                            "outlinewidth": 0,
                            "ticks": ""
                          }
                        },
                        "type": "parcoords"
                      }
                    ],
                    "pie": [
                      {
                        "automargin": true,
                        "type": "pie"
                      }
                    ],
                    "scatter": [
                      {
                        "fillpattern": {
                          "fillmode": "overlay",
                          "size": 10,
                          "solidity": 0.2
                        },
                        "type": "scatter"
                      }
                    ],
                    "scatter3d": [
                      {
                        "line": {
                          "colorbar": {
                            "outlinewidth": 0,
                            "ticks": ""
                          }
                        },
                        "marker": {
                          "colorbar": {
                            "outlinewidth": 0,
                            "ticks": ""
                          }
                        },
                        "type": "scatter3d"
                      }
                    ],
                    "scattercarpet": [
                      {
                        "marker": {
                          "colorbar": {
                            "outlinewidth": 0,
                            "ticks": ""
                          }
                        },
                        "type": "scattercarpet"
                      }
                    ],
                    "scattergeo": [
                      {
                        "marker": {
                          "colorbar": {
                            "outlinewidth": 0,
                            "ticks": ""
                          }
                        },
                        "type": "scattergeo"
                      }
                    ],
                    "scattergl": [
                      {
                        "marker": {
                          "colorbar": {
                            "outlinewidth": 0,
                            "ticks": ""
                          }
                        },
                        "type": "scattergl"
                      }
                    ],
                    "scattermap": [
                      {
                        "marker": {
                          "colorbar": {
                            "outlinewidth": 0,
                            "ticks": ""
                          }
                        },
                        "type": "scattermap"
                      }
                    ],
                    "scattermapbox": [
                      {
                        "marker": {
                          "colorbar": {
                            "outlinewidth": 0,
                            "ticks": ""
                          }
                        },
                        "type": "scattermapbox"
                      }
                    ],
                    "scatterpolar": [
                      {
                        "marker": {
                          "colorbar": {
                            "outlinewidth": 0,
                            "ticks": ""
                          }
                        },
                        "type": "scatterpolar"
                      }
                    ],
                    "scatterpolargl": [
                      {
                        "marker": {
                          "colorbar": {
                            "outlinewidth": 0,
                            "ticks": ""
                          }
                        },
                        "type": "scatterpolargl"
                      }
                    ],
                    "scatterternary": [
                      {
                        "marker": {
                          "colorbar": {
                            "outlinewidth": 0,
                            "ticks": ""
                          }
                        },
                        "type": "scatterternary"
                      }
                    ],
                    "surface": [
                      {
                        "colorbar": {
                          "outlinewidth": 0,
                          "ticks": ""
                        },
                        "colorscale": [
                          [
                            0,
                            "#0d0887"
                          ],
                          [
                            0.1111111111111111,
                            "#46039f"
                          ],
                          [
                            0.2222222222222222,
                            "#7201a8"
                          ],
                          [
                            0.3333333333333333,
                            "#9c179e"
                          ],
                          [
                            0.4444444444444444,
                            "#bd3786"
                          ],
                          [
                            0.5555555555555556,
                            "#d8576b"
                          ],
                          [
                            0.6666666666666666,
                            "#ed7953"
                          ],
                          [
                            0.7777777777777778,
                            "#fb9f3a"
                          ],
                          [
                            0.8888888888888888,
                            "#fdca26"
                          ],
                          [
                            1,
                            "#f0f921"
                          ]
                        ],
                        "type": "surface"
                      }
                    ],
                    "table": [
                      {
                        "cells": {
                          "fill": {
                            "color": "#EBF0F8"
                          },
                          "line": {
                            "color": "white"
                          }
                        },
                        "header": {
                          "fill": {
                            "color": "#C8D4E3"
                          },
                          "line": {
                            "color": "white"
                          }
                        },
                        "type": "table"
                      }
                    ]
                  },
                  "layout": {
                    "annotationdefaults": {
                      "arrowcolor": "#2a3f5f",
                      "arrowhead": 0,
                      "arrowwidth": 1
                    },
                    "autotypenumbers": "strict",
                    "coloraxis": {
                      "colorbar": {
                        "outlinewidth": 0,
                        "ticks": ""
                      }
                    },
                    "colorscale": {
                      "diverging": [
                        [
                          0,
                          "#8e0152"
                        ],
                        [
                          0.1,
                          "#c51b7d"
                        ],
                        [
                          0.2,
                          "#de77ae"
                        ],
                        [
                          0.3,
                          "#f1b6da"
                        ],
                        [
                          0.4,
                          "#fde0ef"
                        ],
                        [
                          0.5,
                          "#f7f7f7"
                        ],
                        [
                          0.6,
                          "#e6f5d0"
                        ],
                        [
                          0.7,
                          "#b8e186"
                        ],
                        [
                          0.8,
                          "#7fbc41"
                        ],
                        [
                          0.9,
                          "#4d9221"
                        ],
                        [
                          1,
                          "#276419"
                        ]
                      ],
                      "sequential": [
                        [
                          0,
                          "#0d0887"
                        ],
                        [
                          0.1111111111111111,
                          "#46039f"
                        ],
                        [
                          0.2222222222222222,
                          "#7201a8"
                        ],
                        [
                          0.3333333333333333,
                          "#9c179e"
                        ],
                        [
                          0.4444444444444444,
                          "#bd3786"
                        ],
                        [
                          0.5555555555555556,
                          "#d8576b"
                        ],
                        [
                          0.6666666666666666,
                          "#ed7953"
                        ],
                        [
                          0.7777777777777778,
                          "#fb9f3a"
                        ],
                        [
                          0.8888888888888888,
                          "#fdca26"
                        ],
                        [
                          1,
                          "#f0f921"
                        ]
                      ],
                      "sequentialminus": [
                        [
                          0,
                          "#0d0887"
                        ],
                        [
                          0.1111111111111111,
                          "#46039f"
                        ],
                        [
                          0.2222222222222222,
                          "#7201a8"
                        ],
                        [
                          0.3333333333333333,
                          "#9c179e"
                        ],
                        [
                          0.4444444444444444,
                          "#bd3786"
                        ],
                        [
                          0.5555555555555556,
                          "#d8576b"
                        ],
                        [
                          0.6666666666666666,
                          "#ed7953"
                        ],
                        [
                          0.7777777777777778,
                          "#fb9f3a"
                        ],
                        [
                          0.8888888888888888,
                          "#fdca26"
                        ],
                        [
                          1,
                          "#f0f921"
                        ]
                      ]
                    },
                    "colorway": [
                      "#636efa",
                      "#EF553B",
                      "#00cc96",
                      "#ab63fa",
                      "#FFA15A",
                      "#19d3f3",
                      "#FF6692",
                      "#B6E880",
                      "#FF97FF",
                      "#FECB52"
                    ],
                    "font": {
                      "color": "#2a3f5f"
                    },
                    "geo": {
                      "bgcolor": "white",
                      "lakecolor": "white",
                      "landcolor": "#E5ECF6",
                      "showlakes": true,
                      "showland": true,
                      "subunitcolor": "white"
                    },
                    "hoverlabel": {
                      "align": "left"
                    },
                    "hovermode": "closest",
                    "mapbox": {
                      "style": "light"
                    },
                    "paper_bgcolor": "white",
                    "plot_bgcolor": "#E5ECF6",
                    "polar": {
                      "angularaxis": {
                        "gridcolor": "white",
                        "linecolor": "white",
                        "ticks": ""
                      },
                      "bgcolor": "#E5ECF6",
                      "radialaxis": {
                        "gridcolor": "white",
                        "linecolor": "white",
                        "ticks": ""
                      }
                    },
                    "scene": {
                      "xaxis": {
                        "backgroundcolor": "#E5ECF6",
                        "gridcolor": "white",
                        "gridwidth": 2,
                        "linecolor": "white",
                        "showbackground": true,
                        "ticks": "",
                        "zerolinecolor": "white"
                      },
                      "yaxis": {
                        "backgroundcolor": "#E5ECF6",
                        "gridcolor": "white",
                        "gridwidth": 2,
                        "linecolor": "white",
                        "showbackground": true,
                        "ticks": "",
                        "zerolinecolor": "white"
                      },
                      "zaxis": {
                        "backgroundcolor": "#E5ECF6",
                        "gridcolor": "white",
                        "gridwidth": 2,
                        "linecolor": "white",
                        "showbackground": true,
                        "ticks": "",
                        "zerolinecolor": "white"
                      }
                    },
                    "shapedefaults": {
                      "line": {
                        "color": "#2a3f5f"
                      }
                    },
                    "ternary": {
                      "aaxis": {
                        "gridcolor": "white",
                        "linecolor": "white",
                        "ticks": ""
                      },
                      "baxis": {
                        "gridcolor": "white",
                        "linecolor": "white",
                        "ticks": ""
                      },
                      "bgcolor": "#E5ECF6",
                      "caxis": {
                        "gridcolor": "white",
                        "linecolor": "white",
                        "ticks": ""
                      }
                    },
                    "title": {
                      "x": 0.05
                    },
                    "xaxis": {
                      "automargin": true,
                      "gridcolor": "white",
                      "linecolor": "white",
                      "ticks": "",
                      "title": {
                        "standoff": 15
                      },
                      "zerolinecolor": "white",
                      "zerolinewidth": 2
                    },
                    "yaxis": {
                      "automargin": true,
                      "gridcolor": "white",
                      "linecolor": "white",
                      "ticks": "",
                      "title": {
                        "standoff": 15
                      },
                      "zerolinecolor": "white",
                      "zerolinewidth": 2
                    }
                  }
                },
                "title": {
                  "text": "Salário médio anual por senioridade"
                },
                "xaxis": {
                  "anchor": "y",
                  "domain": [
                    0,
                    1
                  ],
                  "title": {
                    "text": "senioridade"
                  }
                },
                "yaxis": {
                  "anchor": "x",
                  "domain": [
                    0,
                    1
                  ],
                  "title": {
                    "text": "Salário médio anual (USD)"
                  }
                }
              }
            }
          },
          "metadata": {},
          "output_type": "display_data"
        }
      ],
      "source": [
        "media_salarial = df_cleaned.groupby('senioridade')['usd'].mean().reindex(['junior', 'pleno', 'senior', 'executivo'])\n",
        "\n",
        "fig = px.bar(\n",
        "    media_salarial,\n",
        "    x=media_salarial.index,\n",
        "    y=media_salarial.values,\n",
        "    labels={'x': 'Senioridade', 'y': 'Salário médio anual (USD)'},\n",
        "    title='Salário médio anual por senioridade'\n",
        ")\n",
        "fig.show()"
      ]
    },
    {
      "cell_type": "code",
      "execution_count": 59,
      "metadata": {},
      "outputs": [
        {
          "data": {
            "application/vnd.plotly.v1+json": {
              "config": {
                "plotlyServerURL": "https://plot.ly"
              },
              "data": [
                {
                  "domain": {
                    "x": [
                      0,
                      1
                    ],
                    "y": [
                      0,
                      1
                    ]
                  },
                  "hovertemplate": "tipo_trabalho=%{label}<br>quantidade=%{value}<extra></extra>",
                  "labels": [
                    "presencial",
                    "remoto",
                    "hibrido"
                  ],
                  "legendgroup": "",
                  "name": "",
                  "showlegend": true,
                  "type": "pie",
                  "values": {
                    "bdata": "WZsBAERsAAA+AQAA",
                    "dtype": "i4"
                  }
                }
              ],
              "layout": {
                "legend": {
                  "tracegroupgap": 0
                },
                "template": {
                  "data": {
                    "bar": [
                      {
                        "error_x": {
                          "color": "#2a3f5f"
                        },
                        "error_y": {
                          "color": "#2a3f5f"
                        },
                        "marker": {
                          "line": {
                            "color": "#E5ECF6",
                            "width": 0.5
                          },
                          "pattern": {
                            "fillmode": "overlay",
                            "size": 10,
                            "solidity": 0.2
                          }
                        },
                        "type": "bar"
                      }
                    ],
                    "barpolar": [
                      {
                        "marker": {
                          "line": {
                            "color": "#E5ECF6",
                            "width": 0.5
                          },
                          "pattern": {
                            "fillmode": "overlay",
                            "size": 10,
                            "solidity": 0.2
                          }
                        },
                        "type": "barpolar"
                      }
                    ],
                    "carpet": [
                      {
                        "aaxis": {
                          "endlinecolor": "#2a3f5f",
                          "gridcolor": "white",
                          "linecolor": "white",
                          "minorgridcolor": "white",
                          "startlinecolor": "#2a3f5f"
                        },
                        "baxis": {
                          "endlinecolor": "#2a3f5f",
                          "gridcolor": "white",
                          "linecolor": "white",
                          "minorgridcolor": "white",
                          "startlinecolor": "#2a3f5f"
                        },
                        "type": "carpet"
                      }
                    ],
                    "choropleth": [
                      {
                        "colorbar": {
                          "outlinewidth": 0,
                          "ticks": ""
                        },
                        "type": "choropleth"
                      }
                    ],
                    "contour": [
                      {
                        "colorbar": {
                          "outlinewidth": 0,
                          "ticks": ""
                        },
                        "colorscale": [
                          [
                            0,
                            "#0d0887"
                          ],
                          [
                            0.1111111111111111,
                            "#46039f"
                          ],
                          [
                            0.2222222222222222,
                            "#7201a8"
                          ],
                          [
                            0.3333333333333333,
                            "#9c179e"
                          ],
                          [
                            0.4444444444444444,
                            "#bd3786"
                          ],
                          [
                            0.5555555555555556,
                            "#d8576b"
                          ],
                          [
                            0.6666666666666666,
                            "#ed7953"
                          ],
                          [
                            0.7777777777777778,
                            "#fb9f3a"
                          ],
                          [
                            0.8888888888888888,
                            "#fdca26"
                          ],
                          [
                            1,
                            "#f0f921"
                          ]
                        ],
                        "type": "contour"
                      }
                    ],
                    "contourcarpet": [
                      {
                        "colorbar": {
                          "outlinewidth": 0,
                          "ticks": ""
                        },
                        "type": "contourcarpet"
                      }
                    ],
                    "heatmap": [
                      {
                        "colorbar": {
                          "outlinewidth": 0,
                          "ticks": ""
                        },
                        "colorscale": [
                          [
                            0,
                            "#0d0887"
                          ],
                          [
                            0.1111111111111111,
                            "#46039f"
                          ],
                          [
                            0.2222222222222222,
                            "#7201a8"
                          ],
                          [
                            0.3333333333333333,
                            "#9c179e"
                          ],
                          [
                            0.4444444444444444,
                            "#bd3786"
                          ],
                          [
                            0.5555555555555556,
                            "#d8576b"
                          ],
                          [
                            0.6666666666666666,
                            "#ed7953"
                          ],
                          [
                            0.7777777777777778,
                            "#fb9f3a"
                          ],
                          [
                            0.8888888888888888,
                            "#fdca26"
                          ],
                          [
                            1,
                            "#f0f921"
                          ]
                        ],
                        "type": "heatmap"
                      }
                    ],
                    "histogram": [
                      {
                        "marker": {
                          "pattern": {
                            "fillmode": "overlay",
                            "size": 10,
                            "solidity": 0.2
                          }
                        },
                        "type": "histogram"
                      }
                    ],
                    "histogram2d": [
                      {
                        "colorbar": {
                          "outlinewidth": 0,
                          "ticks": ""
                        },
                        "colorscale": [
                          [
                            0,
                            "#0d0887"
                          ],
                          [
                            0.1111111111111111,
                            "#46039f"
                          ],
                          [
                            0.2222222222222222,
                            "#7201a8"
                          ],
                          [
                            0.3333333333333333,
                            "#9c179e"
                          ],
                          [
                            0.4444444444444444,
                            "#bd3786"
                          ],
                          [
                            0.5555555555555556,
                            "#d8576b"
                          ],
                          [
                            0.6666666666666666,
                            "#ed7953"
                          ],
                          [
                            0.7777777777777778,
                            "#fb9f3a"
                          ],
                          [
                            0.8888888888888888,
                            "#fdca26"
                          ],
                          [
                            1,
                            "#f0f921"
                          ]
                        ],
                        "type": "histogram2d"
                      }
                    ],
                    "histogram2dcontour": [
                      {
                        "colorbar": {
                          "outlinewidth": 0,
                          "ticks": ""
                        },
                        "colorscale": [
                          [
                            0,
                            "#0d0887"
                          ],
                          [
                            0.1111111111111111,
                            "#46039f"
                          ],
                          [
                            0.2222222222222222,
                            "#7201a8"
                          ],
                          [
                            0.3333333333333333,
                            "#9c179e"
                          ],
                          [
                            0.4444444444444444,
                            "#bd3786"
                          ],
                          [
                            0.5555555555555556,
                            "#d8576b"
                          ],
                          [
                            0.6666666666666666,
                            "#ed7953"
                          ],
                          [
                            0.7777777777777778,
                            "#fb9f3a"
                          ],
                          [
                            0.8888888888888888,
                            "#fdca26"
                          ],
                          [
                            1,
                            "#f0f921"
                          ]
                        ],
                        "type": "histogram2dcontour"
                      }
                    ],
                    "mesh3d": [
                      {
                        "colorbar": {
                          "outlinewidth": 0,
                          "ticks": ""
                        },
                        "type": "mesh3d"
                      }
                    ],
                    "parcoords": [
                      {
                        "line": {
                          "colorbar": {
                            "outlinewidth": 0,
                            "ticks": ""
                          }
                        },
                        "type": "parcoords"
                      }
                    ],
                    "pie": [
                      {
                        "automargin": true,
                        "type": "pie"
                      }
                    ],
                    "scatter": [
                      {
                        "fillpattern": {
                          "fillmode": "overlay",
                          "size": 10,
                          "solidity": 0.2
                        },
                        "type": "scatter"
                      }
                    ],
                    "scatter3d": [
                      {
                        "line": {
                          "colorbar": {
                            "outlinewidth": 0,
                            "ticks": ""
                          }
                        },
                        "marker": {
                          "colorbar": {
                            "outlinewidth": 0,
                            "ticks": ""
                          }
                        },
                        "type": "scatter3d"
                      }
                    ],
                    "scattercarpet": [
                      {
                        "marker": {
                          "colorbar": {
                            "outlinewidth": 0,
                            "ticks": ""
                          }
                        },
                        "type": "scattercarpet"
                      }
                    ],
                    "scattergeo": [
                      {
                        "marker": {
                          "colorbar": {
                            "outlinewidth": 0,
                            "ticks": ""
                          }
                        },
                        "type": "scattergeo"
                      }
                    ],
                    "scattergl": [
                      {
                        "marker": {
                          "colorbar": {
                            "outlinewidth": 0,
                            "ticks": ""
                          }
                        },
                        "type": "scattergl"
                      }
                    ],
                    "scattermap": [
                      {
                        "marker": {
                          "colorbar": {
                            "outlinewidth": 0,
                            "ticks": ""
                          }
                        },
                        "type": "scattermap"
                      }
                    ],
                    "scattermapbox": [
                      {
                        "marker": {
                          "colorbar": {
                            "outlinewidth": 0,
                            "ticks": ""
                          }
                        },
                        "type": "scattermapbox"
                      }
                    ],
                    "scatterpolar": [
                      {
                        "marker": {
                          "colorbar": {
                            "outlinewidth": 0,
                            "ticks": ""
                          }
                        },
                        "type": "scatterpolar"
                      }
                    ],
                    "scatterpolargl": [
                      {
                        "marker": {
                          "colorbar": {
                            "outlinewidth": 0,
                            "ticks": ""
                          }
                        },
                        "type": "scatterpolargl"
                      }
                    ],
                    "scatterternary": [
                      {
                        "marker": {
                          "colorbar": {
                            "outlinewidth": 0,
                            "ticks": ""
                          }
                        },
                        "type": "scatterternary"
                      }
                    ],
                    "surface": [
                      {
                        "colorbar": {
                          "outlinewidth": 0,
                          "ticks": ""
                        },
                        "colorscale": [
                          [
                            0,
                            "#0d0887"
                          ],
                          [
                            0.1111111111111111,
                            "#46039f"
                          ],
                          [
                            0.2222222222222222,
                            "#7201a8"
                          ],
                          [
                            0.3333333333333333,
                            "#9c179e"
                          ],
                          [
                            0.4444444444444444,
                            "#bd3786"
                          ],
                          [
                            0.5555555555555556,
                            "#d8576b"
                          ],
                          [
                            0.6666666666666666,
                            "#ed7953"
                          ],
                          [
                            0.7777777777777778,
                            "#fb9f3a"
                          ],
                          [
                            0.8888888888888888,
                            "#fdca26"
                          ],
                          [
                            1,
                            "#f0f921"
                          ]
                        ],
                        "type": "surface"
                      }
                    ],
                    "table": [
                      {
                        "cells": {
                          "fill": {
                            "color": "#EBF0F8"
                          },
                          "line": {
                            "color": "white"
                          }
                        },
                        "header": {
                          "fill": {
                            "color": "#C8D4E3"
                          },
                          "line": {
                            "color": "white"
                          }
                        },
                        "type": "table"
                      }
                    ]
                  },
                  "layout": {
                    "annotationdefaults": {
                      "arrowcolor": "#2a3f5f",
                      "arrowhead": 0,
                      "arrowwidth": 1
                    },
                    "autotypenumbers": "strict",
                    "coloraxis": {
                      "colorbar": {
                        "outlinewidth": 0,
                        "ticks": ""
                      }
                    },
                    "colorscale": {
                      "diverging": [
                        [
                          0,
                          "#8e0152"
                        ],
                        [
                          0.1,
                          "#c51b7d"
                        ],
                        [
                          0.2,
                          "#de77ae"
                        ],
                        [
                          0.3,
                          "#f1b6da"
                        ],
                        [
                          0.4,
                          "#fde0ef"
                        ],
                        [
                          0.5,
                          "#f7f7f7"
                        ],
                        [
                          0.6,
                          "#e6f5d0"
                        ],
                        [
                          0.7,
                          "#b8e186"
                        ],
                        [
                          0.8,
                          "#7fbc41"
                        ],
                        [
                          0.9,
                          "#4d9221"
                        ],
                        [
                          1,
                          "#276419"
                        ]
                      ],
                      "sequential": [
                        [
                          0,
                          "#0d0887"
                        ],
                        [
                          0.1111111111111111,
                          "#46039f"
                        ],
                        [
                          0.2222222222222222,
                          "#7201a8"
                        ],
                        [
                          0.3333333333333333,
                          "#9c179e"
                        ],
                        [
                          0.4444444444444444,
                          "#bd3786"
                        ],
                        [
                          0.5555555555555556,
                          "#d8576b"
                        ],
                        [
                          0.6666666666666666,
                          "#ed7953"
                        ],
                        [
                          0.7777777777777778,
                          "#fb9f3a"
                        ],
                        [
                          0.8888888888888888,
                          "#fdca26"
                        ],
                        [
                          1,
                          "#f0f921"
                        ]
                      ],
                      "sequentialminus": [
                        [
                          0,
                          "#0d0887"
                        ],
                        [
                          0.1111111111111111,
                          "#46039f"
                        ],
                        [
                          0.2222222222222222,
                          "#7201a8"
                        ],
                        [
                          0.3333333333333333,
                          "#9c179e"
                        ],
                        [
                          0.4444444444444444,
                          "#bd3786"
                        ],
                        [
                          0.5555555555555556,
                          "#d8576b"
                        ],
                        [
                          0.6666666666666666,
                          "#ed7953"
                        ],
                        [
                          0.7777777777777778,
                          "#fb9f3a"
                        ],
                        [
                          0.8888888888888888,
                          "#fdca26"
                        ],
                        [
                          1,
                          "#f0f921"
                        ]
                      ]
                    },
                    "colorway": [
                      "#636efa",
                      "#EF553B",
                      "#00cc96",
                      "#ab63fa",
                      "#FFA15A",
                      "#19d3f3",
                      "#FF6692",
                      "#B6E880",
                      "#FF97FF",
                      "#FECB52"
                    ],
                    "font": {
                      "color": "#2a3f5f"
                    },
                    "geo": {
                      "bgcolor": "white",
                      "lakecolor": "white",
                      "landcolor": "#E5ECF6",
                      "showlakes": true,
                      "showland": true,
                      "subunitcolor": "white"
                    },
                    "hoverlabel": {
                      "align": "left"
                    },
                    "hovermode": "closest",
                    "mapbox": {
                      "style": "light"
                    },
                    "paper_bgcolor": "white",
                    "plot_bgcolor": "#E5ECF6",
                    "polar": {
                      "angularaxis": {
                        "gridcolor": "white",
                        "linecolor": "white",
                        "ticks": ""
                      },
                      "bgcolor": "#E5ECF6",
                      "radialaxis": {
                        "gridcolor": "white",
                        "linecolor": "white",
                        "ticks": ""
                      }
                    },
                    "scene": {
                      "xaxis": {
                        "backgroundcolor": "#E5ECF6",
                        "gridcolor": "white",
                        "gridwidth": 2,
                        "linecolor": "white",
                        "showbackground": true,
                        "ticks": "",
                        "zerolinecolor": "white"
                      },
                      "yaxis": {
                        "backgroundcolor": "#E5ECF6",
                        "gridcolor": "white",
                        "gridwidth": 2,
                        "linecolor": "white",
                        "showbackground": true,
                        "ticks": "",
                        "zerolinecolor": "white"
                      },
                      "zaxis": {
                        "backgroundcolor": "#E5ECF6",
                        "gridcolor": "white",
                        "gridwidth": 2,
                        "linecolor": "white",
                        "showbackground": true,
                        "ticks": "",
                        "zerolinecolor": "white"
                      }
                    },
                    "shapedefaults": {
                      "line": {
                        "color": "#2a3f5f"
                      }
                    },
                    "ternary": {
                      "aaxis": {
                        "gridcolor": "white",
                        "linecolor": "white",
                        "ticks": ""
                      },
                      "baxis": {
                        "gridcolor": "white",
                        "linecolor": "white",
                        "ticks": ""
                      },
                      "bgcolor": "#E5ECF6",
                      "caxis": {
                        "gridcolor": "white",
                        "linecolor": "white",
                        "ticks": ""
                      }
                    },
                    "title": {
                      "x": 0.05
                    },
                    "xaxis": {
                      "automargin": true,
                      "gridcolor": "white",
                      "linecolor": "white",
                      "ticks": "",
                      "title": {
                        "standoff": 15
                      },
                      "zerolinecolor": "white",
                      "zerolinewidth": 2
                    },
                    "yaxis": {
                      "automargin": true,
                      "gridcolor": "white",
                      "linecolor": "white",
                      "ticks": "",
                      "title": {
                        "standoff": 15
                      },
                      "zerolinecolor": "white",
                      "zerolinewidth": 2
                    }
                  }
                },
                "title": {
                  "text": "Proporção dos tipos de trabalho"
                }
              }
            }
          },
          "metadata": {},
          "output_type": "display_data"
        }
      ],
      "source": [
        "remoto_count = df_cleaned['remoto'].value_counts().reset_index()\n",
        "remoto_count.columns = ['tipo_trabalho', 'quantidade']\n",
        "\n",
        "fig = px.pie(remoto_count,\n",
        "             names='tipo_trabalho',\n",
        "            values='quantidade',\n",
        "            title='Proporção dos tipos de trabalho'\n",
        "\n",
        ")\n",
        "\n",
        "fig.show()"
      ]
    },
    {
      "cell_type": "code",
      "execution_count": 61,
      "metadata": {},
      "outputs": [
        {
          "data": {
            "application/vnd.plotly.v1+json": {
              "config": {
                "plotlyServerURL": "https://plot.ly"
              },
              "data": [
                {
                  "domain": {
                    "x": [
                      0,
                      1
                    ],
                    "y": [
                      0,
                      1
                    ]
                  },
                  "hole": 0.5,
                  "hovertemplate": "tipo_trabalho=%{label}<br>quantidade=%{value}<extra></extra>",
                  "labels": [
                    "presencial",
                    "remoto",
                    "hibrido"
                  ],
                  "legendgroup": "",
                  "name": "",
                  "showlegend": true,
                  "textinfo": "percent+label",
                  "type": "pie",
                  "values": {
                    "bdata": "WZsBAERsAAA+AQAA",
                    "dtype": "i4"
                  }
                }
              ],
              "layout": {
                "legend": {
                  "tracegroupgap": 0
                },
                "template": {
                  "data": {
                    "bar": [
                      {
                        "error_x": {
                          "color": "#2a3f5f"
                        },
                        "error_y": {
                          "color": "#2a3f5f"
                        },
                        "marker": {
                          "line": {
                            "color": "#E5ECF6",
                            "width": 0.5
                          },
                          "pattern": {
                            "fillmode": "overlay",
                            "size": 10,
                            "solidity": 0.2
                          }
                        },
                        "type": "bar"
                      }
                    ],
                    "barpolar": [
                      {
                        "marker": {
                          "line": {
                            "color": "#E5ECF6",
                            "width": 0.5
                          },
                          "pattern": {
                            "fillmode": "overlay",
                            "size": 10,
                            "solidity": 0.2
                          }
                        },
                        "type": "barpolar"
                      }
                    ],
                    "carpet": [
                      {
                        "aaxis": {
                          "endlinecolor": "#2a3f5f",
                          "gridcolor": "white",
                          "linecolor": "white",
                          "minorgridcolor": "white",
                          "startlinecolor": "#2a3f5f"
                        },
                        "baxis": {
                          "endlinecolor": "#2a3f5f",
                          "gridcolor": "white",
                          "linecolor": "white",
                          "minorgridcolor": "white",
                          "startlinecolor": "#2a3f5f"
                        },
                        "type": "carpet"
                      }
                    ],
                    "choropleth": [
                      {
                        "colorbar": {
                          "outlinewidth": 0,
                          "ticks": ""
                        },
                        "type": "choropleth"
                      }
                    ],
                    "contour": [
                      {
                        "colorbar": {
                          "outlinewidth": 0,
                          "ticks": ""
                        },
                        "colorscale": [
                          [
                            0,
                            "#0d0887"
                          ],
                          [
                            0.1111111111111111,
                            "#46039f"
                          ],
                          [
                            0.2222222222222222,
                            "#7201a8"
                          ],
                          [
                            0.3333333333333333,
                            "#9c179e"
                          ],
                          [
                            0.4444444444444444,
                            "#bd3786"
                          ],
                          [
                            0.5555555555555556,
                            "#d8576b"
                          ],
                          [
                            0.6666666666666666,
                            "#ed7953"
                          ],
                          [
                            0.7777777777777778,
                            "#fb9f3a"
                          ],
                          [
                            0.8888888888888888,
                            "#fdca26"
                          ],
                          [
                            1,
                            "#f0f921"
                          ]
                        ],
                        "type": "contour"
                      }
                    ],
                    "contourcarpet": [
                      {
                        "colorbar": {
                          "outlinewidth": 0,
                          "ticks": ""
                        },
                        "type": "contourcarpet"
                      }
                    ],
                    "heatmap": [
                      {
                        "colorbar": {
                          "outlinewidth": 0,
                          "ticks": ""
                        },
                        "colorscale": [
                          [
                            0,
                            "#0d0887"
                          ],
                          [
                            0.1111111111111111,
                            "#46039f"
                          ],
                          [
                            0.2222222222222222,
                            "#7201a8"
                          ],
                          [
                            0.3333333333333333,
                            "#9c179e"
                          ],
                          [
                            0.4444444444444444,
                            "#bd3786"
                          ],
                          [
                            0.5555555555555556,
                            "#d8576b"
                          ],
                          [
                            0.6666666666666666,
                            "#ed7953"
                          ],
                          [
                            0.7777777777777778,
                            "#fb9f3a"
                          ],
                          [
                            0.8888888888888888,
                            "#fdca26"
                          ],
                          [
                            1,
                            "#f0f921"
                          ]
                        ],
                        "type": "heatmap"
                      }
                    ],
                    "histogram": [
                      {
                        "marker": {
                          "pattern": {
                            "fillmode": "overlay",
                            "size": 10,
                            "solidity": 0.2
                          }
                        },
                        "type": "histogram"
                      }
                    ],
                    "histogram2d": [
                      {
                        "colorbar": {
                          "outlinewidth": 0,
                          "ticks": ""
                        },
                        "colorscale": [
                          [
                            0,
                            "#0d0887"
                          ],
                          [
                            0.1111111111111111,
                            "#46039f"
                          ],
                          [
                            0.2222222222222222,
                            "#7201a8"
                          ],
                          [
                            0.3333333333333333,
                            "#9c179e"
                          ],
                          [
                            0.4444444444444444,
                            "#bd3786"
                          ],
                          [
                            0.5555555555555556,
                            "#d8576b"
                          ],
                          [
                            0.6666666666666666,
                            "#ed7953"
                          ],
                          [
                            0.7777777777777778,
                            "#fb9f3a"
                          ],
                          [
                            0.8888888888888888,
                            "#fdca26"
                          ],
                          [
                            1,
                            "#f0f921"
                          ]
                        ],
                        "type": "histogram2d"
                      }
                    ],
                    "histogram2dcontour": [
                      {
                        "colorbar": {
                          "outlinewidth": 0,
                          "ticks": ""
                        },
                        "colorscale": [
                          [
                            0,
                            "#0d0887"
                          ],
                          [
                            0.1111111111111111,
                            "#46039f"
                          ],
                          [
                            0.2222222222222222,
                            "#7201a8"
                          ],
                          [
                            0.3333333333333333,
                            "#9c179e"
                          ],
                          [
                            0.4444444444444444,
                            "#bd3786"
                          ],
                          [
                            0.5555555555555556,
                            "#d8576b"
                          ],
                          [
                            0.6666666666666666,
                            "#ed7953"
                          ],
                          [
                            0.7777777777777778,
                            "#fb9f3a"
                          ],
                          [
                            0.8888888888888888,
                            "#fdca26"
                          ],
                          [
                            1,
                            "#f0f921"
                          ]
                        ],
                        "type": "histogram2dcontour"
                      }
                    ],
                    "mesh3d": [
                      {
                        "colorbar": {
                          "outlinewidth": 0,
                          "ticks": ""
                        },
                        "type": "mesh3d"
                      }
                    ],
                    "parcoords": [
                      {
                        "line": {
                          "colorbar": {
                            "outlinewidth": 0,
                            "ticks": ""
                          }
                        },
                        "type": "parcoords"
                      }
                    ],
                    "pie": [
                      {
                        "automargin": true,
                        "type": "pie"
                      }
                    ],
                    "scatter": [
                      {
                        "fillpattern": {
                          "fillmode": "overlay",
                          "size": 10,
                          "solidity": 0.2
                        },
                        "type": "scatter"
                      }
                    ],
                    "scatter3d": [
                      {
                        "line": {
                          "colorbar": {
                            "outlinewidth": 0,
                            "ticks": ""
                          }
                        },
                        "marker": {
                          "colorbar": {
                            "outlinewidth": 0,
                            "ticks": ""
                          }
                        },
                        "type": "scatter3d"
                      }
                    ],
                    "scattercarpet": [
                      {
                        "marker": {
                          "colorbar": {
                            "outlinewidth": 0,
                            "ticks": ""
                          }
                        },
                        "type": "scattercarpet"
                      }
                    ],
                    "scattergeo": [
                      {
                        "marker": {
                          "colorbar": {
                            "outlinewidth": 0,
                            "ticks": ""
                          }
                        },
                        "type": "scattergeo"
                      }
                    ],
                    "scattergl": [
                      {
                        "marker": {
                          "colorbar": {
                            "outlinewidth": 0,
                            "ticks": ""
                          }
                        },
                        "type": "scattergl"
                      }
                    ],
                    "scattermap": [
                      {
                        "marker": {
                          "colorbar": {
                            "outlinewidth": 0,
                            "ticks": ""
                          }
                        },
                        "type": "scattermap"
                      }
                    ],
                    "scattermapbox": [
                      {
                        "marker": {
                          "colorbar": {
                            "outlinewidth": 0,
                            "ticks": ""
                          }
                        },
                        "type": "scattermapbox"
                      }
                    ],
                    "scatterpolar": [
                      {
                        "marker": {
                          "colorbar": {
                            "outlinewidth": 0,
                            "ticks": ""
                          }
                        },
                        "type": "scatterpolar"
                      }
                    ],
                    "scatterpolargl": [
                      {
                        "marker": {
                          "colorbar": {
                            "outlinewidth": 0,
                            "ticks": ""
                          }
                        },
                        "type": "scatterpolargl"
                      }
                    ],
                    "scatterternary": [
                      {
                        "marker": {
                          "colorbar": {
                            "outlinewidth": 0,
                            "ticks": ""
                          }
                        },
                        "type": "scatterternary"
                      }
                    ],
                    "surface": [
                      {
                        "colorbar": {
                          "outlinewidth": 0,
                          "ticks": ""
                        },
                        "colorscale": [
                          [
                            0,
                            "#0d0887"
                          ],
                          [
                            0.1111111111111111,
                            "#46039f"
                          ],
                          [
                            0.2222222222222222,
                            "#7201a8"
                          ],
                          [
                            0.3333333333333333,
                            "#9c179e"
                          ],
                          [
                            0.4444444444444444,
                            "#bd3786"
                          ],
                          [
                            0.5555555555555556,
                            "#d8576b"
                          ],
                          [
                            0.6666666666666666,
                            "#ed7953"
                          ],
                          [
                            0.7777777777777778,
                            "#fb9f3a"
                          ],
                          [
                            0.8888888888888888,
                            "#fdca26"
                          ],
                          [
                            1,
                            "#f0f921"
                          ]
                        ],
                        "type": "surface"
                      }
                    ],
                    "table": [
                      {
                        "cells": {
                          "fill": {
                            "color": "#EBF0F8"
                          },
                          "line": {
                            "color": "white"
                          }
                        },
                        "header": {
                          "fill": {
                            "color": "#C8D4E3"
                          },
                          "line": {
                            "color": "white"
                          }
                        },
                        "type": "table"
                      }
                    ]
                  },
                  "layout": {
                    "annotationdefaults": {
                      "arrowcolor": "#2a3f5f",
                      "arrowhead": 0,
                      "arrowwidth": 1
                    },
                    "autotypenumbers": "strict",
                    "coloraxis": {
                      "colorbar": {
                        "outlinewidth": 0,
                        "ticks": ""
                      }
                    },
                    "colorscale": {
                      "diverging": [
                        [
                          0,
                          "#8e0152"
                        ],
                        [
                          0.1,
                          "#c51b7d"
                        ],
                        [
                          0.2,
                          "#de77ae"
                        ],
                        [
                          0.3,
                          "#f1b6da"
                        ],
                        [
                          0.4,
                          "#fde0ef"
                        ],
                        [
                          0.5,
                          "#f7f7f7"
                        ],
                        [
                          0.6,
                          "#e6f5d0"
                        ],
                        [
                          0.7,
                          "#b8e186"
                        ],
                        [
                          0.8,
                          "#7fbc41"
                        ],
                        [
                          0.9,
                          "#4d9221"
                        ],
                        [
                          1,
                          "#276419"
                        ]
                      ],
                      "sequential": [
                        [
                          0,
                          "#0d0887"
                        ],
                        [
                          0.1111111111111111,
                          "#46039f"
                        ],
                        [
                          0.2222222222222222,
                          "#7201a8"
                        ],
                        [
                          0.3333333333333333,
                          "#9c179e"
                        ],
                        [
                          0.4444444444444444,
                          "#bd3786"
                        ],
                        [
                          0.5555555555555556,
                          "#d8576b"
                        ],
                        [
                          0.6666666666666666,
                          "#ed7953"
                        ],
                        [
                          0.7777777777777778,
                          "#fb9f3a"
                        ],
                        [
                          0.8888888888888888,
                          "#fdca26"
                        ],
                        [
                          1,
                          "#f0f921"
                        ]
                      ],
                      "sequentialminus": [
                        [
                          0,
                          "#0d0887"
                        ],
                        [
                          0.1111111111111111,
                          "#46039f"
                        ],
                        [
                          0.2222222222222222,
                          "#7201a8"
                        ],
                        [
                          0.3333333333333333,
                          "#9c179e"
                        ],
                        [
                          0.4444444444444444,
                          "#bd3786"
                        ],
                        [
                          0.5555555555555556,
                          "#d8576b"
                        ],
                        [
                          0.6666666666666666,
                          "#ed7953"
                        ],
                        [
                          0.7777777777777778,
                          "#fb9f3a"
                        ],
                        [
                          0.8888888888888888,
                          "#fdca26"
                        ],
                        [
                          1,
                          "#f0f921"
                        ]
                      ]
                    },
                    "colorway": [
                      "#636efa",
                      "#EF553B",
                      "#00cc96",
                      "#ab63fa",
                      "#FFA15A",
                      "#19d3f3",
                      "#FF6692",
                      "#B6E880",
                      "#FF97FF",
                      "#FECB52"
                    ],
                    "font": {
                      "color": "#2a3f5f"
                    },
                    "geo": {
                      "bgcolor": "white",
                      "lakecolor": "white",
                      "landcolor": "#E5ECF6",
                      "showlakes": true,
                      "showland": true,
                      "subunitcolor": "white"
                    },
                    "hoverlabel": {
                      "align": "left"
                    },
                    "hovermode": "closest",
                    "mapbox": {
                      "style": "light"
                    },
                    "paper_bgcolor": "white",
                    "plot_bgcolor": "#E5ECF6",
                    "polar": {
                      "angularaxis": {
                        "gridcolor": "white",
                        "linecolor": "white",
                        "ticks": ""
                      },
                      "bgcolor": "#E5ECF6",
                      "radialaxis": {
                        "gridcolor": "white",
                        "linecolor": "white",
                        "ticks": ""
                      }
                    },
                    "scene": {
                      "xaxis": {
                        "backgroundcolor": "#E5ECF6",
                        "gridcolor": "white",
                        "gridwidth": 2,
                        "linecolor": "white",
                        "showbackground": true,
                        "ticks": "",
                        "zerolinecolor": "white"
                      },
                      "yaxis": {
                        "backgroundcolor": "#E5ECF6",
                        "gridcolor": "white",
                        "gridwidth": 2,
                        "linecolor": "white",
                        "showbackground": true,
                        "ticks": "",
                        "zerolinecolor": "white"
                      },
                      "zaxis": {
                        "backgroundcolor": "#E5ECF6",
                        "gridcolor": "white",
                        "gridwidth": 2,
                        "linecolor": "white",
                        "showbackground": true,
                        "ticks": "",
                        "zerolinecolor": "white"
                      }
                    },
                    "shapedefaults": {
                      "line": {
                        "color": "#2a3f5f"
                      }
                    },
                    "ternary": {
                      "aaxis": {
                        "gridcolor": "white",
                        "linecolor": "white",
                        "ticks": ""
                      },
                      "baxis": {
                        "gridcolor": "white",
                        "linecolor": "white",
                        "ticks": ""
                      },
                      "bgcolor": "#E5ECF6",
                      "caxis": {
                        "gridcolor": "white",
                        "linecolor": "white",
                        "ticks": ""
                      }
                    },
                    "title": {
                      "x": 0.05
                    },
                    "xaxis": {
                      "automargin": true,
                      "gridcolor": "white",
                      "linecolor": "white",
                      "ticks": "",
                      "title": {
                        "standoff": 15
                      },
                      "zerolinecolor": "white",
                      "zerolinewidth": 2
                    },
                    "yaxis": {
                      "automargin": true,
                      "gridcolor": "white",
                      "linecolor": "white",
                      "ticks": "",
                      "title": {
                        "standoff": 15
                      },
                      "zerolinecolor": "white",
                      "zerolinewidth": 2
                    }
                  }
                },
                "title": {
                  "text": "Proporção dos tipos de trabalho"
                }
              }
            }
          },
          "metadata": {},
          "output_type": "display_data"
        }
      ],
      "source": [
        "remoto_count = df_cleaned['remoto'].value_counts().reset_index()\n",
        "remoto_count.columns = ['tipo_trabalho', 'quantidade']\n",
        "\n",
        "fig = px.pie(remoto_count,\n",
        "             names='tipo_trabalho',\n",
        "            values='quantidade',\n",
        "            title='Proporção dos tipos de trabalho',\n",
        "            hole=0.5\n",
        ")\n",
        "fig.update_traces(textinfo='percent+label')\n",
        "fig.show()"
      ]
    },
    {
      "cell_type": "code",
      "execution_count": 64,
      "metadata": {},
      "outputs": [
        {
          "data": {
            "application/vnd.microsoft.datawrangler.viewer.v0+json": {
              "columns": [
                {
                  "name": "index",
                  "rawType": "int64",
                  "type": "integer"
                },
                {
                  "name": "ano",
                  "rawType": "float64",
                  "type": "float"
                },
                {
                  "name": "senioridade",
                  "rawType": "object",
                  "type": "string"
                },
                {
                  "name": "contrato",
                  "rawType": "object",
                  "type": "string"
                },
                {
                  "name": "cargo",
                  "rawType": "object",
                  "type": "string"
                },
                {
                  "name": "salario",
                  "rawType": "int64",
                  "type": "integer"
                },
                {
                  "name": "moeda",
                  "rawType": "object",
                  "type": "string"
                },
                {
                  "name": "usd",
                  "rawType": "int64",
                  "type": "integer"
                },
                {
                  "name": "residencia",
                  "rawType": "object",
                  "type": "string"
                },
                {
                  "name": "remoto",
                  "rawType": "object",
                  "type": "string"
                },
                {
                  "name": "empresa",
                  "rawType": "object",
                  "type": "string"
                },
                {
                  "name": "tamanho_empresa",
                  "rawType": "object",
                  "type": "string"
                }
              ],
              "ref": "764e8092-5a5d-4db6-aa24-22dd95572b24",
              "rows": [
                [
                  "0",
                  "2025.0",
                  "senior",
                  "integral",
                  "Solutions Engineer",
                  "214000",
                  "USD",
                  "214000",
                  "US",
                  "remoto",
                  "US",
                  "media"
                ],
                [
                  "1",
                  "2025.0",
                  "senior",
                  "integral",
                  "Solutions Engineer",
                  "136000",
                  "USD",
                  "136000",
                  "US",
                  "remoto",
                  "US",
                  "media"
                ],
                [
                  "2",
                  "2025.0",
                  "pleno",
                  "integral",
                  "Data Engineer",
                  "158800",
                  "USD",
                  "158800",
                  "AU",
                  "presencial",
                  "AU",
                  "media"
                ],
                [
                  "3",
                  "2025.0",
                  "pleno",
                  "integral",
                  "Data Engineer",
                  "139200",
                  "USD",
                  "139200",
                  "AU",
                  "presencial",
                  "AU",
                  "media"
                ],
                [
                  "4",
                  "2025.0",
                  "junior",
                  "integral",
                  "Data Engineer",
                  "90000",
                  "USD",
                  "90000",
                  "US",
                  "presencial",
                  "US",
                  "media"
                ]
              ],
              "shape": {
                "columns": 11,
                "rows": 5
              }
            },
            "text/html": [
              "<div>\n",
              "<style scoped>\n",
              "    .dataframe tbody tr th:only-of-type {\n",
              "        vertical-align: middle;\n",
              "    }\n",
              "\n",
              "    .dataframe tbody tr th {\n",
              "        vertical-align: top;\n",
              "    }\n",
              "\n",
              "    .dataframe thead th {\n",
              "        text-align: right;\n",
              "    }\n",
              "</style>\n",
              "<table border=\"1\" class=\"dataframe\">\n",
              "  <thead>\n",
              "    <tr style=\"text-align: right;\">\n",
              "      <th></th>\n",
              "      <th>ano</th>\n",
              "      <th>senioridade</th>\n",
              "      <th>contrato</th>\n",
              "      <th>cargo</th>\n",
              "      <th>salario</th>\n",
              "      <th>moeda</th>\n",
              "      <th>usd</th>\n",
              "      <th>residencia</th>\n",
              "      <th>remoto</th>\n",
              "      <th>empresa</th>\n",
              "      <th>tamanho_empresa</th>\n",
              "    </tr>\n",
              "  </thead>\n",
              "  <tbody>\n",
              "    <tr>\n",
              "      <th>0</th>\n",
              "      <td>2025.0</td>\n",
              "      <td>senior</td>\n",
              "      <td>integral</td>\n",
              "      <td>Solutions Engineer</td>\n",
              "      <td>214000</td>\n",
              "      <td>USD</td>\n",
              "      <td>214000</td>\n",
              "      <td>US</td>\n",
              "      <td>remoto</td>\n",
              "      <td>US</td>\n",
              "      <td>media</td>\n",
              "    </tr>\n",
              "    <tr>\n",
              "      <th>1</th>\n",
              "      <td>2025.0</td>\n",
              "      <td>senior</td>\n",
              "      <td>integral</td>\n",
              "      <td>Solutions Engineer</td>\n",
              "      <td>136000</td>\n",
              "      <td>USD</td>\n",
              "      <td>136000</td>\n",
              "      <td>US</td>\n",
              "      <td>remoto</td>\n",
              "      <td>US</td>\n",
              "      <td>media</td>\n",
              "    </tr>\n",
              "    <tr>\n",
              "      <th>2</th>\n",
              "      <td>2025.0</td>\n",
              "      <td>pleno</td>\n",
              "      <td>integral</td>\n",
              "      <td>Data Engineer</td>\n",
              "      <td>158800</td>\n",
              "      <td>USD</td>\n",
              "      <td>158800</td>\n",
              "      <td>AU</td>\n",
              "      <td>presencial</td>\n",
              "      <td>AU</td>\n",
              "      <td>media</td>\n",
              "    </tr>\n",
              "    <tr>\n",
              "      <th>3</th>\n",
              "      <td>2025.0</td>\n",
              "      <td>pleno</td>\n",
              "      <td>integral</td>\n",
              "      <td>Data Engineer</td>\n",
              "      <td>139200</td>\n",
              "      <td>USD</td>\n",
              "      <td>139200</td>\n",
              "      <td>AU</td>\n",
              "      <td>presencial</td>\n",
              "      <td>AU</td>\n",
              "      <td>media</td>\n",
              "    </tr>\n",
              "    <tr>\n",
              "      <th>4</th>\n",
              "      <td>2025.0</td>\n",
              "      <td>junior</td>\n",
              "      <td>integral</td>\n",
              "      <td>Data Engineer</td>\n",
              "      <td>90000</td>\n",
              "      <td>USD</td>\n",
              "      <td>90000</td>\n",
              "      <td>US</td>\n",
              "      <td>presencial</td>\n",
              "      <td>US</td>\n",
              "      <td>media</td>\n",
              "    </tr>\n",
              "  </tbody>\n",
              "</table>\n",
              "</div>"
            ],
            "text/plain": [
              "      ano senioridade  contrato               cargo  salario moeda     usd  \\\n",
              "0  2025.0      senior  integral  Solutions Engineer   214000   USD  214000   \n",
              "1  2025.0      senior  integral  Solutions Engineer   136000   USD  136000   \n",
              "2  2025.0       pleno  integral       Data Engineer   158800   USD  158800   \n",
              "3  2025.0       pleno  integral       Data Engineer   139200   USD  139200   \n",
              "4  2025.0      junior  integral       Data Engineer    90000   USD   90000   \n",
              "\n",
              "  residencia      remoto empresa tamanho_empresa  \n",
              "0         US      remoto      US           media  \n",
              "1         US      remoto      US           media  \n",
              "2         AU  presencial      AU           media  \n",
              "3         AU  presencial      AU           media  \n",
              "4         US  presencial      US           media  "
            ]
          },
          "execution_count": 64,
          "metadata": {},
          "output_type": "execute_result"
        }
      ],
      "source": [
        "df.head()"
      ]
    },
    {
      "cell_type": "code",
      "execution_count": 75,
      "metadata": {},
      "outputs": [
        {
          "data": {
            "application/vnd.plotly.v1+json": {
              "config": {
                "plotlyServerURL": "https://plot.ly"
              },
              "data": [
                {
                  "hovertemplate": "country=%{x}<br>mean_salary=%{y}<extra></extra>",
                  "legendgroup": "",
                  "marker": {
                    "color": "#636efa",
                    "pattern": {
                      "shape": ""
                    }
                  },
                  "name": "",
                  "orientation": "v",
                  "showlegend": false,
                  "textposition": "auto",
                  "type": "bar",
                  "x": [
                    "EC",
                    "TW",
                    "PK",
                    "HU",
                    "RS",
                    "TH",
                    "SK",
                    "RO",
                    "EE",
                    "AR",
                    "GR",
                    "IN",
                    "FI",
                    "ZA",
                    "TR",
                    "ES",
                    "NG",
                    "AD",
                    "AT",
                    "RU",
                    "LT",
                    "CY",
                    "KE",
                    "HK",
                    "LV",
                    "BE",
                    "CL",
                    "NL",
                    "UZ",
                    "PL",
                    "BR",
                    "PH",
                    "PT",
                    "UA",
                    "GB",
                    "SE",
                    "NO",
                    "FR",
                    "IE",
                    "DE",
                    "KR",
                    "DZ",
                    "IT",
                    "AU",
                    "DO",
                    "AE",
                    "JP",
                    "NZ",
                    "CA",
                    "MX",
                    "EG",
                    "BG",
                    "SG",
                    "CH",
                    "US"
                  ],
                  "xaxis": "x",
                  "y": {
                    "bdata": "AAAAAABAz0AAAAAAoODQQAAAAAAAgtRAAAAAAPBf10AAAAAAAO/YQAAAAABAU9pAmpmZmZnO3UAAAAAAAIfjQAAAAAAAiONAAAAAAACC5EAAAAAAYMXkQKbIZ92A0eRAAAAAAGBL5UAAAAAA+OjlQAAAAABg++VA87ta3OTp5kAAAAAAAGroQAAAAAAgx+hAZQjW0ebj6ECrqqqqqoHrQAAAAABApe5AAAAAAKAa70AAAAAAAL3vQAAAAABAxO9AL7rookv270AAAAAAbE7wQAAAAAAg7vBA+mGRMtA28UAAAAAAgNLxQOQ4juOo7/FAuuiii47/8UAAAAAAAMTyQGZmZma20vJAAAAAAIDA9EDHEznfMQP1QAAAAABYR/VAAAAAAOCY9UBVVVVV/Q32QKuqqqoonPZA6aKLLjpF90AAAAAAgDz4QAAAAAAAavhA27Zt2/6L+EAeHh4eztT6QAAAAAAA2/pAAAAAAIAT/ECrqqqqarr9QAAAAAAcA/5AahVGiOAiAUFVVVVVlSUBQV100UWXLAFBAAAAAKCdAkG3bdu2VZ4CQSVJkiRZ1gJBCILJvFPgA0E=",
                    "dtype": "f8"
                  },
                  "yaxis": "y"
                }
              ],
              "layout": {
                "barmode": "relative",
                "legend": {
                  "tracegroupgap": 0
                },
                "template": {
                  "data": {
                    "bar": [
                      {
                        "error_x": {
                          "color": "#2a3f5f"
                        },
                        "error_y": {
                          "color": "#2a3f5f"
                        },
                        "marker": {
                          "line": {
                            "color": "#E5ECF6",
                            "width": 0.5
                          },
                          "pattern": {
                            "fillmode": "overlay",
                            "size": 10,
                            "solidity": 0.2
                          }
                        },
                        "type": "bar"
                      }
                    ],
                    "barpolar": [
                      {
                        "marker": {
                          "line": {
                            "color": "#E5ECF6",
                            "width": 0.5
                          },
                          "pattern": {
                            "fillmode": "overlay",
                            "size": 10,
                            "solidity": 0.2
                          }
                        },
                        "type": "barpolar"
                      }
                    ],
                    "carpet": [
                      {
                        "aaxis": {
                          "endlinecolor": "#2a3f5f",
                          "gridcolor": "white",
                          "linecolor": "white",
                          "minorgridcolor": "white",
                          "startlinecolor": "#2a3f5f"
                        },
                        "baxis": {
                          "endlinecolor": "#2a3f5f",
                          "gridcolor": "white",
                          "linecolor": "white",
                          "minorgridcolor": "white",
                          "startlinecolor": "#2a3f5f"
                        },
                        "type": "carpet"
                      }
                    ],
                    "choropleth": [
                      {
                        "colorbar": {
                          "outlinewidth": 0,
                          "ticks": ""
                        },
                        "type": "choropleth"
                      }
                    ],
                    "contour": [
                      {
                        "colorbar": {
                          "outlinewidth": 0,
                          "ticks": ""
                        },
                        "colorscale": [
                          [
                            0,
                            "#0d0887"
                          ],
                          [
                            0.1111111111111111,
                            "#46039f"
                          ],
                          [
                            0.2222222222222222,
                            "#7201a8"
                          ],
                          [
                            0.3333333333333333,
                            "#9c179e"
                          ],
                          [
                            0.4444444444444444,
                            "#bd3786"
                          ],
                          [
                            0.5555555555555556,
                            "#d8576b"
                          ],
                          [
                            0.6666666666666666,
                            "#ed7953"
                          ],
                          [
                            0.7777777777777778,
                            "#fb9f3a"
                          ],
                          [
                            0.8888888888888888,
                            "#fdca26"
                          ],
                          [
                            1,
                            "#f0f921"
                          ]
                        ],
                        "type": "contour"
                      }
                    ],
                    "contourcarpet": [
                      {
                        "colorbar": {
                          "outlinewidth": 0,
                          "ticks": ""
                        },
                        "type": "contourcarpet"
                      }
                    ],
                    "heatmap": [
                      {
                        "colorbar": {
                          "outlinewidth": 0,
                          "ticks": ""
                        },
                        "colorscale": [
                          [
                            0,
                            "#0d0887"
                          ],
                          [
                            0.1111111111111111,
                            "#46039f"
                          ],
                          [
                            0.2222222222222222,
                            "#7201a8"
                          ],
                          [
                            0.3333333333333333,
                            "#9c179e"
                          ],
                          [
                            0.4444444444444444,
                            "#bd3786"
                          ],
                          [
                            0.5555555555555556,
                            "#d8576b"
                          ],
                          [
                            0.6666666666666666,
                            "#ed7953"
                          ],
                          [
                            0.7777777777777778,
                            "#fb9f3a"
                          ],
                          [
                            0.8888888888888888,
                            "#fdca26"
                          ],
                          [
                            1,
                            "#f0f921"
                          ]
                        ],
                        "type": "heatmap"
                      }
                    ],
                    "histogram": [
                      {
                        "marker": {
                          "pattern": {
                            "fillmode": "overlay",
                            "size": 10,
                            "solidity": 0.2
                          }
                        },
                        "type": "histogram"
                      }
                    ],
                    "histogram2d": [
                      {
                        "colorbar": {
                          "outlinewidth": 0,
                          "ticks": ""
                        },
                        "colorscale": [
                          [
                            0,
                            "#0d0887"
                          ],
                          [
                            0.1111111111111111,
                            "#46039f"
                          ],
                          [
                            0.2222222222222222,
                            "#7201a8"
                          ],
                          [
                            0.3333333333333333,
                            "#9c179e"
                          ],
                          [
                            0.4444444444444444,
                            "#bd3786"
                          ],
                          [
                            0.5555555555555556,
                            "#d8576b"
                          ],
                          [
                            0.6666666666666666,
                            "#ed7953"
                          ],
                          [
                            0.7777777777777778,
                            "#fb9f3a"
                          ],
                          [
                            0.8888888888888888,
                            "#fdca26"
                          ],
                          [
                            1,
                            "#f0f921"
                          ]
                        ],
                        "type": "histogram2d"
                      }
                    ],
                    "histogram2dcontour": [
                      {
                        "colorbar": {
                          "outlinewidth": 0,
                          "ticks": ""
                        },
                        "colorscale": [
                          [
                            0,
                            "#0d0887"
                          ],
                          [
                            0.1111111111111111,
                            "#46039f"
                          ],
                          [
                            0.2222222222222222,
                            "#7201a8"
                          ],
                          [
                            0.3333333333333333,
                            "#9c179e"
                          ],
                          [
                            0.4444444444444444,
                            "#bd3786"
                          ],
                          [
                            0.5555555555555556,
                            "#d8576b"
                          ],
                          [
                            0.6666666666666666,
                            "#ed7953"
                          ],
                          [
                            0.7777777777777778,
                            "#fb9f3a"
                          ],
                          [
                            0.8888888888888888,
                            "#fdca26"
                          ],
                          [
                            1,
                            "#f0f921"
                          ]
                        ],
                        "type": "histogram2dcontour"
                      }
                    ],
                    "mesh3d": [
                      {
                        "colorbar": {
                          "outlinewidth": 0,
                          "ticks": ""
                        },
                        "type": "mesh3d"
                      }
                    ],
                    "parcoords": [
                      {
                        "line": {
                          "colorbar": {
                            "outlinewidth": 0,
                            "ticks": ""
                          }
                        },
                        "type": "parcoords"
                      }
                    ],
                    "pie": [
                      {
                        "automargin": true,
                        "type": "pie"
                      }
                    ],
                    "scatter": [
                      {
                        "fillpattern": {
                          "fillmode": "overlay",
                          "size": 10,
                          "solidity": 0.2
                        },
                        "type": "scatter"
                      }
                    ],
                    "scatter3d": [
                      {
                        "line": {
                          "colorbar": {
                            "outlinewidth": 0,
                            "ticks": ""
                          }
                        },
                        "marker": {
                          "colorbar": {
                            "outlinewidth": 0,
                            "ticks": ""
                          }
                        },
                        "type": "scatter3d"
                      }
                    ],
                    "scattercarpet": [
                      {
                        "marker": {
                          "colorbar": {
                            "outlinewidth": 0,
                            "ticks": ""
                          }
                        },
                        "type": "scattercarpet"
                      }
                    ],
                    "scattergeo": [
                      {
                        "marker": {
                          "colorbar": {
                            "outlinewidth": 0,
                            "ticks": ""
                          }
                        },
                        "type": "scattergeo"
                      }
                    ],
                    "scattergl": [
                      {
                        "marker": {
                          "colorbar": {
                            "outlinewidth": 0,
                            "ticks": ""
                          }
                        },
                        "type": "scattergl"
                      }
                    ],
                    "scattermap": [
                      {
                        "marker": {
                          "colorbar": {
                            "outlinewidth": 0,
                            "ticks": ""
                          }
                        },
                        "type": "scattermap"
                      }
                    ],
                    "scattermapbox": [
                      {
                        "marker": {
                          "colorbar": {
                            "outlinewidth": 0,
                            "ticks": ""
                          }
                        },
                        "type": "scattermapbox"
                      }
                    ],
                    "scatterpolar": [
                      {
                        "marker": {
                          "colorbar": {
                            "outlinewidth": 0,
                            "ticks": ""
                          }
                        },
                        "type": "scatterpolar"
                      }
                    ],
                    "scatterpolargl": [
                      {
                        "marker": {
                          "colorbar": {
                            "outlinewidth": 0,
                            "ticks": ""
                          }
                        },
                        "type": "scatterpolargl"
                      }
                    ],
                    "scatterternary": [
                      {
                        "marker": {
                          "colorbar": {
                            "outlinewidth": 0,
                            "ticks": ""
                          }
                        },
                        "type": "scatterternary"
                      }
                    ],
                    "surface": [
                      {
                        "colorbar": {
                          "outlinewidth": 0,
                          "ticks": ""
                        },
                        "colorscale": [
                          [
                            0,
                            "#0d0887"
                          ],
                          [
                            0.1111111111111111,
                            "#46039f"
                          ],
                          [
                            0.2222222222222222,
                            "#7201a8"
                          ],
                          [
                            0.3333333333333333,
                            "#9c179e"
                          ],
                          [
                            0.4444444444444444,
                            "#bd3786"
                          ],
                          [
                            0.5555555555555556,
                            "#d8576b"
                          ],
                          [
                            0.6666666666666666,
                            "#ed7953"
                          ],
                          [
                            0.7777777777777778,
                            "#fb9f3a"
                          ],
                          [
                            0.8888888888888888,
                            "#fdca26"
                          ],
                          [
                            1,
                            "#f0f921"
                          ]
                        ],
                        "type": "surface"
                      }
                    ],
                    "table": [
                      {
                        "cells": {
                          "fill": {
                            "color": "#EBF0F8"
                          },
                          "line": {
                            "color": "white"
                          }
                        },
                        "header": {
                          "fill": {
                            "color": "#C8D4E3"
                          },
                          "line": {
                            "color": "white"
                          }
                        },
                        "type": "table"
                      }
                    ]
                  },
                  "layout": {
                    "annotationdefaults": {
                      "arrowcolor": "#2a3f5f",
                      "arrowhead": 0,
                      "arrowwidth": 1
                    },
                    "autotypenumbers": "strict",
                    "coloraxis": {
                      "colorbar": {
                        "outlinewidth": 0,
                        "ticks": ""
                      }
                    },
                    "colorscale": {
                      "diverging": [
                        [
                          0,
                          "#8e0152"
                        ],
                        [
                          0.1,
                          "#c51b7d"
                        ],
                        [
                          0.2,
                          "#de77ae"
                        ],
                        [
                          0.3,
                          "#f1b6da"
                        ],
                        [
                          0.4,
                          "#fde0ef"
                        ],
                        [
                          0.5,
                          "#f7f7f7"
                        ],
                        [
                          0.6,
                          "#e6f5d0"
                        ],
                        [
                          0.7,
                          "#b8e186"
                        ],
                        [
                          0.8,
                          "#7fbc41"
                        ],
                        [
                          0.9,
                          "#4d9221"
                        ],
                        [
                          1,
                          "#276419"
                        ]
                      ],
                      "sequential": [
                        [
                          0,
                          "#0d0887"
                        ],
                        [
                          0.1111111111111111,
                          "#46039f"
                        ],
                        [
                          0.2222222222222222,
                          "#7201a8"
                        ],
                        [
                          0.3333333333333333,
                          "#9c179e"
                        ],
                        [
                          0.4444444444444444,
                          "#bd3786"
                        ],
                        [
                          0.5555555555555556,
                          "#d8576b"
                        ],
                        [
                          0.6666666666666666,
                          "#ed7953"
                        ],
                        [
                          0.7777777777777778,
                          "#fb9f3a"
                        ],
                        [
                          0.8888888888888888,
                          "#fdca26"
                        ],
                        [
                          1,
                          "#f0f921"
                        ]
                      ],
                      "sequentialminus": [
                        [
                          0,
                          "#0d0887"
                        ],
                        [
                          0.1111111111111111,
                          "#46039f"
                        ],
                        [
                          0.2222222222222222,
                          "#7201a8"
                        ],
                        [
                          0.3333333333333333,
                          "#9c179e"
                        ],
                        [
                          0.4444444444444444,
                          "#bd3786"
                        ],
                        [
                          0.5555555555555556,
                          "#d8576b"
                        ],
                        [
                          0.6666666666666666,
                          "#ed7953"
                        ],
                        [
                          0.7777777777777778,
                          "#fb9f3a"
                        ],
                        [
                          0.8888888888888888,
                          "#fdca26"
                        ],
                        [
                          1,
                          "#f0f921"
                        ]
                      ]
                    },
                    "colorway": [
                      "#636efa",
                      "#EF553B",
                      "#00cc96",
                      "#ab63fa",
                      "#FFA15A",
                      "#19d3f3",
                      "#FF6692",
                      "#B6E880",
                      "#FF97FF",
                      "#FECB52"
                    ],
                    "font": {
                      "color": "#2a3f5f"
                    },
                    "geo": {
                      "bgcolor": "white",
                      "lakecolor": "white",
                      "landcolor": "#E5ECF6",
                      "showlakes": true,
                      "showland": true,
                      "subunitcolor": "white"
                    },
                    "hoverlabel": {
                      "align": "left"
                    },
                    "hovermode": "closest",
                    "mapbox": {
                      "style": "light"
                    },
                    "paper_bgcolor": "white",
                    "plot_bgcolor": "#E5ECF6",
                    "polar": {
                      "angularaxis": {
                        "gridcolor": "white",
                        "linecolor": "white",
                        "ticks": ""
                      },
                      "bgcolor": "#E5ECF6",
                      "radialaxis": {
                        "gridcolor": "white",
                        "linecolor": "white",
                        "ticks": ""
                      }
                    },
                    "scene": {
                      "xaxis": {
                        "backgroundcolor": "#E5ECF6",
                        "gridcolor": "white",
                        "gridwidth": 2,
                        "linecolor": "white",
                        "showbackground": true,
                        "ticks": "",
                        "zerolinecolor": "white"
                      },
                      "yaxis": {
                        "backgroundcolor": "#E5ECF6",
                        "gridcolor": "white",
                        "gridwidth": 2,
                        "linecolor": "white",
                        "showbackground": true,
                        "ticks": "",
                        "zerolinecolor": "white"
                      },
                      "zaxis": {
                        "backgroundcolor": "#E5ECF6",
                        "gridcolor": "white",
                        "gridwidth": 2,
                        "linecolor": "white",
                        "showbackground": true,
                        "ticks": "",
                        "zerolinecolor": "white"
                      }
                    },
                    "shapedefaults": {
                      "line": {
                        "color": "#2a3f5f"
                      }
                    },
                    "ternary": {
                      "aaxis": {
                        "gridcolor": "white",
                        "linecolor": "white",
                        "ticks": ""
                      },
                      "baxis": {
                        "gridcolor": "white",
                        "linecolor": "white",
                        "ticks": ""
                      },
                      "bgcolor": "#E5ECF6",
                      "caxis": {
                        "gridcolor": "white",
                        "linecolor": "white",
                        "ticks": ""
                      }
                    },
                    "title": {
                      "x": 0.05
                    },
                    "xaxis": {
                      "automargin": true,
                      "gridcolor": "white",
                      "linecolor": "white",
                      "ticks": "",
                      "title": {
                        "standoff": 15
                      },
                      "zerolinecolor": "white",
                      "zerolinewidth": 2
                    },
                    "yaxis": {
                      "automargin": true,
                      "gridcolor": "white",
                      "linecolor": "white",
                      "ticks": "",
                      "title": {
                        "standoff": 15
                      },
                      "zerolinecolor": "white",
                      "zerolinewidth": 2
                    }
                  }
                },
                "title": {
                  "text": "Salário médio anual por país"
                },
                "xaxis": {
                  "anchor": "y",
                  "domain": [
                    0,
                    1
                  ],
                  "title": {
                    "text": "country"
                  }
                },
                "yaxis": {
                  "anchor": "x",
                  "domain": [
                    0,
                    1
                  ],
                  "title": {
                    "text": "mean_salary"
                  }
                }
              }
            }
          },
          "metadata": {},
          "output_type": "display_data"
        }
      ],
      "source": [
        "data_scientists = df_cleaned[df_cleaned['cargo'].str.contains('Data Scientist', case=False, na=False)]\n",
        "salary_country = data_scientists.groupby('residencia')['usd'].mean().reset_index()\n",
        "salary_country.columns = ['country', 'mean_salary']\n",
        "\n",
        "salary_country = salary_country.sort_values('mean_salary', ascending=True)\n",
        "\n",
        "fig = px.bar(\n",
        "    salary_country,\n",
        "    x=salary_country['country'],\n",
        "    y=salary_country['mean_salary'],\n",
        "    labels={'x': 'País', 'y': 'Salário médio anual (USD)'},\n",
        "    title='Salário médio anual por país'\n",
        ")\n",
        "\n",
        "fig.show()"
      ]
    },
    {
      "cell_type": "code",
      "execution_count": 67,
      "metadata": {},
      "outputs": [
        {
          "data": {
            "application/vnd.microsoft.datawrangler.viewer.v0+json": {
              "columns": [
                {
                  "name": "index",
                  "rawType": "int64",
                  "type": "integer"
                },
                {
                  "name": "ano",
                  "rawType": "int64",
                  "type": "integer"
                },
                {
                  "name": "senioridade",
                  "rawType": "object",
                  "type": "string"
                },
                {
                  "name": "contrato",
                  "rawType": "object",
                  "type": "string"
                },
                {
                  "name": "cargo",
                  "rawType": "object",
                  "type": "string"
                },
                {
                  "name": "salario",
                  "rawType": "int64",
                  "type": "integer"
                },
                {
                  "name": "moeda",
                  "rawType": "object",
                  "type": "string"
                },
                {
                  "name": "usd",
                  "rawType": "int64",
                  "type": "integer"
                },
                {
                  "name": "residencia",
                  "rawType": "object",
                  "type": "string"
                },
                {
                  "name": "remoto",
                  "rawType": "object",
                  "type": "string"
                },
                {
                  "name": "empresa",
                  "rawType": "object",
                  "type": "string"
                },
                {
                  "name": "tamanho_empresa",
                  "rawType": "object",
                  "type": "string"
                }
              ],
              "ref": "68236a9e-0f51-47e2-b42e-56993716305c",
              "rows": [
                [
                  "6",
                  "2025",
                  "senior",
                  "integral",
                  "Data Scientist",
                  "185000",
                  "USD",
                  "185000",
                  "US",
                  "presencial",
                  "US",
                  "media"
                ],
                [
                  "7",
                  "2025",
                  "senior",
                  "integral",
                  "Data Scientist",
                  "148000",
                  "USD",
                  "148000",
                  "US",
                  "presencial",
                  "US",
                  "media"
                ],
                [
                  "8",
                  "2025",
                  "pleno",
                  "integral",
                  "Data Scientist",
                  "135000",
                  "USD",
                  "135000",
                  "CA",
                  "presencial",
                  "CA",
                  "media"
                ],
                [
                  "9",
                  "2025",
                  "pleno",
                  "integral",
                  "Data Scientist",
                  "108000",
                  "USD",
                  "108000",
                  "CA",
                  "presencial",
                  "CA",
                  "media"
                ],
                [
                  "65",
                  "2025",
                  "senior",
                  "integral",
                  "Data Scientist",
                  "258000",
                  "USD",
                  "258000",
                  "US",
                  "presencial",
                  "US",
                  "media"
                ],
                [
                  "66",
                  "2025",
                  "senior",
                  "integral",
                  "Data Scientist",
                  "119800",
                  "USD",
                  "119800",
                  "US",
                  "presencial",
                  "US",
                  "media"
                ],
                [
                  "73",
                  "2025",
                  "senior",
                  "integral",
                  "Data Scientist",
                  "175074",
                  "USD",
                  "175074",
                  "US",
                  "presencial",
                  "US",
                  "media"
                ],
                [
                  "74",
                  "2025",
                  "senior",
                  "integral",
                  "Data Scientist",
                  "79560",
                  "USD",
                  "79560",
                  "US",
                  "presencial",
                  "US",
                  "media"
                ],
                [
                  "131",
                  "2025",
                  "pleno",
                  "integral",
                  "Data Scientist",
                  "117000",
                  "USD",
                  "117000",
                  "US",
                  "presencial",
                  "US",
                  "media"
                ],
                [
                  "132",
                  "2025",
                  "pleno",
                  "integral",
                  "Data Scientist",
                  "90000",
                  "USD",
                  "90000",
                  "US",
                  "presencial",
                  "US",
                  "media"
                ],
                [
                  "211",
                  "2025",
                  "senior",
                  "integral",
                  "Data Scientist",
                  "115000",
                  "GBP",
                  "145569",
                  "GB",
                  "presencial",
                  "GB",
                  "media"
                ],
                [
                  "212",
                  "2025",
                  "senior",
                  "integral",
                  "Data Scientist",
                  "85000",
                  "GBP",
                  "107594",
                  "GB",
                  "presencial",
                  "GB",
                  "media"
                ],
                [
                  "213",
                  "2025",
                  "pleno",
                  "integral",
                  "Data Scientist",
                  "121956",
                  "USD",
                  "121956",
                  "US",
                  "presencial",
                  "US",
                  "media"
                ],
                [
                  "214",
                  "2025",
                  "pleno",
                  "integral",
                  "Data Scientist",
                  "93974",
                  "USD",
                  "93974",
                  "US",
                  "presencial",
                  "US",
                  "media"
                ],
                [
                  "215",
                  "2025",
                  "pleno",
                  "integral",
                  "Data Scientist",
                  "98817",
                  "USD",
                  "98817",
                  "US",
                  "presencial",
                  "US",
                  "media"
                ],
                [
                  "216",
                  "2025",
                  "pleno",
                  "integral",
                  "Data Scientist",
                  "74113",
                  "USD",
                  "74113",
                  "US",
                  "presencial",
                  "US",
                  "media"
                ],
                [
                  "344",
                  "2025",
                  "senior",
                  "integral",
                  "Data Scientist",
                  "161250",
                  "USD",
                  "161250",
                  "US",
                  "remoto",
                  "US",
                  "media"
                ],
                [
                  "345",
                  "2025",
                  "senior",
                  "integral",
                  "Data Scientist",
                  "138750",
                  "USD",
                  "138750",
                  "US",
                  "remoto",
                  "US",
                  "media"
                ],
                [
                  "383",
                  "2025",
                  "senior",
                  "integral",
                  "Data Scientist",
                  "226000",
                  "USD",
                  "226000",
                  "US",
                  "presencial",
                  "US",
                  "media"
                ],
                [
                  "384",
                  "2025",
                  "senior",
                  "integral",
                  "Data Scientist",
                  "140000",
                  "USD",
                  "140000",
                  "US",
                  "presencial",
                  "US",
                  "media"
                ],
                [
                  "385",
                  "2025",
                  "senior",
                  "integral",
                  "Data Scientist",
                  "164320",
                  "USD",
                  "164320",
                  "US",
                  "presencial",
                  "US",
                  "media"
                ],
                [
                  "386",
                  "2025",
                  "senior",
                  "integral",
                  "Data Scientist",
                  "95680",
                  "USD",
                  "95680",
                  "US",
                  "presencial",
                  "US",
                  "media"
                ],
                [
                  "387",
                  "2025",
                  "senior",
                  "integral",
                  "Data Scientist",
                  "186000",
                  "USD",
                  "186000",
                  "US",
                  "presencial",
                  "US",
                  "media"
                ],
                [
                  "388",
                  "2025",
                  "senior",
                  "integral",
                  "Data Scientist",
                  "149000",
                  "USD",
                  "149000",
                  "US",
                  "presencial",
                  "US",
                  "media"
                ],
                [
                  "389",
                  "2025",
                  "senior",
                  "integral",
                  "Data Scientist",
                  "186000",
                  "USD",
                  "186000",
                  "US",
                  "presencial",
                  "US",
                  "media"
                ],
                [
                  "390",
                  "2025",
                  "senior",
                  "integral",
                  "Data Scientist",
                  "149000",
                  "USD",
                  "149000",
                  "US",
                  "presencial",
                  "US",
                  "media"
                ],
                [
                  "391",
                  "2025",
                  "senior",
                  "integral",
                  "Data Scientist",
                  "155000",
                  "USD",
                  "155000",
                  "US",
                  "remoto",
                  "US",
                  "media"
                ],
                [
                  "392",
                  "2025",
                  "senior",
                  "integral",
                  "Data Scientist",
                  "125882",
                  "USD",
                  "125882",
                  "US",
                  "remoto",
                  "US",
                  "media"
                ],
                [
                  "551",
                  "2025",
                  "pleno",
                  "integral",
                  "Data Scientist",
                  "196900",
                  "USD",
                  "196900",
                  "US",
                  "presencial",
                  "US",
                  "media"
                ],
                [
                  "552",
                  "2025",
                  "pleno",
                  "integral",
                  "Data Scientist",
                  "193482",
                  "USD",
                  "193482",
                  "US",
                  "presencial",
                  "US",
                  "media"
                ],
                [
                  "553",
                  "2025",
                  "senior",
                  "integral",
                  "Data Scientist",
                  "196900",
                  "USD",
                  "196900",
                  "US",
                  "remoto",
                  "US",
                  "media"
                ],
                [
                  "554",
                  "2025",
                  "senior",
                  "integral",
                  "Data Scientist",
                  "189953",
                  "USD",
                  "189953",
                  "US",
                  "remoto",
                  "US",
                  "media"
                ],
                [
                  "555",
                  "2025",
                  "pleno",
                  "integral",
                  "Data Scientist",
                  "115498",
                  "USD",
                  "115498",
                  "US",
                  "presencial",
                  "US",
                  "media"
                ],
                [
                  "556",
                  "2025",
                  "pleno",
                  "integral",
                  "Data Scientist",
                  "80766",
                  "USD",
                  "80766",
                  "US",
                  "presencial",
                  "US",
                  "media"
                ],
                [
                  "557",
                  "2025",
                  "senior",
                  "integral",
                  "Data Scientist",
                  "155000",
                  "USD",
                  "155000",
                  "US",
                  "presencial",
                  "US",
                  "media"
                ],
                [
                  "558",
                  "2025",
                  "senior",
                  "integral",
                  "Data Scientist",
                  "58844",
                  "USD",
                  "58844",
                  "US",
                  "presencial",
                  "US",
                  "media"
                ],
                [
                  "559",
                  "2025",
                  "senior",
                  "integral",
                  "Data Scientist",
                  "170000",
                  "USD",
                  "170000",
                  "US",
                  "presencial",
                  "US",
                  "media"
                ],
                [
                  "560",
                  "2025",
                  "senior",
                  "integral",
                  "Data Scientist",
                  "110000",
                  "USD",
                  "110000",
                  "US",
                  "presencial",
                  "US",
                  "media"
                ],
                [
                  "563",
                  "2025",
                  "senior",
                  "integral",
                  "Data Scientist",
                  "122400",
                  "USD",
                  "122400",
                  "US",
                  "presencial",
                  "US",
                  "media"
                ],
                [
                  "564",
                  "2025",
                  "senior",
                  "integral",
                  "Data Scientist",
                  "59795",
                  "USD",
                  "59795",
                  "US",
                  "presencial",
                  "US",
                  "media"
                ],
                [
                  "565",
                  "2025",
                  "senior",
                  "integral",
                  "Data Scientist",
                  "245000",
                  "USD",
                  "245000",
                  "US",
                  "remoto",
                  "US",
                  "media"
                ],
                [
                  "566",
                  "2025",
                  "senior",
                  "integral",
                  "Data Scientist",
                  "167250",
                  "USD",
                  "167250",
                  "US",
                  "remoto",
                  "US",
                  "media"
                ],
                [
                  "567",
                  "2025",
                  "pleno",
                  "integral",
                  "Data Scientist",
                  "220700",
                  "USD",
                  "220700",
                  "US",
                  "presencial",
                  "US",
                  "media"
                ],
                [
                  "568",
                  "2025",
                  "pleno",
                  "integral",
                  "Data Scientist",
                  "193400",
                  "USD",
                  "193400",
                  "US",
                  "presencial",
                  "US",
                  "media"
                ],
                [
                  "627",
                  "2025",
                  "senior",
                  "integral",
                  "Data Scientist",
                  "180000",
                  "USD",
                  "180000",
                  "US",
                  "remoto",
                  "US",
                  "media"
                ],
                [
                  "628",
                  "2025",
                  "senior",
                  "integral",
                  "Data Scientist",
                  "128000",
                  "USD",
                  "128000",
                  "US",
                  "remoto",
                  "US",
                  "media"
                ],
                [
                  "653",
                  "2025",
                  "senior",
                  "integral",
                  "Data Scientist",
                  "169523",
                  "USD",
                  "169523",
                  "US",
                  "presencial",
                  "US",
                  "media"
                ],
                [
                  "654",
                  "2025",
                  "senior",
                  "integral",
                  "Data Scientist",
                  "113015",
                  "USD",
                  "113015",
                  "US",
                  "presencial",
                  "US",
                  "media"
                ],
                [
                  "673",
                  "2025",
                  "pleno",
                  "integral",
                  "Data Scientist",
                  "138000",
                  "USD",
                  "138000",
                  "DE",
                  "presencial",
                  "DE",
                  "media"
                ],
                [
                  "674",
                  "2025",
                  "pleno",
                  "integral",
                  "Data Scientist",
                  "102000",
                  "USD",
                  "102000",
                  "DE",
                  "presencial",
                  "DE",
                  "media"
                ]
              ],
              "shape": {
                "columns": 11,
                "rows": 17367
              }
            },
            "text/html": [
              "<div>\n",
              "<style scoped>\n",
              "    .dataframe tbody tr th:only-of-type {\n",
              "        vertical-align: middle;\n",
              "    }\n",
              "\n",
              "    .dataframe tbody tr th {\n",
              "        vertical-align: top;\n",
              "    }\n",
              "\n",
              "    .dataframe thead th {\n",
              "        text-align: right;\n",
              "    }\n",
              "</style>\n",
              "<table border=\"1\" class=\"dataframe\">\n",
              "  <thead>\n",
              "    <tr style=\"text-align: right;\">\n",
              "      <th></th>\n",
              "      <th>ano</th>\n",
              "      <th>senioridade</th>\n",
              "      <th>contrato</th>\n",
              "      <th>cargo</th>\n",
              "      <th>salario</th>\n",
              "      <th>moeda</th>\n",
              "      <th>usd</th>\n",
              "      <th>residencia</th>\n",
              "      <th>remoto</th>\n",
              "      <th>empresa</th>\n",
              "      <th>tamanho_empresa</th>\n",
              "    </tr>\n",
              "  </thead>\n",
              "  <tbody>\n",
              "    <tr>\n",
              "      <th>6</th>\n",
              "      <td>2025</td>\n",
              "      <td>senior</td>\n",
              "      <td>integral</td>\n",
              "      <td>Data Scientist</td>\n",
              "      <td>185000</td>\n",
              "      <td>USD</td>\n",
              "      <td>185000</td>\n",
              "      <td>US</td>\n",
              "      <td>presencial</td>\n",
              "      <td>US</td>\n",
              "      <td>media</td>\n",
              "    </tr>\n",
              "    <tr>\n",
              "      <th>7</th>\n",
              "      <td>2025</td>\n",
              "      <td>senior</td>\n",
              "      <td>integral</td>\n",
              "      <td>Data Scientist</td>\n",
              "      <td>148000</td>\n",
              "      <td>USD</td>\n",
              "      <td>148000</td>\n",
              "      <td>US</td>\n",
              "      <td>presencial</td>\n",
              "      <td>US</td>\n",
              "      <td>media</td>\n",
              "    </tr>\n",
              "    <tr>\n",
              "      <th>8</th>\n",
              "      <td>2025</td>\n",
              "      <td>pleno</td>\n",
              "      <td>integral</td>\n",
              "      <td>Data Scientist</td>\n",
              "      <td>135000</td>\n",
              "      <td>USD</td>\n",
              "      <td>135000</td>\n",
              "      <td>CA</td>\n",
              "      <td>presencial</td>\n",
              "      <td>CA</td>\n",
              "      <td>media</td>\n",
              "    </tr>\n",
              "    <tr>\n",
              "      <th>9</th>\n",
              "      <td>2025</td>\n",
              "      <td>pleno</td>\n",
              "      <td>integral</td>\n",
              "      <td>Data Scientist</td>\n",
              "      <td>108000</td>\n",
              "      <td>USD</td>\n",
              "      <td>108000</td>\n",
              "      <td>CA</td>\n",
              "      <td>presencial</td>\n",
              "      <td>CA</td>\n",
              "      <td>media</td>\n",
              "    </tr>\n",
              "    <tr>\n",
              "      <th>65</th>\n",
              "      <td>2025</td>\n",
              "      <td>senior</td>\n",
              "      <td>integral</td>\n",
              "      <td>Data Scientist</td>\n",
              "      <td>258000</td>\n",
              "      <td>USD</td>\n",
              "      <td>258000</td>\n",
              "      <td>US</td>\n",
              "      <td>presencial</td>\n",
              "      <td>US</td>\n",
              "      <td>media</td>\n",
              "    </tr>\n",
              "    <tr>\n",
              "      <th>...</th>\n",
              "      <td>...</td>\n",
              "      <td>...</td>\n",
              "      <td>...</td>\n",
              "      <td>...</td>\n",
              "      <td>...</td>\n",
              "      <td>...</td>\n",
              "      <td>...</td>\n",
              "      <td>...</td>\n",
              "      <td>...</td>\n",
              "      <td>...</td>\n",
              "      <td>...</td>\n",
              "    </tr>\n",
              "    <tr>\n",
              "      <th>133340</th>\n",
              "      <td>2021</td>\n",
              "      <td>pleno</td>\n",
              "      <td>integral</td>\n",
              "      <td>Data Scientist</td>\n",
              "      <td>160000</td>\n",
              "      <td>SGD</td>\n",
              "      <td>119059</td>\n",
              "      <td>SG</td>\n",
              "      <td>remoto</td>\n",
              "      <td>IL</td>\n",
              "      <td>media</td>\n",
              "    </tr>\n",
              "    <tr>\n",
              "      <th>133344</th>\n",
              "      <td>2020</td>\n",
              "      <td>senior</td>\n",
              "      <td>integral</td>\n",
              "      <td>Data Scientist</td>\n",
              "      <td>412000</td>\n",
              "      <td>USD</td>\n",
              "      <td>412000</td>\n",
              "      <td>US</td>\n",
              "      <td>remoto</td>\n",
              "      <td>US</td>\n",
              "      <td>grande</td>\n",
              "    </tr>\n",
              "    <tr>\n",
              "      <th>133345</th>\n",
              "      <td>2021</td>\n",
              "      <td>pleno</td>\n",
              "      <td>integral</td>\n",
              "      <td>Principal Data Scientist</td>\n",
              "      <td>151000</td>\n",
              "      <td>USD</td>\n",
              "      <td>151000</td>\n",
              "      <td>US</td>\n",
              "      <td>remoto</td>\n",
              "      <td>US</td>\n",
              "      <td>grande</td>\n",
              "    </tr>\n",
              "    <tr>\n",
              "      <th>133346</th>\n",
              "      <td>2020</td>\n",
              "      <td>junior</td>\n",
              "      <td>integral</td>\n",
              "      <td>Data Scientist</td>\n",
              "      <td>105000</td>\n",
              "      <td>USD</td>\n",
              "      <td>105000</td>\n",
              "      <td>US</td>\n",
              "      <td>remoto</td>\n",
              "      <td>US</td>\n",
              "      <td>pequena</td>\n",
              "    </tr>\n",
              "    <tr>\n",
              "      <th>133348</th>\n",
              "      <td>2021</td>\n",
              "      <td>senior</td>\n",
              "      <td>integral</td>\n",
              "      <td>Data Scientist</td>\n",
              "      <td>7000000</td>\n",
              "      <td>INR</td>\n",
              "      <td>94665</td>\n",
              "      <td>IN</td>\n",
              "      <td>hibrido</td>\n",
              "      <td>IN</td>\n",
              "      <td>grande</td>\n",
              "    </tr>\n",
              "  </tbody>\n",
              "</table>\n",
              "<p>17367 rows × 11 columns</p>\n",
              "</div>"
            ],
            "text/plain": [
              "         ano senioridade  contrato                     cargo  salario moeda  \\\n",
              "6       2025      senior  integral            Data Scientist   185000   USD   \n",
              "7       2025      senior  integral            Data Scientist   148000   USD   \n",
              "8       2025       pleno  integral            Data Scientist   135000   USD   \n",
              "9       2025       pleno  integral            Data Scientist   108000   USD   \n",
              "65      2025      senior  integral            Data Scientist   258000   USD   \n",
              "...      ...         ...       ...                       ...      ...   ...   \n",
              "133340  2021       pleno  integral            Data Scientist   160000   SGD   \n",
              "133344  2020      senior  integral            Data Scientist   412000   USD   \n",
              "133345  2021       pleno  integral  Principal Data Scientist   151000   USD   \n",
              "133346  2020      junior  integral            Data Scientist   105000   USD   \n",
              "133348  2021      senior  integral            Data Scientist  7000000   INR   \n",
              "\n",
              "           usd residencia      remoto empresa tamanho_empresa  \n",
              "6       185000         US  presencial      US           media  \n",
              "7       148000         US  presencial      US           media  \n",
              "8       135000         CA  presencial      CA           media  \n",
              "9       108000         CA  presencial      CA           media  \n",
              "65      258000         US  presencial      US           media  \n",
              "...        ...        ...         ...     ...             ...  \n",
              "133340  119059         SG      remoto      IL           media  \n",
              "133344  412000         US      remoto      US          grande  \n",
              "133345  151000         US      remoto      US          grande  \n",
              "133346  105000         US      remoto      US         pequena  \n",
              "133348   94665         IN     hibrido      IN          grande  \n",
              "\n",
              "[17367 rows x 11 columns]"
            ]
          },
          "execution_count": 67,
          "metadata": {},
          "output_type": "execute_result"
        }
      ],
      "source": [
        "df_cleaned[df_cleaned['cargo'].str.contains('Data Scientist', case=False, na=False)]"
      ]
    },
    {
      "cell_type": "code",
      "execution_count": 72,
      "metadata": {},
      "outputs": [
        {
          "data": {
            "application/vnd.microsoft.datawrangler.viewer.v0+json": {
              "columns": [
                {
                  "name": "index",
                  "rawType": "int64",
                  "type": "integer"
                },
                {
                  "name": "país",
                  "rawType": "object",
                  "type": "string"
                },
                {
                  "name": "salário médio anual (USD)",
                  "rawType": "float64",
                  "type": "float"
                }
              ],
              "ref": "637a9ba1-cb60-4d2d-8813-9dde2c03dc4d",
              "rows": [
                [
                  "0",
                  "AD",
                  "50745.0"
                ],
                [
                  "1",
                  "AE",
                  "115000.0"
                ],
                [
                  "2",
                  "AR",
                  "42000.0"
                ],
                [
                  "3",
                  "AT",
                  "50975.2131147541"
                ],
                [
                  "4",
                  "AU",
                  "109900.88235294117"
                ],
                [
                  "5",
                  "BE",
                  "66790.75"
                ],
                [
                  "6",
                  "BG",
                  "152500.0"
                ],
                [
                  "7",
                  "BR",
                  "73720.90909090909"
                ],
                [
                  "8",
                  "CA",
                  "140380.06653992395"
                ],
                [
                  "9",
                  "CH",
                  "154315.14285714287"
                ],
                [
                  "10",
                  "CL",
                  "69346.0"
                ],
                [
                  "11",
                  "CY",
                  "63701.0"
                ],
                [
                  "12",
                  "DE",
                  "95315.63636363637"
                ],
                [
                  "13",
                  "DO",
                  "110000.0"
                ],
                [
                  "14",
                  "DZ",
                  "100000.0"
                ],
                [
                  "15",
                  "EC",
                  "16000.0"
                ],
                [
                  "16",
                  "EE",
                  "40000.0"
                ],
                [
                  "17",
                  "EG",
                  "140690.9090909091"
                ],
                [
                  "18",
                  "ES",
                  "46927.15189873418"
                ],
                [
                  "19",
                  "FI",
                  "43611.0"
                ],
                [
                  "20",
                  "FR",
                  "90335.83333333333"
                ],
                [
                  "21",
                  "GB",
                  "86067.11699779249"
                ],
                [
                  "22",
                  "GR",
                  "42539.0"
                ],
                [
                  "23",
                  "HK",
                  "65058.0"
                ],
                [
                  "24",
                  "HU",
                  "23935.75"
                ],
                [
                  "25",
                  "IE",
                  "92610.54166666667"
                ],
                [
                  "26",
                  "IN",
                  "42636.02702702703"
                ],
                [
                  "27",
                  "IT",
                  "100543.92857142857"
                ],
                [
                  "28",
                  "JP",
                  "121766.66666666667"
                ],
                [
                  "29",
                  "KE",
                  "65000.0"
                ],
                [
                  "30",
                  "KR",
                  "99272.0"
                ],
                [
                  "31",
                  "LT",
                  "62762.0"
                ],
                [
                  "32",
                  "LV",
                  "65458.36363636364"
                ],
                [
                  "33",
                  "MX",
                  "140466.66666666666"
                ],
                [
                  "34",
                  "NG",
                  "50000.0"
                ],
                [
                  "35",
                  "NL",
                  "70509.01234567902"
                ],
                [
                  "36",
                  "NO",
                  "88462.0"
                ],
                [
                  "37",
                  "NZ",
                  "122929.75"
                ],
                [
                  "38",
                  "PH",
                  "76864.0"
                ],
                [
                  "39",
                  "PK",
                  "21000.0"
                ],
                [
                  "40",
                  "PL",
                  "73466.55555555556"
                ],
                [
                  "41",
                  "PT",
                  "77099.4"
                ],
                [
                  "42",
                  "RO",
                  "39992.0"
                ],
                [
                  "43",
                  "RS",
                  "25532.0"
                ],
                [
                  "44",
                  "RU",
                  "56333.333333333336"
                ],
                [
                  "45",
                  "SE",
                  "87157.5"
                ],
                [
                  "46",
                  "SG",
                  "152522.7142857143"
                ],
                [
                  "47",
                  "SK",
                  "30522.4"
                ],
                [
                  "48",
                  "TH",
                  "26957.0"
                ],
                [
                  "49",
                  "TR",
                  "45019.0"
                ]
              ],
              "shape": {
                "columns": 2,
                "rows": 55
              }
            },
            "text/html": [
              "<div>\n",
              "<style scoped>\n",
              "    .dataframe tbody tr th:only-of-type {\n",
              "        vertical-align: middle;\n",
              "    }\n",
              "\n",
              "    .dataframe tbody tr th {\n",
              "        vertical-align: top;\n",
              "    }\n",
              "\n",
              "    .dataframe thead th {\n",
              "        text-align: right;\n",
              "    }\n",
              "</style>\n",
              "<table border=\"1\" class=\"dataframe\">\n",
              "  <thead>\n",
              "    <tr style=\"text-align: right;\">\n",
              "      <th></th>\n",
              "      <th>país</th>\n",
              "      <th>salário médio anual (USD)</th>\n",
              "    </tr>\n",
              "  </thead>\n",
              "  <tbody>\n",
              "    <tr>\n",
              "      <th>0</th>\n",
              "      <td>AD</td>\n",
              "      <td>50745.000000</td>\n",
              "    </tr>\n",
              "    <tr>\n",
              "      <th>1</th>\n",
              "      <td>AE</td>\n",
              "      <td>115000.000000</td>\n",
              "    </tr>\n",
              "    <tr>\n",
              "      <th>2</th>\n",
              "      <td>AR</td>\n",
              "      <td>42000.000000</td>\n",
              "    </tr>\n",
              "    <tr>\n",
              "      <th>3</th>\n",
              "      <td>AT</td>\n",
              "      <td>50975.213115</td>\n",
              "    </tr>\n",
              "    <tr>\n",
              "      <th>4</th>\n",
              "      <td>AU</td>\n",
              "      <td>109900.882353</td>\n",
              "    </tr>\n",
              "    <tr>\n",
              "      <th>5</th>\n",
              "      <td>BE</td>\n",
              "      <td>66790.750000</td>\n",
              "    </tr>\n",
              "    <tr>\n",
              "      <th>6</th>\n",
              "      <td>BG</td>\n",
              "      <td>152500.000000</td>\n",
              "    </tr>\n",
              "    <tr>\n",
              "      <th>7</th>\n",
              "      <td>BR</td>\n",
              "      <td>73720.909091</td>\n",
              "    </tr>\n",
              "    <tr>\n",
              "      <th>8</th>\n",
              "      <td>CA</td>\n",
              "      <td>140380.066540</td>\n",
              "    </tr>\n",
              "    <tr>\n",
              "      <th>9</th>\n",
              "      <td>CH</td>\n",
              "      <td>154315.142857</td>\n",
              "    </tr>\n",
              "    <tr>\n",
              "      <th>10</th>\n",
              "      <td>CL</td>\n",
              "      <td>69346.000000</td>\n",
              "    </tr>\n",
              "    <tr>\n",
              "      <th>11</th>\n",
              "      <td>CY</td>\n",
              "      <td>63701.000000</td>\n",
              "    </tr>\n",
              "    <tr>\n",
              "      <th>12</th>\n",
              "      <td>DE</td>\n",
              "      <td>95315.636364</td>\n",
              "    </tr>\n",
              "    <tr>\n",
              "      <th>13</th>\n",
              "      <td>DO</td>\n",
              "      <td>110000.000000</td>\n",
              "    </tr>\n",
              "    <tr>\n",
              "      <th>14</th>\n",
              "      <td>DZ</td>\n",
              "      <td>100000.000000</td>\n",
              "    </tr>\n",
              "    <tr>\n",
              "      <th>15</th>\n",
              "      <td>EC</td>\n",
              "      <td>16000.000000</td>\n",
              "    </tr>\n",
              "    <tr>\n",
              "      <th>16</th>\n",
              "      <td>EE</td>\n",
              "      <td>40000.000000</td>\n",
              "    </tr>\n",
              "    <tr>\n",
              "      <th>17</th>\n",
              "      <td>EG</td>\n",
              "      <td>140690.909091</td>\n",
              "    </tr>\n",
              "    <tr>\n",
              "      <th>18</th>\n",
              "      <td>ES</td>\n",
              "      <td>46927.151899</td>\n",
              "    </tr>\n",
              "    <tr>\n",
              "      <th>19</th>\n",
              "      <td>FI</td>\n",
              "      <td>43611.000000</td>\n",
              "    </tr>\n",
              "    <tr>\n",
              "      <th>20</th>\n",
              "      <td>FR</td>\n",
              "      <td>90335.833333</td>\n",
              "    </tr>\n",
              "    <tr>\n",
              "      <th>21</th>\n",
              "      <td>GB</td>\n",
              "      <td>86067.116998</td>\n",
              "    </tr>\n",
              "    <tr>\n",
              "      <th>22</th>\n",
              "      <td>GR</td>\n",
              "      <td>42539.000000</td>\n",
              "    </tr>\n",
              "    <tr>\n",
              "      <th>23</th>\n",
              "      <td>HK</td>\n",
              "      <td>65058.000000</td>\n",
              "    </tr>\n",
              "    <tr>\n",
              "      <th>24</th>\n",
              "      <td>HU</td>\n",
              "      <td>23935.750000</td>\n",
              "    </tr>\n",
              "    <tr>\n",
              "      <th>25</th>\n",
              "      <td>IE</td>\n",
              "      <td>92610.541667</td>\n",
              "    </tr>\n",
              "    <tr>\n",
              "      <th>26</th>\n",
              "      <td>IN</td>\n",
              "      <td>42636.027027</td>\n",
              "    </tr>\n",
              "    <tr>\n",
              "      <th>27</th>\n",
              "      <td>IT</td>\n",
              "      <td>100543.928571</td>\n",
              "    </tr>\n",
              "    <tr>\n",
              "      <th>28</th>\n",
              "      <td>JP</td>\n",
              "      <td>121766.666667</td>\n",
              "    </tr>\n",
              "    <tr>\n",
              "      <th>29</th>\n",
              "      <td>KE</td>\n",
              "      <td>65000.000000</td>\n",
              "    </tr>\n",
              "    <tr>\n",
              "      <th>30</th>\n",
              "      <td>KR</td>\n",
              "      <td>99272.000000</td>\n",
              "    </tr>\n",
              "    <tr>\n",
              "      <th>31</th>\n",
              "      <td>LT</td>\n",
              "      <td>62762.000000</td>\n",
              "    </tr>\n",
              "    <tr>\n",
              "      <th>32</th>\n",
              "      <td>LV</td>\n",
              "      <td>65458.363636</td>\n",
              "    </tr>\n",
              "    <tr>\n",
              "      <th>33</th>\n",
              "      <td>MX</td>\n",
              "      <td>140466.666667</td>\n",
              "    </tr>\n",
              "    <tr>\n",
              "      <th>34</th>\n",
              "      <td>NG</td>\n",
              "      <td>50000.000000</td>\n",
              "    </tr>\n",
              "    <tr>\n",
              "      <th>35</th>\n",
              "      <td>NL</td>\n",
              "      <td>70509.012346</td>\n",
              "    </tr>\n",
              "    <tr>\n",
              "      <th>36</th>\n",
              "      <td>NO</td>\n",
              "      <td>88462.000000</td>\n",
              "    </tr>\n",
              "    <tr>\n",
              "      <th>37</th>\n",
              "      <td>NZ</td>\n",
              "      <td>122929.750000</td>\n",
              "    </tr>\n",
              "    <tr>\n",
              "      <th>38</th>\n",
              "      <td>PH</td>\n",
              "      <td>76864.000000</td>\n",
              "    </tr>\n",
              "    <tr>\n",
              "      <th>39</th>\n",
              "      <td>PK</td>\n",
              "      <td>21000.000000</td>\n",
              "    </tr>\n",
              "    <tr>\n",
              "      <th>40</th>\n",
              "      <td>PL</td>\n",
              "      <td>73466.555556</td>\n",
              "    </tr>\n",
              "    <tr>\n",
              "      <th>41</th>\n",
              "      <td>PT</td>\n",
              "      <td>77099.400000</td>\n",
              "    </tr>\n",
              "    <tr>\n",
              "      <th>42</th>\n",
              "      <td>RO</td>\n",
              "      <td>39992.000000</td>\n",
              "    </tr>\n",
              "    <tr>\n",
              "      <th>43</th>\n",
              "      <td>RS</td>\n",
              "      <td>25532.000000</td>\n",
              "    </tr>\n",
              "    <tr>\n",
              "      <th>44</th>\n",
              "      <td>RU</td>\n",
              "      <td>56333.333333</td>\n",
              "    </tr>\n",
              "    <tr>\n",
              "      <th>45</th>\n",
              "      <td>SE</td>\n",
              "      <td>87157.500000</td>\n",
              "    </tr>\n",
              "    <tr>\n",
              "      <th>46</th>\n",
              "      <td>SG</td>\n",
              "      <td>152522.714286</td>\n",
              "    </tr>\n",
              "    <tr>\n",
              "      <th>47</th>\n",
              "      <td>SK</td>\n",
              "      <td>30522.400000</td>\n",
              "    </tr>\n",
              "    <tr>\n",
              "      <th>48</th>\n",
              "      <td>TH</td>\n",
              "      <td>26957.000000</td>\n",
              "    </tr>\n",
              "    <tr>\n",
              "      <th>49</th>\n",
              "      <td>TR</td>\n",
              "      <td>45019.000000</td>\n",
              "    </tr>\n",
              "    <tr>\n",
              "      <th>50</th>\n",
              "      <td>TW</td>\n",
              "      <td>17282.500000</td>\n",
              "    </tr>\n",
              "    <tr>\n",
              "      <th>51</th>\n",
              "      <td>UA</td>\n",
              "      <td>85000.000000</td>\n",
              "    </tr>\n",
              "    <tr>\n",
              "      <th>52</th>\n",
              "      <td>US</td>\n",
              "      <td>162826.467181</td>\n",
              "    </tr>\n",
              "    <tr>\n",
              "      <th>53</th>\n",
              "      <td>UZ</td>\n",
              "      <td>73000.000000</td>\n",
              "    </tr>\n",
              "    <tr>\n",
              "      <th>54</th>\n",
              "      <td>ZA</td>\n",
              "      <td>44871.750000</td>\n",
              "    </tr>\n",
              "  </tbody>\n",
              "</table>\n",
              "</div>"
            ],
            "text/plain": [
              "   país  salário médio anual (USD)\n",
              "0    AD               50745.000000\n",
              "1    AE              115000.000000\n",
              "2    AR               42000.000000\n",
              "3    AT               50975.213115\n",
              "4    AU              109900.882353\n",
              "5    BE               66790.750000\n",
              "6    BG              152500.000000\n",
              "7    BR               73720.909091\n",
              "8    CA              140380.066540\n",
              "9    CH              154315.142857\n",
              "10   CL               69346.000000\n",
              "11   CY               63701.000000\n",
              "12   DE               95315.636364\n",
              "13   DO              110000.000000\n",
              "14   DZ              100000.000000\n",
              "15   EC               16000.000000\n",
              "16   EE               40000.000000\n",
              "17   EG              140690.909091\n",
              "18   ES               46927.151899\n",
              "19   FI               43611.000000\n",
              "20   FR               90335.833333\n",
              "21   GB               86067.116998\n",
              "22   GR               42539.000000\n",
              "23   HK               65058.000000\n",
              "24   HU               23935.750000\n",
              "25   IE               92610.541667\n",
              "26   IN               42636.027027\n",
              "27   IT              100543.928571\n",
              "28   JP              121766.666667\n",
              "29   KE               65000.000000\n",
              "30   KR               99272.000000\n",
              "31   LT               62762.000000\n",
              "32   LV               65458.363636\n",
              "33   MX              140466.666667\n",
              "34   NG               50000.000000\n",
              "35   NL               70509.012346\n",
              "36   NO               88462.000000\n",
              "37   NZ              122929.750000\n",
              "38   PH               76864.000000\n",
              "39   PK               21000.000000\n",
              "40   PL               73466.555556\n",
              "41   PT               77099.400000\n",
              "42   RO               39992.000000\n",
              "43   RS               25532.000000\n",
              "44   RU               56333.333333\n",
              "45   SE               87157.500000\n",
              "46   SG              152522.714286\n",
              "47   SK               30522.400000\n",
              "48   TH               26957.000000\n",
              "49   TR               45019.000000\n",
              "50   TW               17282.500000\n",
              "51   UA               85000.000000\n",
              "52   US              162826.467181\n",
              "53   UZ               73000.000000\n",
              "54   ZA               44871.750000"
            ]
          },
          "execution_count": 72,
          "metadata": {},
          "output_type": "execute_result"
        }
      ],
      "source": [
        "data_scientists = df_cleaned[df_cleaned['cargo'].str.contains('Data Scientist', case=False, na=False)]\n",
        "data_scientists.groupby('residencia')['usd'].mean().reset_index()\n",
        "salary_country.columns = ['país', 'salário médio anual (USD)']\n",
        "salary_country"
      ]
    },
    {
      "cell_type": "code",
      "execution_count": 76,
      "metadata": {},
      "outputs": [],
      "source": [
        "import pycountry"
      ]
    },
    {
      "cell_type": "code",
      "execution_count": 77,
      "metadata": {},
      "outputs": [
        {
          "data": {
            "application/vnd.plotly.v1+json": {
              "config": {
                "plotlyServerURL": "https://plot.ly"
              },
              "data": [
                {
                  "coloraxis": "coloraxis",
                  "geo": "geo",
                  "hovertemplate": "País=%{location}<br>Salário médio anual (USD)=%{z}<extra></extra>",
                  "locations": [
                    "AND",
                    "ARG",
                    "AUS",
                    "AUT",
                    "BEL",
                    "BGR",
                    "BRA",
                    "CAN",
                    "CHE",
                    "CHL",
                    "CYP",
                    "DEU",
                    "DOM",
                    "DZA",
                    "ECU",
                    "EGY",
                    "ESP",
                    "EST",
                    "FIN",
                    "FRA",
                    "GBR",
                    "GRC",
                    "HKG",
                    "HUN",
                    "IND",
                    "IRL",
                    "ITA",
                    "JPN",
                    "KEN",
                    "KOR",
                    "LTU",
                    "LVA",
                    "MEX",
                    "NGA",
                    "NLD",
                    "NOR",
                    "NZL",
                    "PAK",
                    "PHL",
                    "POL",
                    "PRT",
                    "ROU",
                    "RUS",
                    "SGP",
                    "SRB",
                    "SVK",
                    "SWE",
                    "THA",
                    "TUR",
                    "TWN",
                    "UKR",
                    "USA",
                    "UZB",
                    "ZAF"
                  ],
                  "name": "",
                  "type": "choropleth",
                  "z": {
                    "bdata": "AAAAACDH6EAAAAAAAILkQAAAAADgY/tA78tjK8KU6EAAAAAAbE7wQAAAAACgnQJBuuiii47/8UB62crgPycBQVVVVVUFlgJBAAAAACDu8EAAAAAAoBrvQJjHVgTdhfZAAAAAAADb+kAAAAAAAGr4QAAAAAAAQM9AXXTRRZcsAUGKndiJrarmQAAAAAAAiONAAAAAAGBL5UBfHlsR5C/2QHiuTvaAD/VAVVVVVXXX5EAAAAAAQMTvQAAAAADwX9dARERERATk5EALWchClsP1QFVVVVWRMvtAq6qqqmq6/UAAAAAAAGroQAAAAACAPPhAAAAAAECl7kAAAAAAEB/uQFVVVVWVJQFBAAAAAABq6EAAAAAAbxvxQAAAAADgmPVAAAAAABwD/kAAAAAAAILUQAAAAAAAxPJA5DiO46jv8UAAAAAAhLP1QAAAAAAAh+NAAAAAAEA88EC3bdu2VZ4CQQAAAAAA79hAmpmZmZnO3UAAAAAAWEf1QAAAAABAU9pAAAAAAGD75UAAAAAAoODQQAAAAACAwPRAB3Ly9JPfA0EAAAAAgNLxQAAAAAD46OVA",
                    "dtype": "f8"
                  }
                }
              ],
              "layout": {
                "coloraxis": {
                  "colorbar": {
                    "title": {
                      "text": "Salário médio anual (USD)"
                    }
                  },
                  "colorscale": [
                    [
                      0,
                      "rgb(165,0,38)"
                    ],
                    [
                      0.1,
                      "rgb(215,48,39)"
                    ],
                    [
                      0.2,
                      "rgb(244,109,67)"
                    ],
                    [
                      0.3,
                      "rgb(253,174,97)"
                    ],
                    [
                      0.4,
                      "rgb(254,224,139)"
                    ],
                    [
                      0.5,
                      "rgb(255,255,191)"
                    ],
                    [
                      0.6,
                      "rgb(217,239,139)"
                    ],
                    [
                      0.7,
                      "rgb(166,217,106)"
                    ],
                    [
                      0.8,
                      "rgb(102,189,99)"
                    ],
                    [
                      0.9,
                      "rgb(26,152,80)"
                    ],
                    [
                      1,
                      "rgb(0,104,55)"
                    ]
                  ]
                },
                "geo": {
                  "center": {},
                  "domain": {
                    "x": [
                      0,
                      1
                    ],
                    "y": [
                      0,
                      1
                    ]
                  }
                },
                "legend": {
                  "tracegroupgap": 0
                },
                "template": {
                  "data": {
                    "bar": [
                      {
                        "error_x": {
                          "color": "#2a3f5f"
                        },
                        "error_y": {
                          "color": "#2a3f5f"
                        },
                        "marker": {
                          "line": {
                            "color": "#E5ECF6",
                            "width": 0.5
                          },
                          "pattern": {
                            "fillmode": "overlay",
                            "size": 10,
                            "solidity": 0.2
                          }
                        },
                        "type": "bar"
                      }
                    ],
                    "barpolar": [
                      {
                        "marker": {
                          "line": {
                            "color": "#E5ECF6",
                            "width": 0.5
                          },
                          "pattern": {
                            "fillmode": "overlay",
                            "size": 10,
                            "solidity": 0.2
                          }
                        },
                        "type": "barpolar"
                      }
                    ],
                    "carpet": [
                      {
                        "aaxis": {
                          "endlinecolor": "#2a3f5f",
                          "gridcolor": "white",
                          "linecolor": "white",
                          "minorgridcolor": "white",
                          "startlinecolor": "#2a3f5f"
                        },
                        "baxis": {
                          "endlinecolor": "#2a3f5f",
                          "gridcolor": "white",
                          "linecolor": "white",
                          "minorgridcolor": "white",
                          "startlinecolor": "#2a3f5f"
                        },
                        "type": "carpet"
                      }
                    ],
                    "choropleth": [
                      {
                        "colorbar": {
                          "outlinewidth": 0,
                          "ticks": ""
                        },
                        "type": "choropleth"
                      }
                    ],
                    "contour": [
                      {
                        "colorbar": {
                          "outlinewidth": 0,
                          "ticks": ""
                        },
                        "colorscale": [
                          [
                            0,
                            "#0d0887"
                          ],
                          [
                            0.1111111111111111,
                            "#46039f"
                          ],
                          [
                            0.2222222222222222,
                            "#7201a8"
                          ],
                          [
                            0.3333333333333333,
                            "#9c179e"
                          ],
                          [
                            0.4444444444444444,
                            "#bd3786"
                          ],
                          [
                            0.5555555555555556,
                            "#d8576b"
                          ],
                          [
                            0.6666666666666666,
                            "#ed7953"
                          ],
                          [
                            0.7777777777777778,
                            "#fb9f3a"
                          ],
                          [
                            0.8888888888888888,
                            "#fdca26"
                          ],
                          [
                            1,
                            "#f0f921"
                          ]
                        ],
                        "type": "contour"
                      }
                    ],
                    "contourcarpet": [
                      {
                        "colorbar": {
                          "outlinewidth": 0,
                          "ticks": ""
                        },
                        "type": "contourcarpet"
                      }
                    ],
                    "heatmap": [
                      {
                        "colorbar": {
                          "outlinewidth": 0,
                          "ticks": ""
                        },
                        "colorscale": [
                          [
                            0,
                            "#0d0887"
                          ],
                          [
                            0.1111111111111111,
                            "#46039f"
                          ],
                          [
                            0.2222222222222222,
                            "#7201a8"
                          ],
                          [
                            0.3333333333333333,
                            "#9c179e"
                          ],
                          [
                            0.4444444444444444,
                            "#bd3786"
                          ],
                          [
                            0.5555555555555556,
                            "#d8576b"
                          ],
                          [
                            0.6666666666666666,
                            "#ed7953"
                          ],
                          [
                            0.7777777777777778,
                            "#fb9f3a"
                          ],
                          [
                            0.8888888888888888,
                            "#fdca26"
                          ],
                          [
                            1,
                            "#f0f921"
                          ]
                        ],
                        "type": "heatmap"
                      }
                    ],
                    "histogram": [
                      {
                        "marker": {
                          "pattern": {
                            "fillmode": "overlay",
                            "size": 10,
                            "solidity": 0.2
                          }
                        },
                        "type": "histogram"
                      }
                    ],
                    "histogram2d": [
                      {
                        "colorbar": {
                          "outlinewidth": 0,
                          "ticks": ""
                        },
                        "colorscale": [
                          [
                            0,
                            "#0d0887"
                          ],
                          [
                            0.1111111111111111,
                            "#46039f"
                          ],
                          [
                            0.2222222222222222,
                            "#7201a8"
                          ],
                          [
                            0.3333333333333333,
                            "#9c179e"
                          ],
                          [
                            0.4444444444444444,
                            "#bd3786"
                          ],
                          [
                            0.5555555555555556,
                            "#d8576b"
                          ],
                          [
                            0.6666666666666666,
                            "#ed7953"
                          ],
                          [
                            0.7777777777777778,
                            "#fb9f3a"
                          ],
                          [
                            0.8888888888888888,
                            "#fdca26"
                          ],
                          [
                            1,
                            "#f0f921"
                          ]
                        ],
                        "type": "histogram2d"
                      }
                    ],
                    "histogram2dcontour": [
                      {
                        "colorbar": {
                          "outlinewidth": 0,
                          "ticks": ""
                        },
                        "colorscale": [
                          [
                            0,
                            "#0d0887"
                          ],
                          [
                            0.1111111111111111,
                            "#46039f"
                          ],
                          [
                            0.2222222222222222,
                            "#7201a8"
                          ],
                          [
                            0.3333333333333333,
                            "#9c179e"
                          ],
                          [
                            0.4444444444444444,
                            "#bd3786"
                          ],
                          [
                            0.5555555555555556,
                            "#d8576b"
                          ],
                          [
                            0.6666666666666666,
                            "#ed7953"
                          ],
                          [
                            0.7777777777777778,
                            "#fb9f3a"
                          ],
                          [
                            0.8888888888888888,
                            "#fdca26"
                          ],
                          [
                            1,
                            "#f0f921"
                          ]
                        ],
                        "type": "histogram2dcontour"
                      }
                    ],
                    "mesh3d": [
                      {
                        "colorbar": {
                          "outlinewidth": 0,
                          "ticks": ""
                        },
                        "type": "mesh3d"
                      }
                    ],
                    "parcoords": [
                      {
                        "line": {
                          "colorbar": {
                            "outlinewidth": 0,
                            "ticks": ""
                          }
                        },
                        "type": "parcoords"
                      }
                    ],
                    "pie": [
                      {
                        "automargin": true,
                        "type": "pie"
                      }
                    ],
                    "scatter": [
                      {
                        "fillpattern": {
                          "fillmode": "overlay",
                          "size": 10,
                          "solidity": 0.2
                        },
                        "type": "scatter"
                      }
                    ],
                    "scatter3d": [
                      {
                        "line": {
                          "colorbar": {
                            "outlinewidth": 0,
                            "ticks": ""
                          }
                        },
                        "marker": {
                          "colorbar": {
                            "outlinewidth": 0,
                            "ticks": ""
                          }
                        },
                        "type": "scatter3d"
                      }
                    ],
                    "scattercarpet": [
                      {
                        "marker": {
                          "colorbar": {
                            "outlinewidth": 0,
                            "ticks": ""
                          }
                        },
                        "type": "scattercarpet"
                      }
                    ],
                    "scattergeo": [
                      {
                        "marker": {
                          "colorbar": {
                            "outlinewidth": 0,
                            "ticks": ""
                          }
                        },
                        "type": "scattergeo"
                      }
                    ],
                    "scattergl": [
                      {
                        "marker": {
                          "colorbar": {
                            "outlinewidth": 0,
                            "ticks": ""
                          }
                        },
                        "type": "scattergl"
                      }
                    ],
                    "scattermap": [
                      {
                        "marker": {
                          "colorbar": {
                            "outlinewidth": 0,
                            "ticks": ""
                          }
                        },
                        "type": "scattermap"
                      }
                    ],
                    "scattermapbox": [
                      {
                        "marker": {
                          "colorbar": {
                            "outlinewidth": 0,
                            "ticks": ""
                          }
                        },
                        "type": "scattermapbox"
                      }
                    ],
                    "scatterpolar": [
                      {
                        "marker": {
                          "colorbar": {
                            "outlinewidth": 0,
                            "ticks": ""
                          }
                        },
                        "type": "scatterpolar"
                      }
                    ],
                    "scatterpolargl": [
                      {
                        "marker": {
                          "colorbar": {
                            "outlinewidth": 0,
                            "ticks": ""
                          }
                        },
                        "type": "scatterpolargl"
                      }
                    ],
                    "scatterternary": [
                      {
                        "marker": {
                          "colorbar": {
                            "outlinewidth": 0,
                            "ticks": ""
                          }
                        },
                        "type": "scatterternary"
                      }
                    ],
                    "surface": [
                      {
                        "colorbar": {
                          "outlinewidth": 0,
                          "ticks": ""
                        },
                        "colorscale": [
                          [
                            0,
                            "#0d0887"
                          ],
                          [
                            0.1111111111111111,
                            "#46039f"
                          ],
                          [
                            0.2222222222222222,
                            "#7201a8"
                          ],
                          [
                            0.3333333333333333,
                            "#9c179e"
                          ],
                          [
                            0.4444444444444444,
                            "#bd3786"
                          ],
                          [
                            0.5555555555555556,
                            "#d8576b"
                          ],
                          [
                            0.6666666666666666,
                            "#ed7953"
                          ],
                          [
                            0.7777777777777778,
                            "#fb9f3a"
                          ],
                          [
                            0.8888888888888888,
                            "#fdca26"
                          ],
                          [
                            1,
                            "#f0f921"
                          ]
                        ],
                        "type": "surface"
                      }
                    ],
                    "table": [
                      {
                        "cells": {
                          "fill": {
                            "color": "#EBF0F8"
                          },
                          "line": {
                            "color": "white"
                          }
                        },
                        "header": {
                          "fill": {
                            "color": "#C8D4E3"
                          },
                          "line": {
                            "color": "white"
                          }
                        },
                        "type": "table"
                      }
                    ]
                  },
                  "layout": {
                    "annotationdefaults": {
                      "arrowcolor": "#2a3f5f",
                      "arrowhead": 0,
                      "arrowwidth": 1
                    },
                    "autotypenumbers": "strict",
                    "coloraxis": {
                      "colorbar": {
                        "outlinewidth": 0,
                        "ticks": ""
                      }
                    },
                    "colorscale": {
                      "diverging": [
                        [
                          0,
                          "#8e0152"
                        ],
                        [
                          0.1,
                          "#c51b7d"
                        ],
                        [
                          0.2,
                          "#de77ae"
                        ],
                        [
                          0.3,
                          "#f1b6da"
                        ],
                        [
                          0.4,
                          "#fde0ef"
                        ],
                        [
                          0.5,
                          "#f7f7f7"
                        ],
                        [
                          0.6,
                          "#e6f5d0"
                        ],
                        [
                          0.7,
                          "#b8e186"
                        ],
                        [
                          0.8,
                          "#7fbc41"
                        ],
                        [
                          0.9,
                          "#4d9221"
                        ],
                        [
                          1,
                          "#276419"
                        ]
                      ],
                      "sequential": [
                        [
                          0,
                          "#0d0887"
                        ],
                        [
                          0.1111111111111111,
                          "#46039f"
                        ],
                        [
                          0.2222222222222222,
                          "#7201a8"
                        ],
                        [
                          0.3333333333333333,
                          "#9c179e"
                        ],
                        [
                          0.4444444444444444,
                          "#bd3786"
                        ],
                        [
                          0.5555555555555556,
                          "#d8576b"
                        ],
                        [
                          0.6666666666666666,
                          "#ed7953"
                        ],
                        [
                          0.7777777777777778,
                          "#fb9f3a"
                        ],
                        [
                          0.8888888888888888,
                          "#fdca26"
                        ],
                        [
                          1,
                          "#f0f921"
                        ]
                      ],
                      "sequentialminus": [
                        [
                          0,
                          "#0d0887"
                        ],
                        [
                          0.1111111111111111,
                          "#46039f"
                        ],
                        [
                          0.2222222222222222,
                          "#7201a8"
                        ],
                        [
                          0.3333333333333333,
                          "#9c179e"
                        ],
                        [
                          0.4444444444444444,
                          "#bd3786"
                        ],
                        [
                          0.5555555555555556,
                          "#d8576b"
                        ],
                        [
                          0.6666666666666666,
                          "#ed7953"
                        ],
                        [
                          0.7777777777777778,
                          "#fb9f3a"
                        ],
                        [
                          0.8888888888888888,
                          "#fdca26"
                        ],
                        [
                          1,
                          "#f0f921"
                        ]
                      ]
                    },
                    "colorway": [
                      "#636efa",
                      "#EF553B",
                      "#00cc96",
                      "#ab63fa",
                      "#FFA15A",
                      "#19d3f3",
                      "#FF6692",
                      "#B6E880",
                      "#FF97FF",
                      "#FECB52"
                    ],
                    "font": {
                      "color": "#2a3f5f"
                    },
                    "geo": {
                      "bgcolor": "white",
                      "lakecolor": "white",
                      "landcolor": "#E5ECF6",
                      "showlakes": true,
                      "showland": true,
                      "subunitcolor": "white"
                    },
                    "hoverlabel": {
                      "align": "left"
                    },
                    "hovermode": "closest",
                    "mapbox": {
                      "style": "light"
                    },
                    "paper_bgcolor": "white",
                    "plot_bgcolor": "#E5ECF6",
                    "polar": {
                      "angularaxis": {
                        "gridcolor": "white",
                        "linecolor": "white",
                        "ticks": ""
                      },
                      "bgcolor": "#E5ECF6",
                      "radialaxis": {
                        "gridcolor": "white",
                        "linecolor": "white",
                        "ticks": ""
                      }
                    },
                    "scene": {
                      "xaxis": {
                        "backgroundcolor": "#E5ECF6",
                        "gridcolor": "white",
                        "gridwidth": 2,
                        "linecolor": "white",
                        "showbackground": true,
                        "ticks": "",
                        "zerolinecolor": "white"
                      },
                      "yaxis": {
                        "backgroundcolor": "#E5ECF6",
                        "gridcolor": "white",
                        "gridwidth": 2,
                        "linecolor": "white",
                        "showbackground": true,
                        "ticks": "",
                        "zerolinecolor": "white"
                      },
                      "zaxis": {
                        "backgroundcolor": "#E5ECF6",
                        "gridcolor": "white",
                        "gridwidth": 2,
                        "linecolor": "white",
                        "showbackground": true,
                        "ticks": "",
                        "zerolinecolor": "white"
                      }
                    },
                    "shapedefaults": {
                      "line": {
                        "color": "#2a3f5f"
                      }
                    },
                    "ternary": {
                      "aaxis": {
                        "gridcolor": "white",
                        "linecolor": "white",
                        "ticks": ""
                      },
                      "baxis": {
                        "gridcolor": "white",
                        "linecolor": "white",
                        "ticks": ""
                      },
                      "bgcolor": "#E5ECF6",
                      "caxis": {
                        "gridcolor": "white",
                        "linecolor": "white",
                        "ticks": ""
                      }
                    },
                    "title": {
                      "x": 0.05
                    },
                    "xaxis": {
                      "automargin": true,
                      "gridcolor": "white",
                      "linecolor": "white",
                      "ticks": "",
                      "title": {
                        "standoff": 15
                      },
                      "zerolinecolor": "white",
                      "zerolinewidth": 2
                    },
                    "yaxis": {
                      "automargin": true,
                      "gridcolor": "white",
                      "linecolor": "white",
                      "ticks": "",
                      "title": {
                        "standoff": 15
                      },
                      "zerolinecolor": "white",
                      "zerolinewidth": 2
                    }
                  }
                },
                "title": {
                  "text": "Salário médio anual de Cientista de Dados por país"
                }
              }
            }
          },
          "metadata": {},
          "output_type": "display_data"
        }
      ],
      "source": [
        "def iso2_to_iso3(code):\n",
        "    try: \n",
        "        return pycountry.countries.get(alpha_2=code).alpha_3\n",
        "    except:\n",
        "        return None\n",
        "\n",
        "df_cleaned['residencia_iso3'] = df_cleaned['residencia'].apply(iso2_to_iso3)\n",
        "\n",
        "df_ds = df_cleaned[df_cleaned['cargo'] == 'Data Scientist']\n",
        "media_ds_pais = df_ds.groupby('residencia_iso3')['usd'].mean().reset_index()\n",
        "\n",
        "fig = px.choropleth(media_ds_pais,\n",
        "                    locations='residencia_iso3',\n",
        "                    color='usd',\n",
        "                    color_continuous_scale='rdylgn',\n",
        "                    title='Salário médio anual de Cientista de Dados por país',\n",
        "                    labels={'usd': 'Salário médio anual (USD)', 'residencia_iso3': 'País'},)\n",
        "\n",
        "fig.show()"
      ]
    },
    {
      "cell_type": "code",
      "execution_count": 78,
      "metadata": {},
      "outputs": [],
      "source": [
        "df_cleaned.to_csv('dados-imersao-final.csv', index=False)"
      ]
    }
  ],
  "metadata": {
    "colab": {
      "provenance": []
    },
    "kernelspec": {
      "display_name": "Python 3",
      "name": "python3"
    },
    "language_info": {
      "codemirror_mode": {
        "name": "ipython",
        "version": 3
      },
      "file_extension": ".py",
      "mimetype": "text/x-python",
      "name": "python",
      "nbconvert_exporter": "python",
      "pygments_lexer": "ipython3",
      "version": "3.11.1"
    }
  },
  "nbformat": 4,
  "nbformat_minor": 0
}
